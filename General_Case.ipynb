{
 "cells": [
  {
   "cell_type": "code",
   "execution_count": 2,
   "id": "bb585824-6a68-48a5-b3f0-59b1c751998c",
   "metadata": {
    "ExecuteTime": {
     "end_time": "2025-01-09T16:49:43.159458Z",
     "start_time": "2025-01-09T16:49:43.138522Z"
    }
   },
   "outputs": [],
   "source": [
    "import sympy\n",
    "from sympy import Derivative, Function, Symbol, symbols, Eq, pi, cos, sin, exp, log, oo\n",
    "from sympy import Function, dsolve, Derivative, checkodesol\n",
    "from sympy import fps, Rational\n",
    "from sympy import pprint, Matrix, eye, zeros\n",
    "from sympy import Inverse\n",
    "from utils import *\n",
    "z = Symbol('z')"
   ]
  },
  {
   "cell_type": "markdown",
   "id": "32928672-8252-4cdc-8d10-4245fd374239",
   "metadata": {},
   "source": [
    "Restate the problem that we want to solve: \n",
    "\n",
    "$$z^k \\frac{d\\psi}{dz} = A(z)\\psi$$, where $\\psi$ is a vector-valued function and $A(z)$ as a given matrix-valued function is holomorphic.\n",
    "\n",
    "In the general case where we can't find it directly, we use Formal Gauge transform to simplify the system, and solve it in diagonal version. Then, $\\hat{\\Phi}(u, z) = \\hat{\\Psi}(t(u, z)) \\hat{\\Psi}^{-1}(s(u,z))$ is the formal universal solution on Sto_k, while since $\\Phi$ is unique, then this means that $\\hat{\\Phi}$ is the power series of $\\Phi$, so it must be convergent since $\\Phi$ is entire.\n",
    "\n",
    "To do the Gauge transformation, the core idea is to transfer it to the case where $z^k \\frac{d\\phi}{dz} = (D_0+zD_1+...z^{k-1}D_{k-1})\\phi$, where $D_i$ are diagonal, which can be easily solve by entries on both sides.\n",
    "\n",
    "In order to solve this problem, we first need to make a change of variables $\\psi' = F \\psi$, whereas $F = 1+zF_1 + z^2F_2 + ...$\n"
   ]
  },
  {
   "cell_type": "markdown",
   "id": "1420a2d3-90b8-4bce-a8d5-f9bd22988dd4",
   "metadata": {},
   "source": [
    "\n",
    "\n",
    "\n",
    "\n",
    "\n",
    "\n",
    "\n",
    "In this step, we let $F = (I+zH_1)(I+z^2H_2)...$"
   ]
  },
  {
   "cell_type": "markdown",
   "id": "8c5414de-0429-43be-b3d4-2b9dea169b49",
   "metadata": {},
   "source": [
    "where $H_p = \\begin{cases} {ad}^{-1}_{A_0}(A_p^{OD}) \\text{   if   } k > 1 \\\\ ({ad}_{A_0} - p)^{-1}(A_p^{OD}) \\text{    if   } k = 1  \\end{cases}$\n",
    "\n",
    "After this transform, the ODE becomes $z^k \\frac{d\\psi'}{dz} = (diagonal(A_0) + diagonal(A_1)z + ...) \\psi'$\n",
    "\n",
    "After doing this, we make the second Gauge Transform to transform it to the finite case, \n",
    "\n",
    "which is the transform $K = \\exp(-\\int{D_k+D_{k+1}z+...})$\n"
   ]
  },
  {
   "cell_type": "markdown",
   "id": "945bf5bc-fa36-4a99-8720-1ce5679adc39",
   "metadata": {},
   "source": [
    "Finally, the simplified system is $z^k \\frac{d\\psi''}{dz} = (diagonal(A_0) + diagonal(A_1)z + ...+ diagonal(A_{k-1})z^{k-1}) \\psi''$\n",
    "\n",
    "and the overall Gauge transform is $(KF)$[...], and the inverse is $(KF)^{-1}$[...], so $\\psi = (KF)^{-1}\\psi''$\n",
    "\n",
    "After we get the fundamental solution $\\Psi$, we can construct $\\Phi$ on the Sto_k in a similar way."
   ]
  },
  {
   "cell_type": "code",
   "execution_count": null,
   "id": "40c0f077-c3b9-41cb-b4ac-c3439bca0798",
   "metadata": {},
   "outputs": [],
   "source": []
  },
  {
   "cell_type": "markdown",
   "id": "337173b1-8fa4-4309-a153-c8c511de68cc",
   "metadata": {},
   "source": [
    "Example1: \n",
    "\n",
    "$z^2 \\psi' = \\begin{pmatrix} \\cos(z)+1 & \\sin(z) \\\\ -\\sin(z) & \\cos(z) \\end{pmatrix} \\psi$ \n",
    "\n",
    "We are working on Sto_2\n",
    "\n",
    "We trancate the Gauge Transform series up to some given order "
   ]
  },
  {
   "cell_type": "code",
   "execution_count": 67,
   "id": "758d4f66-67e5-4aba-a2c5-a04875557057",
   "metadata": {},
   "outputs": [],
   "source": [
    "A = Matrix([[cos(z)+1, sin(z)], [-sin(z), cos(z)]])\n",
    "n = 2\n",
    "k = 2\n",
    "order = 3\n",
    "# This means that we only approaching using the first 3 terms"
   ]
  },
  {
   "cell_type": "code",
   "execution_count": 10,
   "id": "f45cb6ab-5117-4265-87df-6748ae27d37c",
   "metadata": {},
   "outputs": [],
   "source": [
    "K_trunc, F_trunc, Total = get_Gauge_up_to_order(A, k, order)"
   ]
  },
  {
   "cell_type": "code",
   "execution_count": 11,
   "id": "c67c62c1-4dce-406d-8e37-cdc07910e8fb",
   "metadata": {},
   "outputs": [
    {
     "data": {
      "text/latex": [
       "$\\displaystyle \\left[\\begin{matrix}\\cosh{\\left(\\frac{z^{2}}{12} \\right)} & \\sinh{\\left(\\frac{z^{2}}{12} \\right)}\\\\\\sinh{\\left(\\frac{z^{2}}{12} \\right)} & \\cosh{\\left(\\frac{z^{2}}{12} \\right)}\\end{matrix}\\right]$"
      ],
      "text/plain": [
       "Matrix([\n",
       "[cosh(z**2/12), sinh(z**2/12)],\n",
       "[sinh(z**2/12), cosh(z**2/12)]])"
      ]
     },
     "execution_count": 11,
     "metadata": {},
     "output_type": "execute_result"
    }
   ],
   "source": [
    "K_trunc"
   ]
  },
  {
   "cell_type": "code",
   "execution_count": 12,
   "id": "fd517bad-da9e-4530-a675-a0d643aa056f",
   "metadata": {},
   "outputs": [
    {
     "data": {
      "text/latex": [
       "$\\displaystyle \\left[\\begin{matrix}1 & z\\\\z & 1\\end{matrix}\\right]$"
      ],
      "text/plain": [
       "Matrix([\n",
       "[1, z],\n",
       "[z, 1]])"
      ]
     },
     "execution_count": 12,
     "metadata": {},
     "output_type": "execute_result"
    }
   ],
   "source": [
    "F_trunc"
   ]
  },
  {
   "cell_type": "code",
   "execution_count": 16,
   "id": "7176baa6-9c2e-4856-8d9f-0b9ca878c472",
   "metadata": {},
   "outputs": [
    {
     "data": {
      "text/latex": [
       "$\\displaystyle \\left[\\begin{matrix}z \\sinh{\\left(\\frac{z^{2}}{12} \\right)} + \\cosh{\\left(\\frac{z^{2}}{12} \\right)} & z \\cosh{\\left(\\frac{z^{2}}{12} \\right)} + \\sinh{\\left(\\frac{z^{2}}{12} \\right)}\\\\z \\cosh{\\left(\\frac{z^{2}}{12} \\right)} + \\sinh{\\left(\\frac{z^{2}}{12} \\right)} & z \\sinh{\\left(\\frac{z^{2}}{12} \\right)} + \\cosh{\\left(\\frac{z^{2}}{12} \\right)}\\end{matrix}\\right]$"
      ],
      "text/plain": [
       "Matrix([\n",
       "[z*sinh(z**2/12) + cosh(z**2/12), z*cosh(z**2/12) + sinh(z**2/12)],\n",
       "[z*cosh(z**2/12) + sinh(z**2/12), z*sinh(z**2/12) + cosh(z**2/12)]])"
      ]
     },
     "execution_count": 16,
     "metadata": {},
     "output_type": "execute_result"
    }
   ],
   "source": [
    "Total"
   ]
  },
  {
   "cell_type": "code",
   "execution_count": 18,
   "id": "d99fcaea-c4e3-402d-9781-003bf6dd6871",
   "metadata": {},
   "outputs": [],
   "source": [
    "Total_inverse = Total.inverse()"
   ]
  },
  {
   "cell_type": "code",
   "execution_count": 19,
   "id": "a83ed0fb-28f0-4917-8a9d-bedbe6e72729",
   "metadata": {
    "scrolled": true
   },
   "outputs": [
    {
     "data": {
      "text/latex": [
       "$\\displaystyle \\left[\\begin{matrix}\\frac{- z \\sinh{\\left(\\frac{z^{2}}{12} \\right)} - \\cosh{\\left(\\frac{z^{2}}{12} \\right)}}{- z^{2} \\sinh^{2}{\\left(\\frac{z^{2}}{12} \\right)} + z^{2} \\cosh^{2}{\\left(\\frac{z^{2}}{12} \\right)} + \\sinh^{2}{\\left(\\frac{z^{2}}{12} \\right)} - \\cosh^{2}{\\left(\\frac{z^{2}}{12} \\right)}} & \\frac{z \\cosh{\\left(\\frac{z^{2}}{12} \\right)} + \\sinh{\\left(\\frac{z^{2}}{12} \\right)}}{- z^{2} \\sinh^{2}{\\left(\\frac{z^{2}}{12} \\right)} + z^{2} \\cosh^{2}{\\left(\\frac{z^{2}}{12} \\right)} + \\sinh^{2}{\\left(\\frac{z^{2}}{12} \\right)} - \\cosh^{2}{\\left(\\frac{z^{2}}{12} \\right)}}\\\\\\frac{z \\cosh{\\left(\\frac{z^{2}}{12} \\right)} + \\sinh{\\left(\\frac{z^{2}}{12} \\right)}}{- z^{2} \\sinh^{2}{\\left(\\frac{z^{2}}{12} \\right)} + z^{2} \\cosh^{2}{\\left(\\frac{z^{2}}{12} \\right)} + \\sinh^{2}{\\left(\\frac{z^{2}}{12} \\right)} - \\cosh^{2}{\\left(\\frac{z^{2}}{12} \\right)}} & \\frac{- z \\sinh{\\left(\\frac{z^{2}}{12} \\right)} - \\cosh{\\left(\\frac{z^{2}}{12} \\right)}}{- z^{2} \\sinh^{2}{\\left(\\frac{z^{2}}{12} \\right)} + z^{2} \\cosh^{2}{\\left(\\frac{z^{2}}{12} \\right)} + \\sinh^{2}{\\left(\\frac{z^{2}}{12} \\right)} - \\cosh^{2}{\\left(\\frac{z^{2}}{12} \\right)}}\\end{matrix}\\right]$"
      ],
      "text/plain": [
       "Matrix([\n",
       "[(-z*sinh(z**2/12) - cosh(z**2/12))/(-z**2*sinh(z**2/12)**2 + z**2*cosh(z**2/12)**2 + sinh(z**2/12)**2 - cosh(z**2/12)**2),  (z*cosh(z**2/12) + sinh(z**2/12))/(-z**2*sinh(z**2/12)**2 + z**2*cosh(z**2/12)**2 + sinh(z**2/12)**2 - cosh(z**2/12)**2)],\n",
       "[ (z*cosh(z**2/12) + sinh(z**2/12))/(-z**2*sinh(z**2/12)**2 + z**2*cosh(z**2/12)**2 + sinh(z**2/12)**2 - cosh(z**2/12)**2), (-z*sinh(z**2/12) - cosh(z**2/12))/(-z**2*sinh(z**2/12)**2 + z**2*cosh(z**2/12)**2 + sinh(z**2/12)**2 - cosh(z**2/12)**2)]])"
      ]
     },
     "execution_count": 19,
     "metadata": {},
     "output_type": "execute_result"
    }
   ],
   "source": [
    "Total_inverse"
   ]
  },
  {
   "cell_type": "markdown",
   "id": "c903c448-0e11-4798-bf2c-2ab58dda9b9d",
   "metadata": {},
   "source": [
    "Note that Gauge Transform is a group action, meaning that $F_1[F_2[A]] = (F_1F_2)[A]$ so the inverse Gauge Transform is the Gauge Transform of the inverse Matrix, and composed Gauge Transform is the transform of the product Matrix."
   ]
  },
  {
   "cell_type": "markdown",
   "id": "a8a0a7d8-9ef7-4aed-b929-61d27694a4a2",
   "metadata": {},
   "source": [
    "Finally, the equation is $z^k \\psi' = diag(A_0) + diag(A_1)z + ... + diag(A_{k-1})z^{k-1}$"
   ]
  },
  {
   "cell_type": "code",
   "execution_count": 22,
   "id": "65c2241f-577a-492b-95d3-9f121c7df82d",
   "metadata": {},
   "outputs": [],
   "source": [
    "Psi_prime, Phi_prime = solve_phi(k, A)"
   ]
  },
  {
   "cell_type": "code",
   "execution_count": 23,
   "id": "b2a71d80-f214-4e8d-9ce3-05216404a141",
   "metadata": {},
   "outputs": [
    {
     "data": {
      "text/latex": [
       "$\\displaystyle \\left[\\begin{matrix}e^{- \\frac{2}{z}} & 0\\\\0 & e^{- \\frac{1}{z}}\\end{matrix}\\right]$"
      ],
      "text/plain": [
       "Matrix([\n",
       "[exp(-2/z),         0],\n",
       "[        0, exp(-1/z)]])"
      ]
     },
     "execution_count": 23,
     "metadata": {},
     "output_type": "execute_result"
    }
   ],
   "source": [
    "Psi_prime"
   ]
  },
  {
   "cell_type": "code",
   "execution_count": 24,
   "id": "5f18b2d9-14b8-4e91-bc5f-f64aefc726d1",
   "metadata": {},
   "outputs": [
    {
     "data": {
      "text/latex": [
       "$\\displaystyle \\left[\\begin{matrix}e^{\\frac{2 \\left(1 - e^{- u z}\\right)}{z}} & 0\\\\0 & e^{\\frac{1 - e^{- u z}}{z}}\\end{matrix}\\right]$"
      ],
      "text/plain": [
       "Matrix([\n",
       "[exp(2*(1 - exp(-u*z))/z),                      0],\n",
       "[                       0, exp((1 - exp(-u*z))/z)]])"
      ]
     },
     "execution_count": 24,
     "metadata": {},
     "output_type": "execute_result"
    }
   ],
   "source": [
    "Phi_prime"
   ]
  },
  {
   "cell_type": "markdown",
   "id": "86c61fd3-fc32-432f-9679-495cbc41e3d9",
   "metadata": {},
   "source": [
    "The final solution is $T^{-1}\\Psi$ (we use $T$ to denote the initial change of coordinate that we applied to simplify the system)\n",
    "\n",
    "$T^{-1}$ is the Total_inverse that we just found above."
   ]
  },
  {
   "cell_type": "markdown",
   "id": "0a8531e2-222d-40ed-b8f7-2e4e79c0209e",
   "metadata": {},
   "source": [
    "So the final solution $\\Psi$ is "
   ]
  },
  {
   "cell_type": "code",
   "execution_count": 28,
   "id": "3deced74-ab3d-45a9-bacd-112acff9357a",
   "metadata": {},
   "outputs": [],
   "source": [
    "Psi = Total_inverse * Psi_prime"
   ]
  },
  {
   "cell_type": "markdown",
   "id": "ec143e23-5cea-40e0-bc66-8525ea23cf59",
   "metadata": {},
   "source": [
    "Hence, the original universal solution in the Stokes groupoid of order $k$ is "
   ]
  },
  {
   "cell_type": "code",
   "execution_count": 31,
   "id": "5bc9a850-db8c-4186-95bc-f4331eb2afe0",
   "metadata": {},
   "outputs": [],
   "source": [
    "Phi = get_phi_from_psi(Psi, k)"
   ]
  },
  {
   "cell_type": "code",
   "execution_count": 33,
   "id": "460e7a38-aa3b-4c39-9ecc-a3ef5ced7c40",
   "metadata": {},
   "outputs": [
    {
     "data": {
      "text/latex": [
       "$\\displaystyle \\left[\\begin{matrix}- \\frac{\\left(\\left(z \\sinh{\\left(\\frac{z^{2}}{12} \\right)} + \\cosh{\\left(\\frac{z^{2}}{12} \\right)}\\right) \\left(z e^{u z} \\sinh{\\left(\\frac{z^{2} e^{2 u z}}{12} \\right)} + \\cosh{\\left(\\frac{z^{2} e^{2 u z}}{12} \\right)}\\right) e^{\\frac{\\left(2 e^{u z} + 1\\right) e^{- u z} + 2}{z}} - \\left(z \\cosh{\\left(\\frac{z^{2}}{12} \\right)} + \\sinh{\\left(\\frac{z^{2}}{12} \\right)}\\right) \\left(z e^{u z} \\cosh{\\left(\\frac{z^{2} e^{2 u z}}{12} \\right)} + \\sinh{\\left(\\frac{z^{2} e^{2 u z}}{12} \\right)}\\right) e^{\\frac{\\left(3 e^{u z} + 2\\right) e^{- u z}}{z}}\\right) e^{- \\frac{\\left(5 e^{u z} + 3\\right) e^{- u z} - 3}{z}}}{z^{2} e^{2 u z} - 1} & \\frac{\\left(\\left(z \\sinh{\\left(\\frac{z^{2}}{12} \\right)} + \\cosh{\\left(\\frac{z^{2}}{12} \\right)}\\right) \\left(z e^{u z} \\cosh{\\left(\\frac{z^{2} e^{2 u z}}{12} \\right)} + \\sinh{\\left(\\frac{z^{2} e^{2 u z}}{12} \\right)}\\right) e^{\\frac{\\left(3 e^{u z} + 2\\right) e^{- u z}}{z}} - \\left(z \\cosh{\\left(\\frac{z^{2}}{12} \\right)} + \\sinh{\\left(\\frac{z^{2}}{12} \\right)}\\right) \\left(z e^{u z} \\sinh{\\left(\\frac{z^{2} e^{2 u z}}{12} \\right)} + \\cosh{\\left(\\frac{z^{2} e^{2 u z}}{12} \\right)}\\right) e^{\\frac{\\left(2 e^{u z} + 1\\right) e^{- u z} + 2}{z}}\\right) e^{- \\frac{\\left(5 e^{u z} + 3\\right) e^{- u z} - 3}{z}}}{z^{2} e^{2 u z} - 1}\\\\\\frac{\\left(\\left(z \\sinh{\\left(\\frac{z^{2}}{12} \\right)} + \\cosh{\\left(\\frac{z^{2}}{12} \\right)}\\right) \\left(z e^{u z} \\cosh{\\left(\\frac{z^{2} e^{2 u z}}{12} \\right)} + \\sinh{\\left(\\frac{z^{2} e^{2 u z}}{12} \\right)}\\right) e^{\\frac{\\left(2 e^{u z} + 1\\right) e^{- u z} + 2}{z}} - \\left(z \\cosh{\\left(\\frac{z^{2}}{12} \\right)} + \\sinh{\\left(\\frac{z^{2}}{12} \\right)}\\right) \\left(z e^{u z} \\sinh{\\left(\\frac{z^{2} e^{2 u z}}{12} \\right)} + \\cosh{\\left(\\frac{z^{2} e^{2 u z}}{12} \\right)}\\right) e^{\\frac{\\left(3 e^{u z} + 2\\right) e^{- u z}}{z}}\\right) e^{- \\frac{\\left(5 e^{u z} + 3\\right) e^{- u z} - 3}{z}}}{z^{2} e^{2 u z} - 1} & - \\frac{\\left(\\left(z \\sinh{\\left(\\frac{z^{2}}{12} \\right)} + \\cosh{\\left(\\frac{z^{2}}{12} \\right)}\\right) \\left(z e^{u z} \\sinh{\\left(\\frac{z^{2} e^{2 u z}}{12} \\right)} + \\cosh{\\left(\\frac{z^{2} e^{2 u z}}{12} \\right)}\\right) e^{\\frac{\\left(3 e^{u z} + 2\\right) e^{- u z}}{z}} - \\left(z \\cosh{\\left(\\frac{z^{2}}{12} \\right)} + \\sinh{\\left(\\frac{z^{2}}{12} \\right)}\\right) \\left(z e^{u z} \\cosh{\\left(\\frac{z^{2} e^{2 u z}}{12} \\right)} + \\sinh{\\left(\\frac{z^{2} e^{2 u z}}{12} \\right)}\\right) e^{\\frac{\\left(2 e^{u z} + 1\\right) e^{- u z} + 2}{z}}\\right) e^{- \\frac{\\left(5 e^{u z} + 3\\right) e^{- u z} - 3}{z}}}{z^{2} e^{2 u z} - 1}\\end{matrix}\\right]$"
      ],
      "text/plain": [
       "Matrix([\n",
       "[-((z*sinh(z**2/12) + cosh(z**2/12))*(z*exp(u*z)*sinh(z**2*exp(2*u*z)/12) + cosh(z**2*exp(2*u*z)/12))*exp(((2*exp(u*z) + 1)*exp(-u*z) + 2)/z) - (z*cosh(z**2/12) + sinh(z**2/12))*(z*exp(u*z)*cosh(z**2*exp(2*u*z)/12) + sinh(z**2*exp(2*u*z)/12))*exp((3*exp(u*z) + 2)*exp(-u*z)/z))*exp(-((5*exp(u*z) + 3)*exp(-u*z) - 3)/z)/(z**2*exp(2*u*z) - 1),  ((z*sinh(z**2/12) + cosh(z**2/12))*(z*exp(u*z)*cosh(z**2*exp(2*u*z)/12) + sinh(z**2*exp(2*u*z)/12))*exp((3*exp(u*z) + 2)*exp(-u*z)/z) - (z*cosh(z**2/12) + sinh(z**2/12))*(z*exp(u*z)*sinh(z**2*exp(2*u*z)/12) + cosh(z**2*exp(2*u*z)/12))*exp(((2*exp(u*z) + 1)*exp(-u*z) + 2)/z))*exp(-((5*exp(u*z) + 3)*exp(-u*z) - 3)/z)/(z**2*exp(2*u*z) - 1)],\n",
       "[ ((z*sinh(z**2/12) + cosh(z**2/12))*(z*exp(u*z)*cosh(z**2*exp(2*u*z)/12) + sinh(z**2*exp(2*u*z)/12))*exp(((2*exp(u*z) + 1)*exp(-u*z) + 2)/z) - (z*cosh(z**2/12) + sinh(z**2/12))*(z*exp(u*z)*sinh(z**2*exp(2*u*z)/12) + cosh(z**2*exp(2*u*z)/12))*exp((3*exp(u*z) + 2)*exp(-u*z)/z))*exp(-((5*exp(u*z) + 3)*exp(-u*z) - 3)/z)/(z**2*exp(2*u*z) - 1), -((z*sinh(z**2/12) + cosh(z**2/12))*(z*exp(u*z)*sinh(z**2*exp(2*u*z)/12) + cosh(z**2*exp(2*u*z)/12))*exp((3*exp(u*z) + 2)*exp(-u*z)/z) - (z*cosh(z**2/12) + sinh(z**2/12))*(z*exp(u*z)*cosh(z**2*exp(2*u*z)/12) + sinh(z**2*exp(2*u*z)/12))*exp(((2*exp(u*z) + 1)*exp(-u*z) + 2)/z))*exp(-((5*exp(u*z) + 3)*exp(-u*z) - 3)/z)/(z**2*exp(2*u*z) - 1)]])"
      ]
     },
     "execution_count": 33,
     "metadata": {},
     "output_type": "execute_result"
    }
   ],
   "source": [
    "Phi"
   ]
  },
  {
   "cell_type": "markdown",
   "id": "52603015-b492-4354-b6c9-ed252cad3fd5",
   "metadata": {},
   "source": []
  },
  {
   "cell_type": "code",
   "execution_count": null,
   "id": "ebfaf14c-2b74-4410-abf8-a8e1b8f34bd7",
   "metadata": {},
   "outputs": [],
   "source": []
  },
  {
   "cell_type": "markdown",
   "id": "50d1a147-2f04-42e0-b910-82e51b930c9d",
   "metadata": {},
   "source": [
    "Example2: \n",
    "\n",
    "$z^2 \\psi' = \\begin{pmatrix} z^4+3z^3+1 & z \\\\ z^2 & z^3+5z^2+7 \\end{pmatrix} \\psi$ \n",
    "\n",
    "We are working on Sto_2\n",
    "\n",
    "We trancate the Gauge Transform series up to some given order "
   ]
  },
  {
   "cell_type": "code",
   "execution_count": 35,
   "id": "f41231d6-60b5-4d18-87b8-c20f25a5de2a",
   "metadata": {},
   "outputs": [],
   "source": [
    "A = Matrix([[z**4+3*z**3+1, z], [z**2, z**3+5*z**2+7]])\n",
    "n = 2\n",
    "k = 2\n",
    "order = 10"
   ]
  },
  {
   "cell_type": "code",
   "execution_count": 37,
   "id": "88ea6cf1-d4dc-4ab1-822f-9c0541ecc518",
   "metadata": {},
   "outputs": [],
   "source": [
    "K_trunc, F_trunc, Total = get_Gauge_up_to_order(A, k, order)"
   ]
  },
  {
   "cell_type": "code",
   "execution_count": 38,
   "id": "9ec6f01c-2786-4836-b2f4-93b91008ee16",
   "metadata": {},
   "outputs": [
    {
     "data": {
      "text/latex": [
       "$\\displaystyle \\left[\\begin{matrix}\\frac{\\left(36 - z^{3}\\right) e^{\\frac{z^{2}}{72}}}{36} & - \\frac{z e^{\\frac{z^{2}}{72}}}{6}\\\\\\frac{z^{3} - 2 \\left(1 - e^{\\frac{z^{2}}{72}}\\right) \\left(z^{3} - 36\\right)}{6 z} & 2 e^{\\frac{z^{2}}{72}} - 1\\end{matrix}\\right]$"
      ],
      "text/plain": [
       "Matrix([\n",
       "[                    (36 - z**3)*exp(z**2/72)/36,  -z*exp(z**2/72)/6],\n",
       "[(z**3 - 2*(1 - exp(z**2/72))*(z**3 - 36))/(6*z), 2*exp(z**2/72) - 1]])"
      ]
     },
     "execution_count": 38,
     "metadata": {},
     "output_type": "execute_result"
    }
   ],
   "source": [
    "Total"
   ]
  },
  {
   "cell_type": "code",
   "execution_count": 41,
   "id": "a2324c3e-dcdc-41bd-89c1-1873862d7e8a",
   "metadata": {},
   "outputs": [],
   "source": [
    "Total_inverse = Total.inverse()"
   ]
  },
  {
   "cell_type": "code",
   "execution_count": 43,
   "id": "c280d8ad-dfa5-4992-8862-ac6f2a44ebc7",
   "metadata": {},
   "outputs": [
    {
     "data": {
      "text/latex": [
       "$\\displaystyle \\left[\\begin{matrix}\\left(- e^{\\frac{z^{2}}{72}} + 2 e^{\\frac{z^{2}}{36}}\\right) e^{- \\frac{z^{2}}{36}} & \\frac{z}{6}\\\\\\frac{- 2 z^{3} + z^{3} e^{- \\frac{z^{2}}{72}} + 72 - 72 e^{- \\frac{z^{2}}{72}}}{6 z} & 1 - \\frac{z^{3}}{36}\\end{matrix}\\right]$"
      ],
      "text/plain": [
       "Matrix([\n",
       "[              (-exp(z**2/72) + 2*exp(z**2/36))*exp(-z**2/36),         z/6],\n",
       "[(-2*z**3 + z**3*exp(-z**2/72) + 72 - 72*exp(-z**2/72))/(6*z), 1 - z**3/36]])"
      ]
     },
     "execution_count": 43,
     "metadata": {},
     "output_type": "execute_result"
    }
   ],
   "source": [
    "Total_inverse"
   ]
  },
  {
   "cell_type": "markdown",
   "id": "a4eaa4ae-e45c-42ab-97ba-89f6876e2caa",
   "metadata": {},
   "source": [
    "Note that Gauge Transform is a group action, meaning that $F_1[F_2[A]] = (F_1F_2)[A]$ so the inverse Gauge Transform is the Gauge Transform of the inverse Matrix, and composed Gauge Transform is the transform of the product Matrix."
   ]
  },
  {
   "cell_type": "markdown",
   "id": "2ab94876-eafd-4dc7-9422-97e018d5b272",
   "metadata": {},
   "source": [
    "Finally, the equation is $z^k \\psi' = diag(A_0) + diag(A_1)z + ... + diag(A_{k-1})z^{k-1}$"
   ]
  },
  {
   "cell_type": "code",
   "execution_count": 52,
   "id": "668e627a-a907-46f2-a5c1-7b4718c37f4c",
   "metadata": {},
   "outputs": [],
   "source": [
    "Psi_prime, Phi_prime = solve_phi(k, A)"
   ]
  },
  {
   "cell_type": "code",
   "execution_count": 53,
   "id": "4095d309-97b0-4181-aa83-e56283781d50",
   "metadata": {},
   "outputs": [
    {
     "data": {
      "text/latex": [
       "$\\displaystyle \\left[\\begin{matrix}e^{- \\frac{1}{z}} & 0\\\\0 & e^{- \\frac{7}{z}}\\end{matrix}\\right]$"
      ],
      "text/plain": [
       "Matrix([\n",
       "[exp(-1/z),         0],\n",
       "[        0, exp(-7/z)]])"
      ]
     },
     "execution_count": 53,
     "metadata": {},
     "output_type": "execute_result"
    }
   ],
   "source": [
    "Psi_prime"
   ]
  },
  {
   "cell_type": "code",
   "execution_count": 56,
   "id": "11f70b8c-aeb0-45f9-bee4-3aaa8817e236",
   "metadata": {},
   "outputs": [
    {
     "data": {
      "text/latex": [
       "$\\displaystyle \\left[\\begin{matrix}e^{\\frac{1 - e^{- u z}}{z}} & 0\\\\0 & e^{\\frac{7 \\left(1 - e^{- u z}\\right)}{z}}\\end{matrix}\\right]$"
      ],
      "text/plain": [
       "Matrix([\n",
       "[exp((1 - exp(-u*z))/z),                        0],\n",
       "[                     0, exp(7*(1 - exp(-u*z))/z)]])"
      ]
     },
     "execution_count": 56,
     "metadata": {},
     "output_type": "execute_result"
    }
   ],
   "source": [
    "Phi_prime"
   ]
  },
  {
   "cell_type": "markdown",
   "id": "b1e7ac6c-7ca3-4c7a-91dc-5d76c113a9b4",
   "metadata": {},
   "source": [
    "The final solution is $T^{-1}\\Psi$ (we use $T$ to denote the change of coordinate that we applied to simplify the system)\n",
    "\n",
    "$T^{-1}$ is the Total_inverse that we just found above."
   ]
  },
  {
   "cell_type": "code",
   "execution_count": 58,
   "id": "ce8cccfe-e080-4cce-afd7-8bdb169ad536",
   "metadata": {},
   "outputs": [],
   "source": [
    "T_inverse_Psi = Total_inverse * Psi_prime"
   ]
  },
  {
   "cell_type": "code",
   "execution_count": 60,
   "id": "1a9edf61-3ffd-40cb-80c6-42869ff2bd17",
   "metadata": {},
   "outputs": [
    {
     "data": {
      "text/latex": [
       "$\\displaystyle \\left[\\begin{matrix}\\left(- e^{\\frac{z^{2}}{72}} + 2 e^{\\frac{z^{2}}{36}}\\right) e^{- \\frac{1}{z}} e^{- \\frac{z^{2}}{36}} & \\frac{z e^{- \\frac{7}{z}}}{6}\\\\\\frac{\\left(- 2 z^{3} + z^{3} e^{- \\frac{z^{2}}{72}} + 72 - 72 e^{- \\frac{z^{2}}{72}}\\right) e^{- \\frac{1}{z}}}{6 z} & \\left(1 - \\frac{z^{3}}{36}\\right) e^{- \\frac{7}{z}}\\end{matrix}\\right]$"
      ],
      "text/plain": [
       "Matrix([\n",
       "[              (-exp(z**2/72) + 2*exp(z**2/36))*exp(-1/z)*exp(-z**2/36),           z*exp(-7/z)/6],\n",
       "[(-2*z**3 + z**3*exp(-z**2/72) + 72 - 72*exp(-z**2/72))*exp(-1/z)/(6*z), (1 - z**3/36)*exp(-7/z)]])"
      ]
     },
     "execution_count": 60,
     "metadata": {},
     "output_type": "execute_result"
    }
   ],
   "source": [
    "T_inverse_Psi"
   ]
  },
  {
   "cell_type": "code",
   "execution_count": 62,
   "id": "25691522-5090-4844-9b43-356c7af0f1d0",
   "metadata": {},
   "outputs": [],
   "source": [
    "Final_Phi = get_phi_from_psi(T_inverse_Psi, k)\n",
    "## This will take much long time to run."
   ]
  },
  {
   "cell_type": "code",
   "execution_count": 63,
   "id": "6a052a7f-3514-460e-b125-71f105ec9e31",
   "metadata": {},
   "outputs": [
    {
     "data": {
      "text/latex": [
       "$\\displaystyle \\left[\\begin{matrix}\\frac{\\left(\\left(e^{\\frac{z^{2} e^{2 u z}}{72}} - 2 e^{\\frac{z^{2} e^{2 u z}}{36}}\\right) \\left(4 \\left(36 - z^{3}\\right) e^{\\frac{z^{2}}{36}} + \\left(z^{3} - 36\\right) e^{\\frac{z^{2}}{72}} + 4 \\left(z^{3} - 36\\right) e^{\\frac{z^{2}}{24}}\\right) e^{\\frac{z^{2}}{24} + \\frac{3}{z} + \\frac{7 e^{- u z}}{z}} + \\left(e^{\\frac{z^{2}}{24} + \\frac{2}{z}} - 4 e^{\\frac{z^{2}}{18} + \\frac{2}{z}} + 4 e^{\\frac{5 z^{2}}{72} + \\frac{2}{z}}\\right) \\left(- z^{3} e^{\\frac{7}{z}} + 2 z^{3} e^{\\frac{z^{2}}{72} + \\frac{7}{z}} + 72 e^{\\frac{7}{z}} - 72 e^{\\frac{z^{2}}{72} + \\frac{7}{z}}\\right) e^{u z + \\frac{z^{2} e^{2 u z}}{36} + \\frac{e^{- u z}}{z}}\\right) e^{- \\frac{z^{2} e^{2 u z}}{36} - \\frac{2}{z} - \\frac{8 e^{- u z}}{z}}}{36 \\left(4 e^{\\frac{5 z^{2}}{72}} + e^{\\frac{z^{2}}{24}} - 4 e^{\\frac{z^{2}}{18}}\\right)} & \\frac{z \\left(\\left(- e^{\\frac{7}{z}} + 2 e^{\\frac{z^{2}}{72} + \\frac{7}{z}}\\right) \\left(e^{\\frac{z^{2}}{24} + \\frac{2}{z}} - 4 e^{\\frac{z^{2}}{18} + \\frac{2}{z}} + 4 e^{\\frac{5 z^{2}}{72} + \\frac{2}{z}}\\right) e^{u z + \\frac{z^{2} e^{2 u z}}{36} + \\frac{e^{- u z}}{z}} + \\left(e^{\\frac{z^{2} e^{2 u z}}{72}} - 2 e^{\\frac{z^{2} e^{2 u z}}{36}}\\right) \\left(e^{\\frac{z^{2}}{72}} - 4 e^{\\frac{z^{2}}{36}} + 4 e^{\\frac{z^{2}}{24}}\\right) e^{\\frac{z^{2}}{24} + \\frac{3}{z} + \\frac{7 e^{- u z}}{z}}\\right) e^{- \\frac{z^{2} e^{2 u z}}{36} - \\frac{2}{z} - \\frac{8 e^{- u z}}{z}}}{6 \\left(4 e^{\\frac{5 z^{2}}{72}} + e^{\\frac{z^{2}}{24}} - 4 e^{\\frac{z^{2}}{18}}\\right)}\\\\\\frac{\\left(- \\left(z^{3} e^{3 u z} - 36\\right) \\left(e^{\\frac{z^{2}}{24} + \\frac{2}{z}} - 4 e^{\\frac{z^{2}}{18} + \\frac{2}{z}} + 4 e^{\\frac{5 z^{2}}{72} + \\frac{2}{z}}\\right) \\left(- z^{3} e^{\\frac{7}{z}} + 2 z^{3} e^{\\frac{z^{2}}{72} + \\frac{7}{z}} + 72 e^{\\frac{7}{z}} - 72 e^{\\frac{z^{2}}{72} + \\frac{7}{z}}\\right) e^{u z + \\frac{z^{2} e^{2 u z}}{72} + \\frac{e^{- u z}}{z}} + \\left(- z^{3} e^{3 u z} + 2 \\left(z^{3} e^{3 u z} - 36\\right) e^{\\frac{z^{2} e^{2 u z}}{72}} + 72\\right) \\left(4 \\left(36 - z^{3}\\right) e^{\\frac{z^{2}}{36}} + \\left(z^{3} - 36\\right) e^{\\frac{z^{2}}{72}} + 4 \\left(z^{3} - 36\\right) e^{\\frac{z^{2}}{24}}\\right) e^{\\frac{z^{2}}{24} + \\frac{3}{z} + \\frac{7 e^{- u z}}{z}}\\right) e^{- u z - \\frac{z^{2} e^{2 u z}}{72} - \\frac{2}{z} - \\frac{8 e^{- u z}}{z}}}{216 z \\left(4 e^{\\frac{5 z^{2}}{72}} + e^{\\frac{z^{2}}{24}} - 4 e^{\\frac{z^{2}}{18}}\\right)} & \\frac{\\left(- \\left(z^{3} e^{3 u z} - 36\\right) \\left(- e^{\\frac{7}{z}} + 2 e^{\\frac{z^{2}}{72} + \\frac{7}{z}}\\right) \\left(e^{\\frac{z^{2}}{24} + \\frac{2}{z}} - 4 e^{\\frac{z^{2}}{18} + \\frac{2}{z}} + 4 e^{\\frac{5 z^{2}}{72} + \\frac{2}{z}}\\right) e^{u z + \\frac{z^{2} e^{2 u z}}{72} + \\frac{e^{- u z}}{z}} + \\left(- z^{3} e^{3 u z} + 2 \\left(z^{3} e^{3 u z} - 36\\right) e^{\\frac{z^{2} e^{2 u z}}{72}} + 72\\right) \\left(e^{\\frac{z^{2}}{72}} - 4 e^{\\frac{z^{2}}{36}} + 4 e^{\\frac{z^{2}}{24}}\\right) e^{\\frac{z^{2}}{24} + \\frac{3}{z} + \\frac{7 e^{- u z}}{z}}\\right) e^{- u z - \\frac{z^{2} e^{2 u z}}{72} - \\frac{2}{z} - \\frac{8 e^{- u z}}{z}}}{36 \\left(4 e^{\\frac{5 z^{2}}{72}} + e^{\\frac{z^{2}}{24}} - 4 e^{\\frac{z^{2}}{18}}\\right)}\\end{matrix}\\right]$"
      ],
      "text/plain": [
       "Matrix([\n",
       "[                                                      ((exp(z**2*exp(2*u*z)/72) - 2*exp(z**2*exp(2*u*z)/36))*(4*(36 - z**3)*exp(z**2/36) + (z**3 - 36)*exp(z**2/72) + 4*(z**3 - 36)*exp(z**2/24))*exp(z**2/24 + 3/z + 7*exp(-u*z)/z) + (exp(z**2/24 + 2/z) - 4*exp(z**2/18 + 2/z) + 4*exp(5*z**2/72 + 2/z))*(-z**3*exp(7/z) + 2*z**3*exp(z**2/72 + 7/z) + 72*exp(7/z) - 72*exp(z**2/72 + 7/z))*exp(u*z + z**2*exp(2*u*z)/36 + exp(-u*z)/z))*exp(-z**2*exp(2*u*z)/36 - 2/z - 8*exp(-u*z)/z)/(36*(4*exp(5*z**2/72) + exp(z**2/24) - 4*exp(z**2/18))),                                                   z*((-exp(7/z) + 2*exp(z**2/72 + 7/z))*(exp(z**2/24 + 2/z) - 4*exp(z**2/18 + 2/z) + 4*exp(5*z**2/72 + 2/z))*exp(u*z + z**2*exp(2*u*z)/36 + exp(-u*z)/z) + (exp(z**2*exp(2*u*z)/72) - 2*exp(z**2*exp(2*u*z)/36))*(exp(z**2/72) - 4*exp(z**2/36) + 4*exp(z**2/24))*exp(z**2/24 + 3/z + 7*exp(-u*z)/z))*exp(-z**2*exp(2*u*z)/36 - 2/z - 8*exp(-u*z)/z)/(6*(4*exp(5*z**2/72) + exp(z**2/24) - 4*exp(z**2/18)))],\n",
       "[(-(z**3*exp(3*u*z) - 36)*(exp(z**2/24 + 2/z) - 4*exp(z**2/18 + 2/z) + 4*exp(5*z**2/72 + 2/z))*(-z**3*exp(7/z) + 2*z**3*exp(z**2/72 + 7/z) + 72*exp(7/z) - 72*exp(z**2/72 + 7/z))*exp(u*z + z**2*exp(2*u*z)/72 + exp(-u*z)/z) + (-z**3*exp(3*u*z) + 2*(z**3*exp(3*u*z) - 36)*exp(z**2*exp(2*u*z)/72) + 72)*(4*(36 - z**3)*exp(z**2/36) + (z**3 - 36)*exp(z**2/72) + 4*(z**3 - 36)*exp(z**2/24))*exp(z**2/24 + 3/z + 7*exp(-u*z)/z))*exp(-u*z - z**2*exp(2*u*z)/72 - 2/z - 8*exp(-u*z)/z)/(216*z*(4*exp(5*z**2/72) + exp(z**2/24) - 4*exp(z**2/18))), (-(z**3*exp(3*u*z) - 36)*(-exp(7/z) + 2*exp(z**2/72 + 7/z))*(exp(z**2/24 + 2/z) - 4*exp(z**2/18 + 2/z) + 4*exp(5*z**2/72 + 2/z))*exp(u*z + z**2*exp(2*u*z)/72 + exp(-u*z)/z) + (-z**3*exp(3*u*z) + 2*(z**3*exp(3*u*z) - 36)*exp(z**2*exp(2*u*z)/72) + 72)*(exp(z**2/72) - 4*exp(z**2/36) + 4*exp(z**2/24))*exp(z**2/24 + 3/z + 7*exp(-u*z)/z))*exp(-u*z - z**2*exp(2*u*z)/72 - 2/z - 8*exp(-u*z)/z)/(36*(4*exp(5*z**2/72) + exp(z**2/24) - 4*exp(z**2/18)))]])"
      ]
     },
     "execution_count": 63,
     "metadata": {},
     "output_type": "execute_result"
    }
   ],
   "source": [
    "Final_Phi"
   ]
  },
  {
   "cell_type": "markdown",
   "id": "62374c09-feec-4c84-915f-801de09e886c",
   "metadata": {},
   "source": [
    "Even though we could Finally get $\\Phi$ of the original system, a limitation that we could optimize is its running time, yet nevertheless the computational ability has already surpassed human being."
   ]
  },
  {
   "cell_type": "code",
   "execution_count": null,
   "id": "bf18546c-2020-4688-bf19-9308fa7f7524",
   "metadata": {},
   "outputs": [],
   "source": []
  },
  {
   "cell_type": "code",
   "execution_count": null,
   "id": "2e4d0585-760d-45db-9457-049eb12554d7",
   "metadata": {},
   "outputs": [],
   "source": []
  },
  {
   "cell_type": "code",
   "execution_count": null,
   "id": "3024375d-5a67-4e9a-b500-f68f56074cba",
   "metadata": {},
   "outputs": [],
   "source": []
  },
  {
   "cell_type": "code",
   "execution_count": null,
   "id": "04df8fda-0933-40f0-acab-e829671d95ce",
   "metadata": {},
   "outputs": [],
   "source": []
  },
  {
   "cell_type": "code",
   "execution_count": null,
   "id": "ddd75553-6988-4b67-b3ad-c1f532af5229",
   "metadata": {},
   "outputs": [],
   "source": []
  },
  {
   "cell_type": "code",
   "execution_count": null,
   "id": "1571ea2a-93f6-4894-92e3-9a1f8793a353",
   "metadata": {},
   "outputs": [],
   "source": []
  },
  {
   "cell_type": "code",
   "execution_count": null,
   "id": "524c4a4d-8c18-485d-96ee-68eefe60384e",
   "metadata": {},
   "outputs": [],
   "source": []
  }
 ],
 "metadata": {
  "kernelspec": {
   "display_name": "Python 3 (ipykernel)",
   "language": "python",
   "name": "python3"
  },
  "language_info": {
   "codemirror_mode": {
    "name": "ipython",
    "version": 3
   },
   "file_extension": ".py",
   "mimetype": "text/x-python",
   "name": "python",
   "nbconvert_exporter": "python",
   "pygments_lexer": "ipython3",
   "version": "3.11.7"
  }
 },
 "nbformat": 4,
 "nbformat_minor": 5
}
