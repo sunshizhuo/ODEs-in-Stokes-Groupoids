{
 "cells": [
  {
   "cell_type": "code",
   "execution_count": 1,
   "id": "bb585824-6a68-48a5-b3f0-59b1c751998c",
   "metadata": {
    "ExecuteTime": {
     "end_time": "2025-01-09T16:49:43.159458Z",
     "start_time": "2025-01-09T16:49:43.138522Z"
    }
   },
   "outputs": [],
   "source": [
    "import sympy\n",
    "from sympy import Derivative, Function, Symbol, symbols, Eq, pi, cos, sin, exp, log, oo\n",
    "from sympy import Function, dsolve, Derivative, checkodesol\n",
    "from sympy import fps, Rational\n",
    "from sympy import pprint, Matrix, eye, zeros\n",
    "from sympy import Inverse\n",
    "from utils import *\n",
    "z = Symbol('z')"
   ]
  },
  {
   "cell_type": "markdown",
   "id": "32928672-8252-4cdc-8d10-4245fd374239",
   "metadata": {},
   "source": [
    "Restate the problem that we want to solve: \n",
    "\n",
    "$$z^k \\frac{d\\psi}{dz} = A(z)\\psi$$, where $\\psi$ is a vector-valued function and $A(z)$ as a given matrix-valued function is holomorphic.\n",
    "\n",
    "In the general case where we can't find it directly, we use Formal Gauge transform to simplify the system, and solve it in diagonal version. Then, $\\hat{\\Phi}(u, z) = \\hat{\\Psi}(t(u, z)) \\hat{\\Psi}^{-1}(s(u,z))$ is the formal universal solution on Sto_k, while since $\\Phi$ is unique, then this means that $\\hat{\\Phi}$ is the power series of $\\Phi$, so it must be convergent since $\\Phi$ is entire.\n",
    "\n",
    "To do the Gauge transformation, the core idea is to transfer it to the case where $z^k \\frac{d\\phi}{dz} = (D_0+zD_1+...z^{k-1}D_{k-1})\\phi$, where $D_i$ are diagonal, which can be easily solve by entries on both sides.\n",
    "\n",
    "In order to solve this problem, we first need to make a change of variables $\\psi' = F \\psi$, whereas $F = 1+zF_1 + z^2F_2 + ...$\n"
   ]
  },
  {
   "cell_type": "markdown",
   "id": "1420a2d3-90b8-4bce-a8d5-f9bd22988dd4",
   "metadata": {},
   "source": [
    "\n",
    "\n",
    "\n",
    "\n",
    "\n",
    "\n",
    "\n",
    "In this step, we let $F = (I+zH_1)(I+z^2H_2)...$"
   ]
  },
  {
   "cell_type": "markdown",
   "id": "8c5414de-0429-43be-b3d4-2b9dea169b49",
   "metadata": {},
   "source": [
    "where $H_p = \\begin{cases} {ad}^{-1}_{A_0}(A_p^{OD}) \\text{   if   } k > 1 \\\\ ({ad}_{A_0} - p)^{-1}(A_p^{OD}) \\text{    if   } k = 1  \\end{cases}$\n",
    "\n",
    "After this transform, the ODE becomes $z^k \\frac{d\\psi'}{dz} = (diagonal(A_0) + diagonal(A_1)z + ...) \\psi'$\n",
    "\n",
    "After doing this, we make the second Gauge Transform to transform it to the finite case, \n",
    "\n",
    "which is the transform $K = \\exp(-\\int{D_k+D_{k+1}z+...})$\n"
   ]
  },
  {
   "cell_type": "markdown",
   "id": "945bf5bc-fa36-4a99-8720-1ce5679adc39",
   "metadata": {},
   "source": [
    "Finally, the simplified system is $z^k \\frac{d\\psi''}{dz} = (diagonal(A_0) + diagonal(A_1)z + ...+ diagonal(A_{k-1})z^{k-1}) \\psi''$\n",
    "\n",
    "and the overall Gauge transform is $(KF)$[...], and the inverse is $(KF)^{-1}$[...], so $\\psi = (KF)^{-1}\\psi''$\n",
    "\n",
    "After we get the fundamental solution $\\Psi$, we can construct $\\Phi$ on the Sto_k in a similar way."
   ]
  },
  {
   "cell_type": "markdown",
   "id": "40c0f077-c3b9-41cb-b4ac-c3439bca0798",
   "metadata": {},
   "source": [
    "However, in order for the above approach to work, we have to impose the condition that the ODE is generic.\n",
    "\n",
    "This means that the leading term $A(0)$ is diagonalizable, with eigenvalues $(\\alpha_1, ..., \\alpha_n)$ satisfying that \n",
    "\n",
    "1. if $k \\geq 2$, then they are distinct \n",
    "\n",
    "2. if $k = 1$, they no pair of eigenvalues differs by a positive integer.\n",
    "\n",
    "This is known as the non-resonance assumption."
   ]
  },
  {
   "cell_type": "code",
   "execution_count": null,
   "id": "468d4983",
   "metadata": {},
   "outputs": [],
   "source": []
  },
  {
   "cell_type": "markdown",
   "id": "a7fefbf0",
   "metadata": {},
   "source": [
    "Example 1: \n",
    "\n",
    "$z \\psi' = \\begin{pmatrix} \\frac{1}{2} & z \\\\ 0 & 1 \\end{pmatrix} \\psi$ \n",
    "\n",
    "We are working on Sto_1\n",
    "\n",
    "We trancate the Gauge Transform series up to some given order \n",
    "\n",
    "Since this matrix is upper triangular, it can be solved directly:\n",
    "\n",
    "Firstly solve $\\psi_2$, which is $Az$, \n",
    "\n",
    "then substitute this into the equation of $\\psi_1$ and get $z\\psi'_1 = \\frac{1}{2}\\psi_1 + Az^2$, then we get\n",
    "\n",
    "$\\psi_1 = \\frac{2A}{3}z^2 + B \\sqrt{z}$, where $A$, $B$ are constants\n",
    "\n",
    "so $\\psi = \\begin{pmatrix} \\frac{2A}{3}z^2 + B \\sqrt{z} \\\\ Az \\end{pmatrix} = A\\begin{pmatrix} \\frac{2}{3}z^2 \\\\ z \\end{pmatrix} + B\\begin{pmatrix} \\sqrt{z} \\\\ 0 \\end{pmatrix}$\n",
    "\n",
    "In our method, we get $F = (I + \\begin{pmatrix} 0 & -\\frac{2}{3} \\\\ 0 & 0 \\end{pmatrix}z)$"
   ]
  },
  {
   "cell_type": "code",
   "execution_count": null,
   "id": "8761182c",
   "metadata": {},
   "outputs": [],
   "source": []
  },
  {
   "cell_type": "code",
   "execution_count": 2,
   "id": "3d8019ac",
   "metadata": {},
   "outputs": [],
   "source": [
    "A = Matrix([[Rational(1,2), z], [0, 1]])\n",
    "n = 2\n",
    "k = 1\n",
    "order = 5"
   ]
  },
  {
   "cell_type": "code",
   "execution_count": 3,
   "id": "d57cdae8",
   "metadata": {},
   "outputs": [],
   "source": [
    "K_trunc, F_trunc, Total = get_Gauge_up_to_order(A, k, order)"
   ]
  },
  {
   "cell_type": "code",
   "execution_count": 6,
   "id": "f7b5ab8c",
   "metadata": {},
   "outputs": [
    {
     "data": {
      "text/latex": [
       "$\\displaystyle \\left[\\begin{matrix}1 & - \\frac{2 z}{3}\\\\0 & 1\\end{matrix}\\right]$"
      ],
      "text/plain": [
       "Matrix([\n",
       "[1, -2*z/3],\n",
       "[0,      1]])"
      ]
     },
     "execution_count": 6,
     "metadata": {},
     "output_type": "execute_result"
    }
   ],
   "source": [
    "Total"
   ]
  },
  {
   "cell_type": "code",
   "execution_count": 7,
   "id": "20695a6d",
   "metadata": {},
   "outputs": [],
   "source": [
    "Total_inverse = Total.inverse()"
   ]
  },
  {
   "cell_type": "code",
   "execution_count": 8,
   "id": "8d946e35",
   "metadata": {},
   "outputs": [
    {
     "data": {
      "text/latex": [
       "$\\displaystyle \\left[\\begin{matrix}1 & \\frac{2 z}{3}\\\\0 & 1\\end{matrix}\\right]$"
      ],
      "text/plain": [
       "Matrix([\n",
       "[1, 2*z/3],\n",
       "[0,     1]])"
      ]
     },
     "execution_count": 8,
     "metadata": {},
     "output_type": "execute_result"
    }
   ],
   "source": [
    "Total_inverse"
   ]
  },
  {
   "cell_type": "code",
   "execution_count": 9,
   "id": "ef478cf9",
   "metadata": {},
   "outputs": [],
   "source": [
    "Psi_prime, Phi_prime = solve_phi(k, A)"
   ]
  },
  {
   "cell_type": "code",
   "execution_count": 10,
   "id": "0db33b9e",
   "metadata": {},
   "outputs": [
    {
     "data": {
      "text/latex": [
       "$\\displaystyle \\left[\\begin{matrix}\\sqrt{z} & 0\\\\0 & z\\end{matrix}\\right]$"
      ],
      "text/plain": [
       "Matrix([\n",
       "[sqrt(z), 0],\n",
       "[      0, z]])"
      ]
     },
     "execution_count": 10,
     "metadata": {},
     "output_type": "execute_result"
    }
   ],
   "source": [
    "Psi_prime"
   ]
  },
  {
   "cell_type": "code",
   "execution_count": 11,
   "id": "17085860",
   "metadata": {},
   "outputs": [],
   "source": [
    "Psi = Total_inverse * Psi_prime\n",
    "Psi = Psi.simplify()"
   ]
  },
  {
   "cell_type": "code",
   "execution_count": 12,
   "id": "cd85c455",
   "metadata": {},
   "outputs": [
    {
     "data": {
      "text/latex": [
       "$\\displaystyle \\left[\\begin{matrix}\\sqrt{z} & \\frac{2 z^{2}}{3}\\\\0 & z\\end{matrix}\\right]$"
      ],
      "text/plain": [
       "Matrix([\n",
       "[sqrt(z), 2*z**2/3],\n",
       "[      0,        z]])"
      ]
     },
     "execution_count": 12,
     "metadata": {},
     "output_type": "execute_result"
    }
   ],
   "source": [
    "Psi"
   ]
  },
  {
   "cell_type": "markdown",
   "id": "031daed3",
   "metadata": {},
   "source": [
    "This value of $\\Psi$ matches exactly with our manually found solution stated in the beginning!!"
   ]
  },
  {
   "cell_type": "code",
   "execution_count": 13,
   "id": "6de8a3c0",
   "metadata": {},
   "outputs": [],
   "source": [
    "Final_Phi = get_phi_from_psi(Psi, k)"
   ]
  },
  {
   "cell_type": "code",
   "execution_count": 14,
   "id": "866dad7a",
   "metadata": {},
   "outputs": [
    {
     "data": {
      "text/latex": [
       "$\\displaystyle \\left[\\begin{matrix}\\frac{\\sqrt{z e^{u}}}{\\sqrt{z}} & - \\frac{2 \\sqrt{z} \\sqrt{z e^{u}}}{3} + \\frac{2 z e^{2 u}}{3}\\\\0 & e^{u}\\end{matrix}\\right]$"
      ],
      "text/plain": [
       "Matrix([\n",
       "[sqrt(z*exp(u))/sqrt(z), -2*sqrt(z)*sqrt(z*exp(u))/3 + 2*z*exp(2*u)/3],\n",
       "[                     0,                                       exp(u)]])"
      ]
     },
     "execution_count": 14,
     "metadata": {},
     "output_type": "execute_result"
    }
   ],
   "source": [
    "Final_Phi"
   ]
  },
  {
   "cell_type": "markdown",
   "id": "80b433d0",
   "metadata": {},
   "source": [
    "This is our final universal solution in the Stokes groupoid"
   ]
  },
  {
   "cell_type": "markdown",
   "id": "c07c6e57",
   "metadata": {},
   "source": []
  },
  {
   "cell_type": "markdown",
   "id": "337173b1-8fa4-4309-a153-c8c511de68cc",
   "metadata": {},
   "source": [
    "Example2: \n",
    "\n",
    "$z^2 \\psi' = \\begin{pmatrix} \\cos(z)+1 & \\sin(z) \\\\ -\\sin(z) & \\cos(z) \\end{pmatrix} \\psi$ \n",
    "\n",
    "We are working on Sto_2\n",
    "\n",
    "We trancate the Gauge Transform series up to some given order "
   ]
  },
  {
   "cell_type": "code",
   "execution_count": 15,
   "id": "758d4f66-67e5-4aba-a2c5-a04875557057",
   "metadata": {},
   "outputs": [],
   "source": [
    "A = Matrix([[cos(z)+1, sin(z)], [-sin(z), cos(z)]])\n",
    "n = 2\n",
    "k = 2\n",
    "order = 3\n",
    "# This means that we only approaching using the first 3 terms"
   ]
  },
  {
   "cell_type": "code",
   "execution_count": 16,
   "id": "f45cb6ab-5117-4265-87df-6748ae27d37c",
   "metadata": {},
   "outputs": [],
   "source": [
    "K_trunc, F_trunc, Total = get_Gauge_up_to_order(A, k, order)"
   ]
  },
  {
   "cell_type": "code",
   "execution_count": 17,
   "id": "c67c62c1-4dce-406d-8e37-cdc07910e8fb",
   "metadata": {},
   "outputs": [
    {
     "data": {
      "text/latex": [
       "$\\displaystyle \\left[\\begin{matrix}e^{\\frac{z}{2}} & 0\\\\0 & e^{\\frac{z}{2}}\\end{matrix}\\right]$"
      ],
      "text/plain": [
       "Matrix([\n",
       "[exp(z/2),        0],\n",
       "[       0, exp(z/2)]])"
      ]
     },
     "execution_count": 17,
     "metadata": {},
     "output_type": "execute_result"
    }
   ],
   "source": [
    "K_trunc"
   ]
  },
  {
   "cell_type": "code",
   "execution_count": 18,
   "id": "fd517bad-da9e-4530-a675-a0d643aa056f",
   "metadata": {},
   "outputs": [
    {
     "data": {
      "text/latex": [
       "$\\displaystyle \\left[\\begin{matrix}1 & z\\\\z & 1\\end{matrix}\\right]$"
      ],
      "text/plain": [
       "Matrix([\n",
       "[1, z],\n",
       "[z, 1]])"
      ]
     },
     "execution_count": 18,
     "metadata": {},
     "output_type": "execute_result"
    }
   ],
   "source": [
    "F_trunc"
   ]
  },
  {
   "cell_type": "code",
   "execution_count": 19,
   "id": "7176baa6-9c2e-4856-8d9f-0b9ca878c472",
   "metadata": {},
   "outputs": [
    {
     "data": {
      "text/latex": [
       "$\\displaystyle \\left[\\begin{matrix}e^{\\frac{z}{2}} & z e^{\\frac{z}{2}}\\\\z e^{\\frac{z}{2}} & e^{\\frac{z}{2}}\\end{matrix}\\right]$"
      ],
      "text/plain": [
       "Matrix([\n",
       "[  exp(z/2), z*exp(z/2)],\n",
       "[z*exp(z/2),   exp(z/2)]])"
      ]
     },
     "execution_count": 19,
     "metadata": {},
     "output_type": "execute_result"
    }
   ],
   "source": [
    "Total"
   ]
  },
  {
   "cell_type": "code",
   "execution_count": 20,
   "id": "d99fcaea-c4e3-402d-9781-003bf6dd6871",
   "metadata": {},
   "outputs": [],
   "source": [
    "Total_inverse = Total.inverse()"
   ]
  },
  {
   "cell_type": "code",
   "execution_count": 21,
   "id": "a83ed0fb-28f0-4917-8a9d-bedbe6e72729",
   "metadata": {
    "scrolled": true
   },
   "outputs": [
    {
     "data": {
      "text/latex": [
       "$\\displaystyle \\left[\\begin{matrix}\\frac{e^{z}}{- z^{2} e^{\\frac{3 z}{2}} + e^{\\frac{3 z}{2}}} & \\frac{z e^{z}}{z^{2} e^{\\frac{3 z}{2}} - e^{\\frac{3 z}{2}}}\\\\\\frac{z e^{\\frac{z}{2}}}{z^{2} e^{z} - e^{z}} & \\frac{e^{\\frac{z}{2}}}{- z^{2} e^{z} + e^{z}}\\end{matrix}\\right]$"
      ],
      "text/plain": [
       "Matrix([\n",
       "[exp(z)/(-z**2*exp(3*z/2) + exp(3*z/2)), z*exp(z)/(z**2*exp(3*z/2) - exp(3*z/2))],\n",
       "[     z*exp(z/2)/(z**2*exp(z) - exp(z)),        exp(z/2)/(-z**2*exp(z) + exp(z))]])"
      ]
     },
     "execution_count": 21,
     "metadata": {},
     "output_type": "execute_result"
    }
   ],
   "source": [
    "Total_inverse"
   ]
  },
  {
   "cell_type": "markdown",
   "id": "c903c448-0e11-4798-bf2c-2ab58dda9b9d",
   "metadata": {},
   "source": [
    "Note that Gauge Transform is a group action, meaning that $F_1[F_2[A]] = (F_1F_2)[A]$ so the inverse Gauge Transform is the Gauge Transform of the inverse Matrix, and composed Gauge Transform is the transform of the product Matrix."
   ]
  },
  {
   "cell_type": "markdown",
   "id": "a8a0a7d8-9ef7-4aed-b929-61d27694a4a2",
   "metadata": {},
   "source": [
    "Finally, the equation is $z^k \\psi' = diag(A_0) + diag(A_1)z + ... + diag(A_{k-1})z^{k-1}$"
   ]
  },
  {
   "cell_type": "code",
   "execution_count": 22,
   "id": "65c2241f-577a-492b-95d3-9f121c7df82d",
   "metadata": {},
   "outputs": [],
   "source": [
    "Psi_prime, Phi_prime = solve_phi(k, A)"
   ]
  },
  {
   "cell_type": "code",
   "execution_count": 23,
   "id": "b2a71d80-f214-4e8d-9ce3-05216404a141",
   "metadata": {},
   "outputs": [
    {
     "data": {
      "text/latex": [
       "$\\displaystyle \\left[\\begin{matrix}e^{- \\frac{2}{z}} & 0\\\\0 & e^{- \\frac{1}{z}}\\end{matrix}\\right]$"
      ],
      "text/plain": [
       "Matrix([\n",
       "[exp(-2/z),         0],\n",
       "[        0, exp(-1/z)]])"
      ]
     },
     "execution_count": 23,
     "metadata": {},
     "output_type": "execute_result"
    }
   ],
   "source": [
    "Psi_prime"
   ]
  },
  {
   "cell_type": "code",
   "execution_count": 24,
   "id": "5f18b2d9-14b8-4e91-bc5f-f64aefc726d1",
   "metadata": {},
   "outputs": [
    {
     "data": {
      "text/latex": [
       "$\\displaystyle \\left[\\begin{matrix}e^{\\frac{2 \\left(1 - e^{- u z}\\right)}{z}} & 0\\\\0 & e^{\\frac{1 - e^{- u z}}{z}}\\end{matrix}\\right]$"
      ],
      "text/plain": [
       "Matrix([\n",
       "[exp(2*(1 - exp(-u*z))/z),                      0],\n",
       "[                       0, exp((1 - exp(-u*z))/z)]])"
      ]
     },
     "execution_count": 24,
     "metadata": {},
     "output_type": "execute_result"
    }
   ],
   "source": [
    "Phi_prime"
   ]
  },
  {
   "cell_type": "markdown",
   "id": "86c61fd3-fc32-432f-9679-495cbc41e3d9",
   "metadata": {},
   "source": [
    "The final solution is $T^{-1}\\Psi$ (we use $T$ to denote the initial change of coordinate that we applied to simplify the system)\n",
    "\n",
    "$T^{-1}$ is the Total_inverse that we just found above."
   ]
  },
  {
   "cell_type": "markdown",
   "id": "0a8531e2-222d-40ed-b8f7-2e4e79c0209e",
   "metadata": {},
   "source": [
    "So the final solution $\\Psi$ is "
   ]
  },
  {
   "cell_type": "code",
   "execution_count": 25,
   "id": "3deced74-ab3d-45a9-bacd-112acff9357a",
   "metadata": {},
   "outputs": [],
   "source": [
    "Psi = Total_inverse * Psi_prime"
   ]
  },
  {
   "cell_type": "markdown",
   "id": "ec143e23-5cea-40e0-bc66-8525ea23cf59",
   "metadata": {},
   "source": [
    "Hence, the original universal solution in the Stokes groupoid of order $k$ is "
   ]
  },
  {
   "cell_type": "code",
   "execution_count": 26,
   "id": "5bc9a850-db8c-4186-95bc-f4331eb2afe0",
   "metadata": {},
   "outputs": [],
   "source": [
    "Phi = get_phi_from_psi(Psi, k)"
   ]
  },
  {
   "cell_type": "code",
   "execution_count": 27,
   "id": "460e7a38-aa3b-4c39-9ecc-a3ef5ced7c40",
   "metadata": {},
   "outputs": [
    {
     "data": {
      "text/latex": [
       "$\\displaystyle \\left[\\begin{matrix}\\frac{\\left(z^{2} e^{u z + \\frac{e^{- u z}}{z}} - e^{\\frac{1}{z}}\\right) e^{- \\frac{z e^{u z}}{2} + \\frac{z}{2} + \\frac{1}{z} - \\frac{2 e^{- u z}}{z}}}{z^{2} e^{2 u z} - 1} & \\frac{z \\left(- e^{\\frac{1}{z}} + e^{u z + \\frac{e^{- u z}}{z}}\\right) e^{- \\frac{z e^{u z}}{2} + \\frac{z}{2} + \\frac{1}{z} - \\frac{2 e^{- u z}}{z}}}{z^{2} e^{2 u z} - 1}\\\\\\frac{z \\left(- e^{\\frac{e^{- u z}}{z}} + e^{u z + \\frac{1}{z}}\\right) e^{- \\frac{z e^{u z}}{2} + \\frac{z}{2} + \\frac{1}{z} - \\frac{2 e^{- u z}}{z}}}{z^{2} e^{2 u z} - 1} & \\frac{\\left(z^{2} e^{u z + \\frac{1}{z}} - e^{\\frac{e^{- u z}}{z}}\\right) e^{- \\frac{z e^{u z}}{2} + \\frac{z}{2} + \\frac{1}{z} - \\frac{2 e^{- u z}}{z}}}{z^{2} e^{2 u z} - 1}\\end{matrix}\\right]$"
      ],
      "text/plain": [
       "Matrix([\n",
       "[(z**2*exp(u*z + exp(-u*z)/z) - exp(1/z))*exp(-z*exp(u*z)/2 + z/2 + 1/z - 2*exp(-u*z)/z)/(z**2*exp(2*u*z) - 1),   z*(-exp(1/z) + exp(u*z + exp(-u*z)/z))*exp(-z*exp(u*z)/2 + z/2 + 1/z - 2*exp(-u*z)/z)/(z**2*exp(2*u*z) - 1)],\n",
       "[  z*(-exp(exp(-u*z)/z) + exp(u*z + 1/z))*exp(-z*exp(u*z)/2 + z/2 + 1/z - 2*exp(-u*z)/z)/(z**2*exp(2*u*z) - 1), (z**2*exp(u*z + 1/z) - exp(exp(-u*z)/z))*exp(-z*exp(u*z)/2 + z/2 + 1/z - 2*exp(-u*z)/z)/(z**2*exp(2*u*z) - 1)]])"
      ]
     },
     "execution_count": 27,
     "metadata": {},
     "output_type": "execute_result"
    }
   ],
   "source": [
    "Phi"
   ]
  },
  {
   "cell_type": "code",
   "execution_count": null,
   "id": "d93d59f2",
   "metadata": {},
   "outputs": [],
   "source": []
  },
  {
   "cell_type": "code",
   "execution_count": null,
   "id": "ebfaf14c-2b74-4410-abf8-a8e1b8f34bd7",
   "metadata": {},
   "outputs": [],
   "source": []
  },
  {
   "cell_type": "markdown",
   "id": "50d1a147-2f04-42e0-b910-82e51b930c9d",
   "metadata": {},
   "source": [
    "Example2: \n",
    "\n",
    "$z^2 \\psi' = \\begin{pmatrix} z^4+3z^3+1 & z \\\\ z^2 & z^3+5z^2+7 \\end{pmatrix} \\psi$ \n",
    "\n",
    "We are working on Sto_2\n",
    "\n",
    "We trancate the Gauge Transform series up to some given order "
   ]
  },
  {
   "cell_type": "code",
   "execution_count": 28,
   "id": "f41231d6-60b5-4d18-87b8-c20f25a5de2a",
   "metadata": {},
   "outputs": [],
   "source": [
    "A = Matrix([[z**4+3*z**3+1, z], [z**2, z**3+5*z**2+7]])\n",
    "n = 2\n",
    "k = 2\n",
    "order = 10"
   ]
  },
  {
   "cell_type": "code",
   "execution_count": 29,
   "id": "88ea6cf1-d4dc-4ab1-822f-9c0541ecc518",
   "metadata": {},
   "outputs": [],
   "source": [
    "K_trunc, F_trunc, Total = get_Gauge_up_to_order(A, k, order)"
   ]
  },
  {
   "cell_type": "code",
   "execution_count": 30,
   "id": "9ec6f01c-2786-4836-b2f4-93b91008ee16",
   "metadata": {},
   "outputs": [
    {
     "data": {
      "text/latex": [
       "$\\displaystyle \\left[\\begin{matrix}\\frac{\\left(36 - z^{3}\\right) e^{- \\frac{z^{2} \\left(2 z + 9\\right)}{6}}}{36} & - \\frac{z e^{- \\frac{z^{2} \\left(2 z + 9\\right)}{6}}}{6}\\\\\\frac{z^{2} e^{- \\frac{z \\left(z + 10\\right)}{2}}}{6} & e^{- \\frac{z \\left(z + 10\\right)}{2}}\\end{matrix}\\right]$"
      ],
      "text/plain": [
       "Matrix([\n",
       "[(36 - z**3)*exp(-z**2*(2*z + 9)/6)/36, -z*exp(-z**2*(2*z + 9)/6)/6],\n",
       "[            z**2*exp(-z*(z + 10)/2)/6,          exp(-z*(z + 10)/2)]])"
      ]
     },
     "execution_count": 30,
     "metadata": {},
     "output_type": "execute_result"
    }
   ],
   "source": [
    "Total"
   ]
  },
  {
   "cell_type": "code",
   "execution_count": 31,
   "id": "a2324c3e-dcdc-41bd-89c1-1873862d7e8a",
   "metadata": {},
   "outputs": [],
   "source": [
    "Total_inverse = Total.inverse()"
   ]
  },
  {
   "cell_type": "code",
   "execution_count": 32,
   "id": "c280d8ad-dfa5-4992-8862-ac6f2a44ebc7",
   "metadata": {},
   "outputs": [
    {
     "data": {
      "text/latex": [
       "$\\displaystyle \\left[\\begin{matrix}e^{- \\frac{z^{3}}{3} - \\frac{3 z^{2}}{2}} e^{\\frac{2 z^{3}}{3} + 3 z^{2}} & \\frac{z e^{\\frac{z^{2}}{2} + 5 z}}{6}\\\\- \\frac{z^{2} e^{- \\frac{z^{2}}{2} - 5 z} e^{\\frac{z^{2}}{2} + 5 z} e^{\\frac{z^{3}}{3} + \\frac{3 z^{2}}{2}}}{6} & - \\frac{z^{3} e^{\\frac{z^{2}}{2} + 5 z} e^{- \\frac{z^{3}}{3} - \\frac{3 z^{2}}{2}} e^{\\frac{z^{3}}{3} + \\frac{3 z^{2}}{2}}}{36} + e^{\\frac{z^{2}}{2} + 5 z} e^{- \\frac{z^{3}}{3} - \\frac{3 z^{2}}{2}} e^{\\frac{z^{3}}{3} + \\frac{3 z^{2}}{2}}\\end{matrix}\\right]$"
      ],
      "text/plain": [
       "Matrix([\n",
       "[                     exp(-z**3/3 - 3*z**2/2)*exp(2*z**3/3 + 3*z**2),                                                                                                                        z*exp(z**2/2 + 5*z)/6],\n",
       "[-z**2*exp(-z**2/2 - 5*z)*exp(z**2/2 + 5*z)*exp(z**3/3 + 3*z**2/2)/6, -z**3*exp(z**2/2 + 5*z)*exp(-z**3/3 - 3*z**2/2)*exp(z**3/3 + 3*z**2/2)/36 + exp(z**2/2 + 5*z)*exp(-z**3/3 - 3*z**2/2)*exp(z**3/3 + 3*z**2/2)]])"
      ]
     },
     "execution_count": 32,
     "metadata": {},
     "output_type": "execute_result"
    }
   ],
   "source": [
    "Total_inverse"
   ]
  },
  {
   "cell_type": "markdown",
   "id": "a4eaa4ae-e45c-42ab-97ba-89f6876e2caa",
   "metadata": {},
   "source": [
    "Note that Gauge Transform is a group action, meaning that $F_1[F_2[A]] = (F_1F_2)[A]$ so the inverse Gauge Transform is the Gauge Transform of the inverse Matrix, and composed Gauge Transform is the transform of the product Matrix."
   ]
  },
  {
   "cell_type": "markdown",
   "id": "2ab94876-eafd-4dc7-9422-97e018d5b272",
   "metadata": {},
   "source": [
    "Finally, the equation is $z^k \\psi' = diag(A_0) + diag(A_1)z + ... + diag(A_{k-1})z^{k-1}$"
   ]
  },
  {
   "cell_type": "code",
   "execution_count": 33,
   "id": "668e627a-a907-46f2-a5c1-7b4718c37f4c",
   "metadata": {},
   "outputs": [],
   "source": [
    "Psi_prime, Phi_prime = solve_phi(k, A)"
   ]
  },
  {
   "cell_type": "code",
   "execution_count": 34,
   "id": "4095d309-97b0-4181-aa83-e56283781d50",
   "metadata": {},
   "outputs": [
    {
     "data": {
      "text/latex": [
       "$\\displaystyle \\left[\\begin{matrix}e^{- \\frac{1}{z}} & 0\\\\0 & e^{- \\frac{7}{z}}\\end{matrix}\\right]$"
      ],
      "text/plain": [
       "Matrix([\n",
       "[exp(-1/z),         0],\n",
       "[        0, exp(-7/z)]])"
      ]
     },
     "execution_count": 34,
     "metadata": {},
     "output_type": "execute_result"
    }
   ],
   "source": [
    "Psi_prime"
   ]
  },
  {
   "cell_type": "code",
   "execution_count": 35,
   "id": "11f70b8c-aeb0-45f9-bee4-3aaa8817e236",
   "metadata": {},
   "outputs": [
    {
     "data": {
      "text/latex": [
       "$\\displaystyle \\left[\\begin{matrix}e^{\\frac{1 - e^{- u z}}{z}} & 0\\\\0 & e^{\\frac{7 \\left(1 - e^{- u z}\\right)}{z}}\\end{matrix}\\right]$"
      ],
      "text/plain": [
       "Matrix([\n",
       "[exp((1 - exp(-u*z))/z),                        0],\n",
       "[                     0, exp(7*(1 - exp(-u*z))/z)]])"
      ]
     },
     "execution_count": 35,
     "metadata": {},
     "output_type": "execute_result"
    }
   ],
   "source": [
    "Phi_prime"
   ]
  },
  {
   "cell_type": "markdown",
   "id": "b1e7ac6c-7ca3-4c7a-91dc-5d76c113a9b4",
   "metadata": {},
   "source": [
    "The final solution is $T^{-1}\\Psi$ (we use $T$ to denote the change of coordinate that we applied to simplify the system)\n",
    "\n",
    "$T^{-1}$ is the Total_inverse that we just found above."
   ]
  },
  {
   "cell_type": "code",
   "execution_count": 36,
   "id": "ce8cccfe-e080-4cce-afd7-8bdb169ad536",
   "metadata": {},
   "outputs": [],
   "source": [
    "T_inverse_Psi = Total_inverse * Psi_prime"
   ]
  },
  {
   "cell_type": "code",
   "execution_count": 37,
   "id": "1a9edf61-3ffd-40cb-80c6-42869ff2bd17",
   "metadata": {},
   "outputs": [
    {
     "data": {
      "text/latex": [
       "$\\displaystyle \\left[\\begin{matrix}e^{- \\frac{1}{z}} e^{- \\frac{z^{3}}{3} - \\frac{3 z^{2}}{2}} e^{\\frac{2 z^{3}}{3} + 3 z^{2}} & \\frac{z e^{- \\frac{7}{z}} e^{\\frac{z^{2}}{2} + 5 z}}{6}\\\\- \\frac{z^{2} e^{- \\frac{1}{z}} e^{- \\frac{z^{2}}{2} - 5 z} e^{\\frac{z^{2}}{2} + 5 z} e^{\\frac{z^{3}}{3} + \\frac{3 z^{2}}{2}}}{6} & \\left(- \\frac{z^{3} e^{\\frac{z^{2}}{2} + 5 z} e^{- \\frac{z^{3}}{3} - \\frac{3 z^{2}}{2}} e^{\\frac{z^{3}}{3} + \\frac{3 z^{2}}{2}}}{36} + e^{\\frac{z^{2}}{2} + 5 z} e^{- \\frac{z^{3}}{3} - \\frac{3 z^{2}}{2}} e^{\\frac{z^{3}}{3} + \\frac{3 z^{2}}{2}}\\right) e^{- \\frac{7}{z}}\\end{matrix}\\right]$"
      ],
      "text/plain": [
       "Matrix([\n",
       "[                     exp(-1/z)*exp(-z**3/3 - 3*z**2/2)*exp(2*z**3/3 + 3*z**2),                                                                                                                          z*exp(-7/z)*exp(z**2/2 + 5*z)/6],\n",
       "[-z**2*exp(-1/z)*exp(-z**2/2 - 5*z)*exp(z**2/2 + 5*z)*exp(z**3/3 + 3*z**2/2)/6, (-z**3*exp(z**2/2 + 5*z)*exp(-z**3/3 - 3*z**2/2)*exp(z**3/3 + 3*z**2/2)/36 + exp(z**2/2 + 5*z)*exp(-z**3/3 - 3*z**2/2)*exp(z**3/3 + 3*z**2/2))*exp(-7/z)]])"
      ]
     },
     "execution_count": 37,
     "metadata": {},
     "output_type": "execute_result"
    }
   ],
   "source": [
    "T_inverse_Psi"
   ]
  },
  {
   "cell_type": "code",
   "execution_count": 38,
   "id": "25691522-5090-4844-9b43-356c7af0f1d0",
   "metadata": {},
   "outputs": [],
   "source": [
    "Final_Phi = get_phi_from_psi(T_inverse_Psi, k)\n",
    "## This will take much long time to run."
   ]
  },
  {
   "cell_type": "code",
   "execution_count": 39,
   "id": "6a052a7f-3514-460e-b125-71f105ec9e31",
   "metadata": {},
   "outputs": [
    {
     "data": {
      "text/latex": [
       "$\\displaystyle \\left[\\begin{matrix}\\frac{\\left(- z^{3} e^{\\frac{z^{3} e^{3 u z}}{3} + z^{2} e^{2 u z} + 5 z + \\frac{6 e^{- u z}}{z}} + z^{3} e^{u z + \\frac{z^{3}}{3} + z^{2} + 5 z e^{u z} + \\frac{6}{z}} + 36 e^{\\frac{z^{3} e^{3 u z}}{3} + z^{2} e^{2 u z} + 5 z + \\frac{6 e^{- u z}}{z}}\\right) e^{- \\frac{z^{3}}{3} + \\frac{z^{2} e^{2 u z}}{2} - \\frac{3 z^{2}}{2} - 5 z + \\frac{1}{z} - \\frac{7 e^{- u z}}{z}}}{36} & \\frac{z \\left(- e^{\\frac{z^{3} e^{3 u z}}{3} + z^{2} e^{2 u z} + 5 z + \\frac{6 e^{- u z}}{z}} + e^{u z + \\frac{z^{3}}{3} + z^{2} + 5 z e^{u z} + \\frac{6}{z}}\\right) e^{- \\frac{z^{3}}{3} + \\frac{z^{2} e^{2 u z}}{2} - \\frac{3 z^{2}}{2} - 5 z + \\frac{1}{z} - \\frac{7 e^{- u z}}{z}}}{6}\\\\\\frac{z^{2} \\left(z^{3} e^{2 u z + \\frac{z^{3} e^{3 u z}}{3} + z^{2} e^{2 u z} + 5 z + \\frac{6 e^{- u z}}{z}} - z^{3} e^{3 u z + \\frac{z^{3}}{3} + z^{2} + 5 z e^{u z} + \\frac{6}{z}} + 36 e^{\\frac{z^{3}}{3} + z^{2} + 5 z e^{u z} + \\frac{6}{z}} - 36 e^{2 u z + \\frac{z^{3} e^{3 u z}}{3} + z^{2} e^{2 u z} + 5 z + \\frac{6 e^{- u z}}{z}}\\right) e^{- \\frac{z^{3}}{3} + \\frac{z^{2} e^{2 u z}}{2} - \\frac{3 z^{2}}{2} - 5 z + \\frac{1}{z} - \\frac{7 e^{- u z}}{z}}}{216} & \\frac{\\left(z^{3} e^{2 u z + \\frac{z^{3} e^{3 u z}}{3} + z^{2} e^{2 u z} + 5 z + \\frac{6 e^{- u z}}{z}} - z^{3} e^{3 u z + \\frac{z^{3}}{3} + z^{2} + 5 z e^{u z} + \\frac{6}{z}} + 36 e^{\\frac{z^{3}}{3} + z^{2} + 5 z e^{u z} + \\frac{6}{z}}\\right) e^{- \\frac{z^{3}}{3} + \\frac{z^{2} e^{2 u z}}{2} - \\frac{3 z^{2}}{2} - 5 z + \\frac{1}{z} - \\frac{7 e^{- u z}}{z}}}{36}\\end{matrix}\\right]$"
      ],
      "text/plain": [
       "Matrix([\n",
       "[                                                                    (-z**3*exp(z**3*exp(3*u*z)/3 + z**2*exp(2*u*z) + 5*z + 6*exp(-u*z)/z) + z**3*exp(u*z + z**3/3 + z**2 + 5*z*exp(u*z) + 6/z) + 36*exp(z**3*exp(3*u*z)/3 + z**2*exp(2*u*z) + 5*z + 6*exp(-u*z)/z))*exp(-z**3/3 + z**2*exp(2*u*z)/2 - 3*z**2/2 - 5*z + 1/z - 7*exp(-u*z)/z)/36,                                                                z*(-exp(z**3*exp(3*u*z)/3 + z**2*exp(2*u*z) + 5*z + 6*exp(-u*z)/z) + exp(u*z + z**3/3 + z**2 + 5*z*exp(u*z) + 6/z))*exp(-z**3/3 + z**2*exp(2*u*z)/2 - 3*z**2/2 - 5*z + 1/z - 7*exp(-u*z)/z)/6],\n",
       "[z**2*(z**3*exp(2*u*z + z**3*exp(3*u*z)/3 + z**2*exp(2*u*z) + 5*z + 6*exp(-u*z)/z) - z**3*exp(3*u*z + z**3/3 + z**2 + 5*z*exp(u*z) + 6/z) + 36*exp(z**3/3 + z**2 + 5*z*exp(u*z) + 6/z) - 36*exp(2*u*z + z**3*exp(3*u*z)/3 + z**2*exp(2*u*z) + 5*z + 6*exp(-u*z)/z))*exp(-z**3/3 + z**2*exp(2*u*z)/2 - 3*z**2/2 - 5*z + 1/z - 7*exp(-u*z)/z)/216, (z**3*exp(2*u*z + z**3*exp(3*u*z)/3 + z**2*exp(2*u*z) + 5*z + 6*exp(-u*z)/z) - z**3*exp(3*u*z + z**3/3 + z**2 + 5*z*exp(u*z) + 6/z) + 36*exp(z**3/3 + z**2 + 5*z*exp(u*z) + 6/z))*exp(-z**3/3 + z**2*exp(2*u*z)/2 - 3*z**2/2 - 5*z + 1/z - 7*exp(-u*z)/z)/36]])"
      ]
     },
     "execution_count": 39,
     "metadata": {},
     "output_type": "execute_result"
    }
   ],
   "source": [
    "Final_Phi"
   ]
  },
  {
   "cell_type": "markdown",
   "id": "62374c09-feec-4c84-915f-801de09e886c",
   "metadata": {},
   "source": [
    "Even though we could Finally get $\\Phi$ of the original system, which is clearly smooth, a limitation that we could optimize is its running time, yet nevertheless the computational ability has already surpassed human being."
   ]
  },
  {
   "cell_type": "code",
   "execution_count": null,
   "id": "bf18546c-2020-4688-bf19-9308fa7f7524",
   "metadata": {},
   "outputs": [],
   "source": []
  }
 ],
 "metadata": {
  "kernelspec": {
   "display_name": "base",
   "language": "python",
   "name": "python3"
  },
  "language_info": {
   "codemirror_mode": {
    "name": "ipython",
    "version": 3
   },
   "file_extension": ".py",
   "mimetype": "text/x-python",
   "name": "python",
   "nbconvert_exporter": "python",
   "pygments_lexer": "ipython3",
   "version": "3.11.7"
  }
 },
 "nbformat": 4,
 "nbformat_minor": 5
}
