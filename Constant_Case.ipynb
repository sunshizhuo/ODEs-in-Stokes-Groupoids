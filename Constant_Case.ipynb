{
 "cells": [
  {
   "cell_type": "code",
   "execution_count": 15,
   "id": "580b961e-8dc3-4cd3-8750-0d487b69ffcd",
   "metadata": {},
   "outputs": [],
   "source": [
    "import sympy\n",
    "from sympy.abc import u, z\n",
    "from Stokes import *\n",
    "\n",
    "psi = Function('psi')\n",
    "phi = Function('phi')"
   ]
  },
  {
   "cell_type": "markdown",
   "id": "2f0fe27d-6889-4016-83fa-de4b60d1f530",
   "metadata": {},
   "source": [
    "In this file, we are going to write some examples about the ODE: \n",
    "$$z^k \\frac{d\\psi}{dz} = A\\psi$$ where $A$ is a constant $n \\times n$ matrix."
   ]
  },
  {
   "cell_type": "markdown",
   "id": "339eea98-d44f-4199-a2c5-73e6346f9e9c",
   "metadata": {},
   "source": [
    "Example1: \n",
    "\n",
    "$\\psi'' = \\psi$, which is namely, \n",
    "\n",
    "$\\begin{pmatrix} \\psi' \\\\ \\psi \\end{pmatrix}' = \\begin{pmatrix} 0 & 1 \\\\ 1 & 0 \\end{pmatrix} \\begin{pmatrix} \\psi' \\\\ \\psi \\end{pmatrix}$\n",
    "\n",
    "This is not in singular case, so we just work on $\\mathbb{C}$.\n"
   ]
  },
  {
   "cell_type": "code",
   "execution_count": 46,
   "id": "f51fa0ab-2909-4ba5-9e63-a089ecc00e6f",
   "metadata": {},
   "outputs": [],
   "source": [
    "k = 0\n",
    "A = Matrix([[0, 1], [1, 0]])"
   ]
  },
  {
   "cell_type": "code",
   "execution_count": 54,
   "id": "acc63f15-503d-4d2a-a086-78c63939aa05",
   "metadata": {},
   "outputs": [
    {
     "data": {
      "text/latex": [
       "$\\displaystyle \\left[\\begin{matrix}\\cosh{\\left(z \\right)} & \\sinh{\\left(z \\right)}\\\\\\sinh{\\left(z \\right)} & \\cosh{\\left(z \\right)}\\end{matrix}\\right]$"
      ],
      "text/plain": [
       "Matrix([\n",
       "[cosh(z), sinh(z)],\n",
       "[sinh(z), cosh(z)]])"
      ]
     },
     "execution_count": 54,
     "metadata": {},
     "output_type": "execute_result"
    }
   ],
   "source": [
    "solve_constant_A(k, A).simplify()"
   ]
  },
  {
   "cell_type": "markdown",
   "id": "f8eb7192-ae94-499a-b386-f5bba891cc08",
   "metadata": {},
   "source": [
    "This result is clearly in congruence with our knowledge that the solution of $\\psi'' = \\psi$ is $A \\cosh(z) + B \\sinh(z)$ with $A, B$ being constants"
   ]
  },
  {
   "cell_type": "code",
   "execution_count": null,
   "id": "2563a89b-fa3e-49ab-848b-d8d13b9c68f2",
   "metadata": {},
   "outputs": [],
   "source": []
  },
  {
   "cell_type": "markdown",
   "id": "838d4909-1824-40ab-b9b8-37f2d4643553",
   "metadata": {},
   "source": [
    "Example2:\n",
    "\n",
    "$z \\psi' = \\begin{pmatrix} 1 & 1 \\\\ 0 & 1 \\end{pmatrix} \\psi$, the example we did in class\n",
    "\n"
   ]
  },
  {
   "cell_type": "code",
   "execution_count": 122,
   "id": "0c7a42b3-89d2-4fc4-9eda-a9527d84aea5",
   "metadata": {},
   "outputs": [],
   "source": [
    "k = 1\n",
    "A = Matrix([[1, 1], [0, 1]])"
   ]
  },
  {
   "cell_type": "code",
   "execution_count": 124,
   "id": "61bb5032-5936-4033-93e2-473c86a890d4",
   "metadata": {},
   "outputs": [],
   "source": [
    "psi = solve_constant_A(k, A).simplify()"
   ]
  },
  {
   "cell_type": "code",
   "execution_count": 126,
   "id": "dc3b0216-ef81-400d-ac3f-3cb20570634e",
   "metadata": {},
   "outputs": [
    {
     "data": {
      "text/latex": [
       "$\\displaystyle \\left[\\begin{matrix}z & z \\log{\\left(z \\right)}\\\\0 & z\\end{matrix}\\right]$"
      ],
      "text/plain": [
       "Matrix([\n",
       "[z, z*log(z)],\n",
       "[0,        z]])"
      ]
     },
     "execution_count": 126,
     "metadata": {},
     "output_type": "execute_result"
    }
   ],
   "source": [
    "psi"
   ]
  },
  {
   "cell_type": "code",
   "execution_count": 128,
   "id": "5b65e547-eba5-443f-9597-9ad27c06bfdc",
   "metadata": {},
   "outputs": [],
   "source": [
    "phi = get_phi_from_psi(psi, k).simplify()"
   ]
  },
  {
   "cell_type": "code",
   "execution_count": 144,
   "id": "e653d020-d53e-4cf4-855a-9c0f283d54e7",
   "metadata": {},
   "outputs": [
    {
     "data": {
      "text/latex": [
       "$\\displaystyle \\left[\\begin{matrix}e^{u} & \\left(- \\log{\\left(z \\right)} + \\log{\\left(z e^{u} \\right)}\\right) e^{u}\\\\0 & e^{u}\\end{matrix}\\right]$"
      ],
      "text/plain": [
       "Matrix([\n",
       "[exp(u), (-log(z) + log(z*exp(u)))*exp(u)],\n",
       "[     0,                           exp(u)]])"
      ]
     },
     "execution_count": 144,
     "metadata": {},
     "output_type": "execute_result"
    }
   ],
   "source": [
    "phi"
   ]
  },
  {
   "cell_type": "markdown",
   "id": "34ac6466-0bdb-467a-a610-dde213730833",
   "metadata": {},
   "source": [
    "Hence, we can see that the they agree with the $\\psi$ and $\\phi$ that we found \n",
    "\n",
    "Yet we can see that $\\Phi_{12}$ can be simplified to be $ue^u$, but the computer program ignores this. This is a limitation that the symbolic program still has much space to improve itself."
   ]
  },
  {
   "cell_type": "code",
   "execution_count": null,
   "id": "3c1e199e-675a-430a-b11d-0da7d29e0479",
   "metadata": {},
   "outputs": [],
   "source": []
  },
  {
   "cell_type": "markdown",
   "id": "05029e9e-7902-4a9e-9076-cfc93492f109",
   "metadata": {},
   "source": [
    "Example3:\n",
    "\n",
    "$z^2 \\psi'' = \\psi' + \\psi$, which is namely, \n",
    "\n",
    "\n",
    "\n",
    "$z^2 \\begin{pmatrix} \\psi' \\\\ \\psi \\end{pmatrix}' = \\begin{pmatrix} 1 & 1 \\\\ 1 & 0 \\end{pmatrix} \\begin{pmatrix} \\psi' \\\\ \\psi \\end{pmatrix}$\n",
    "\n",
    "In this case, we work on Sto_2\n"
   ]
  },
  {
   "cell_type": "code",
   "execution_count": 152,
   "id": "70999510-b965-49d2-b267-e972d8307a8f",
   "metadata": {},
   "outputs": [],
   "source": [
    "k = 2\n",
    "A = Matrix([[1, 1], [1, 0]])"
   ]
  },
  {
   "cell_type": "code",
   "execution_count": 154,
   "id": "7273f2d4-fa55-4c9f-b0f4-89740fcc1d53",
   "metadata": {},
   "outputs": [],
   "source": [
    "psi = solve_constant_A(k, A).simplify()"
   ]
  },
  {
   "cell_type": "code",
   "execution_count": 155,
   "id": "38d55d9f-a6ee-481e-b549-56dc70bcf694",
   "metadata": {},
   "outputs": [
    {
     "data": {
      "text/latex": [
       "$\\displaystyle \\left[\\begin{matrix}\\frac{\\left(- \\sqrt{5} e^{\\frac{\\sqrt{5}}{z}} + 5 e^{\\frac{\\sqrt{5}}{z}} + \\sqrt{5} + 5\\right) e^{- \\frac{1 + \\sqrt{5}}{2 z}}}{10} & \\frac{\\sqrt{5} \\left(1 - e^{\\frac{\\sqrt{5}}{z}}\\right) e^{- \\frac{1 + \\sqrt{5}}{2 z}}}{5}\\\\\\frac{\\left(5 - \\sqrt{5}\\right) e^{\\frac{-1 + \\sqrt{5}}{2 z}} + \\sqrt{5} \\left(1 - \\sqrt{5}\\right) e^{- \\frac{1 + \\sqrt{5}}{2 z}}}{5 \\left(1 - \\sqrt{5}\\right)} & \\frac{\\left(1 + \\sqrt{5}\\right) \\left(\\sqrt{5} + 5\\right) e^{\\frac{-1 + \\sqrt{5}}{2 z}} + 4 \\sqrt{5} e^{- \\frac{1 + \\sqrt{5}}{2 z}}}{10 \\left(1 + \\sqrt{5}\\right)}\\end{matrix}\\right]$"
      ],
      "text/plain": [
       "Matrix([\n",
       "[                      (-sqrt(5)*exp(sqrt(5)/z) + 5*exp(sqrt(5)/z) + sqrt(5) + 5)*exp(-(1 + sqrt(5))/(2*z))/10,                                                         sqrt(5)*(1 - exp(sqrt(5)/z))*exp(-(1 + sqrt(5))/(2*z))/5],\n",
       "[((5 - sqrt(5))*exp((-1 + sqrt(5))/(2*z)) + sqrt(5)*(1 - sqrt(5))*exp(-(1 + sqrt(5))/(2*z)))/(5*(1 - sqrt(5))), ((1 + sqrt(5))*(sqrt(5) + 5)*exp((-1 + sqrt(5))/(2*z)) + 4*sqrt(5)*exp(-(1 + sqrt(5))/(2*z)))/(10*(1 + sqrt(5)))]])"
      ]
     },
     "execution_count": 155,
     "metadata": {},
     "output_type": "execute_result"
    }
   ],
   "source": [
    "psi"
   ]
  },
  {
   "cell_type": "code",
   "execution_count": 158,
   "id": "f231a8df-5a0d-402b-a767-5fcaa84d8ee8",
   "metadata": {},
   "outputs": [],
   "source": [
    "phi = get_phi_from_psi(psi, k).simplify()"
   ]
  },
  {
   "cell_type": "code",
   "execution_count": 159,
   "id": "de82d238-2fae-4ae5-ba19-07360eb65346",
   "metadata": {},
   "outputs": [
    {
     "data": {
      "text/latex": [
       "$\\displaystyle \\left[\\begin{matrix}\\frac{\\left(- e^{\\frac{2 \\sqrt{5}}{z}} + \\sqrt{5} e^{\\frac{2 \\sqrt{5}}{z}} + e^{\\frac{\\sqrt{5}}{z}} + \\sqrt{5} e^{\\frac{\\sqrt{5}}{z}} - e^{\\frac{\\sqrt{5} e^{- u z}}{z}} + \\sqrt{5} e^{\\frac{\\sqrt{5} e^{- u z}}{z}} - 4 e^{\\frac{\\sqrt{5} \\left(e^{u z} + 1\\right) e^{- u z}}{z}} + 2 \\sqrt{5} e^{\\frac{\\sqrt{5} \\left(e^{u z} + 1\\right) e^{- u z}}{z}}\\right) e^{- \\frac{\\left(\\left(-1 + \\sqrt{5}\\right) e^{u z} + 1 + \\sqrt{5}\\right) e^{- u z}}{2 z}}}{- 5 e^{\\frac{\\sqrt{5}}{z}} + 3 \\sqrt{5} e^{\\frac{\\sqrt{5}}{z}} + 2 \\sqrt{5}} & \\frac{\\left(- e^{\\frac{2 \\sqrt{5}}{z}} + \\sqrt{5} e^{\\frac{2 \\sqrt{5}}{z}} + e^{\\frac{\\sqrt{5}}{z}} + \\sqrt{5} e^{\\frac{\\sqrt{5}}{z}} - \\sqrt{5} e^{\\frac{\\sqrt{5} e^{- u z}}{z}} - e^{\\frac{\\sqrt{5} e^{- u z}}{z}} - \\sqrt{5} e^{\\frac{\\sqrt{5} \\left(e^{u z} + 1\\right) e^{- u z}}{z}} + e^{\\frac{\\sqrt{5} \\left(e^{u z} + 1\\right) e^{- u z}}{z}}\\right) e^{- \\frac{\\left(\\left(-1 + \\sqrt{5}\\right) e^{u z} + 1 + \\sqrt{5}\\right) e^{- u z}}{2 z}}}{- \\sqrt{5} e^{\\frac{\\sqrt{5}}{z}} + 5 e^{\\frac{\\sqrt{5}}{z}} + \\sqrt{5} + 5}\\\\\\frac{\\left(- e^{\\frac{2 \\sqrt{5}}{z}} + \\sqrt{5} e^{\\frac{2 \\sqrt{5}}{z}} + e^{\\frac{\\sqrt{5}}{z}} + \\sqrt{5} e^{\\frac{\\sqrt{5}}{z}} - \\sqrt{5} e^{\\frac{\\sqrt{5} e^{- u z}}{z}} - e^{\\frac{\\sqrt{5} e^{- u z}}{z}} - \\sqrt{5} e^{\\frac{\\sqrt{5} \\left(e^{u z} + 1\\right) e^{- u z}}{z}} + e^{\\frac{\\sqrt{5} \\left(e^{u z} + 1\\right) e^{- u z}}{z}}\\right) e^{- \\frac{\\left(\\left(-1 + \\sqrt{5}\\right) e^{u z} + 1 + \\sqrt{5}\\right) e^{- u z}}{2 z}}}{- \\sqrt{5} e^{\\frac{\\sqrt{5}}{z}} + 5 e^{\\frac{\\sqrt{5}}{z}} + \\sqrt{5} + 5} & \\frac{\\left(- \\sqrt{5} e^{\\frac{2 \\sqrt{5}}{z}} + 3 e^{\\frac{2 \\sqrt{5}}{z}} + 2 e^{\\frac{\\sqrt{5}}{z}} + \\sqrt{5} e^{\\frac{\\sqrt{5} e^{- u z}}{z}} + 3 e^{\\frac{\\sqrt{5} e^{- u z}}{z}} + 2 e^{\\frac{\\sqrt{5} \\left(e^{u z} + 1\\right) e^{- u z}}{z}}\\right) e^{- \\frac{\\left(\\left(-1 + \\sqrt{5}\\right) e^{u z} + 1 + \\sqrt{5}\\right) e^{- u z}}{2 z}}}{- \\sqrt{5} e^{\\frac{\\sqrt{5}}{z}} + 5 e^{\\frac{\\sqrt{5}}{z}} + \\sqrt{5} + 5}\\end{matrix}\\right]$"
      ],
      "text/plain": [
       "Matrix([\n",
       "[(-exp(2*sqrt(5)/z) + sqrt(5)*exp(2*sqrt(5)/z) + exp(sqrt(5)/z) + sqrt(5)*exp(sqrt(5)/z) - exp(sqrt(5)*exp(-u*z)/z) + sqrt(5)*exp(sqrt(5)*exp(-u*z)/z) - 4*exp(sqrt(5)*(exp(u*z) + 1)*exp(-u*z)/z) + 2*sqrt(5)*exp(sqrt(5)*(exp(u*z) + 1)*exp(-u*z)/z))*exp(-((-1 + sqrt(5))*exp(u*z) + 1 + sqrt(5))*exp(-u*z)/(2*z))/(-5*exp(sqrt(5)/z) + 3*sqrt(5)*exp(sqrt(5)/z) + 2*sqrt(5)), (-exp(2*sqrt(5)/z) + sqrt(5)*exp(2*sqrt(5)/z) + exp(sqrt(5)/z) + sqrt(5)*exp(sqrt(5)/z) - sqrt(5)*exp(sqrt(5)*exp(-u*z)/z) - exp(sqrt(5)*exp(-u*z)/z) - sqrt(5)*exp(sqrt(5)*(exp(u*z) + 1)*exp(-u*z)/z) + exp(sqrt(5)*(exp(u*z) + 1)*exp(-u*z)/z))*exp(-((-1 + sqrt(5))*exp(u*z) + 1 + sqrt(5))*exp(-u*z)/(2*z))/(-sqrt(5)*exp(sqrt(5)/z) + 5*exp(sqrt(5)/z) + sqrt(5) + 5)],\n",
       "[    (-exp(2*sqrt(5)/z) + sqrt(5)*exp(2*sqrt(5)/z) + exp(sqrt(5)/z) + sqrt(5)*exp(sqrt(5)/z) - sqrt(5)*exp(sqrt(5)*exp(-u*z)/z) - exp(sqrt(5)*exp(-u*z)/z) - sqrt(5)*exp(sqrt(5)*(exp(u*z) + 1)*exp(-u*z)/z) + exp(sqrt(5)*(exp(u*z) + 1)*exp(-u*z)/z))*exp(-((-1 + sqrt(5))*exp(u*z) + 1 + sqrt(5))*exp(-u*z)/(2*z))/(-sqrt(5)*exp(sqrt(5)/z) + 5*exp(sqrt(5)/z) + sqrt(5) + 5),                                                                    (-sqrt(5)*exp(2*sqrt(5)/z) + 3*exp(2*sqrt(5)/z) + 2*exp(sqrt(5)/z) + sqrt(5)*exp(sqrt(5)*exp(-u*z)/z) + 3*exp(sqrt(5)*exp(-u*z)/z) + 2*exp(sqrt(5)*(exp(u*z) + 1)*exp(-u*z)/z))*exp(-((-1 + sqrt(5))*exp(u*z) + 1 + sqrt(5))*exp(-u*z)/(2*z))/(-sqrt(5)*exp(sqrt(5)/z) + 5*exp(sqrt(5)/z) + sqrt(5) + 5)]])"
      ]
     },
     "execution_count": 159,
     "metadata": {},
     "output_type": "execute_result"
    }
   ],
   "source": [
    "phi"
   ]
  },
  {
   "cell_type": "markdown",
   "id": "b1b79db5-3478-43cf-8913-19c1b05697b6",
   "metadata": {},
   "source": [
    "From this, we can see that something that is indeed very complicated for human being might be solved by computer efficiently once we implemented the procedure.\n",
    "\n",
    "Yet, those expressions can be further simplified to see that they are actually entire functions. This is a limitation of the symbolic program."
   ]
  },
  {
   "cell_type": "code",
   "execution_count": null,
   "id": "9d857764-b0ac-4bea-9075-7d8b47dfada5",
   "metadata": {},
   "outputs": [],
   "source": []
  },
  {
   "cell_type": "code",
   "execution_count": null,
   "id": "63525529-047f-42a9-88f3-2cd28c79c292",
   "metadata": {},
   "outputs": [],
   "source": []
  },
  {
   "cell_type": "code",
   "execution_count": null,
   "id": "40b6f0c2-58e4-401e-8816-95ae04386ac2",
   "metadata": {},
   "outputs": [],
   "source": []
  },
  {
   "cell_type": "code",
   "execution_count": null,
   "id": "646ee7da-f0c9-488b-b688-aca274dce8d4",
   "metadata": {},
   "outputs": [],
   "source": []
  }
 ],
 "metadata": {
  "kernelspec": {
   "display_name": "Python 3 (ipykernel)",
   "language": "python",
   "name": "python3"
  },
  "language_info": {
   "codemirror_mode": {
    "name": "ipython",
    "version": 3
   },
   "file_extension": ".py",
   "mimetype": "text/x-python",
   "name": "python",
   "nbconvert_exporter": "python",
   "pygments_lexer": "ipython3",
   "version": "3.11.7"
  }
 },
 "nbformat": 4,
 "nbformat_minor": 5
}
