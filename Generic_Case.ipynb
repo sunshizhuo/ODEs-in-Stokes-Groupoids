{
 "cells": [
  {
   "cell_type": "code",
   "execution_count": 1,
   "id": "bb585824-6a68-48a5-b3f0-59b1c751998c",
   "metadata": {
    "ExecuteTime": {
     "end_time": "2025-01-09T16:49:43.159458Z",
     "start_time": "2025-01-09T16:49:43.138522Z"
    }
   },
   "outputs": [],
   "source": [
    "from IPython.core.interactiveshell import InteractiveShell\n",
    "InteractiveShell.ast_node_interactivity = \"all\"\n",
    "\n",
    "import sympy\n",
    "from sympy import Derivative, Function, Symbol, symbols, Eq, pi, cos, sin, exp, log, oo\n",
    "from sympy import Function, dsolve, Derivative, checkodesol\n",
    "from sympy import fps, Rational\n",
    "from sympy import pprint, Matrix, eye, zeros\n",
    "from sympy import Inverse\n",
    "from utils import *\n",
    "z = Symbol('z')"
   ]
  },
  {
   "cell_type": "markdown",
   "id": "32928672-8252-4cdc-8d10-4245fd374239",
   "metadata": {},
   "source": [
    "Restate the problem that we want to solve: \n",
    "\n",
    "$$z^k \\frac{d\\psi}{dz} = A(z)\\psi$$, where $\\psi$ is a vector-valued function and $A(z)$ as a given matrix-valued function is holomorphic.\n",
    "\n",
    "In the general case where we can't find it directly, we use Formal Gauge transform to simplify the system, and solve it in diagonal version. Then, $\\hat{\\Phi}(u, z) = \\hat{\\Psi}(t(u, z)) \\hat{\\Psi}^{-1}(s(u,z))$ is the formal universal solution on Sto_k, while since $\\Phi$ is unique, then this means that $\\hat{\\Phi}$ is the power series of $\\Phi$, so it must be convergent since $\\Phi$ is entire.\n",
    "\n",
    "To do the Gauge transformation, the core idea is to transfer it to the case where $z^k \\frac{d\\phi}{dz} = (D_0+zD_1+...z^{k-1}D_{k-1})\\phi$, where $D_i$ are diagonal, which can be easily solve by entries on both sides.\n",
    "\n",
    "In order to solve this problem, we first need to make a change of variables $\\psi' = F \\psi$, whereas $F = 1+zF_1 + z^2F_2 + ...$\n"
   ]
  },
  {
   "cell_type": "markdown",
   "id": "1420a2d3-90b8-4bce-a8d5-f9bd22988dd4",
   "metadata": {},
   "source": [
    "\n",
    "\n",
    "\n",
    "\n",
    "\n",
    "\n",
    "\n",
    "In this step, we let $F = ......(I+z^2H_2)(I+zH_1)$"
   ]
  },
  {
   "cell_type": "markdown",
   "id": "8c5414de-0429-43be-b3d4-2b9dea169b49",
   "metadata": {},
   "source": [
    "where $H_p = \\begin{cases} {ad}^{-1}_{A_0}(A_p^{OD}) \\text{   if   } k > 1 \\\\ ({ad}_{A_0} - p)^{-1}(A_p^{OD}) \\text{    if   } k = 1  \\end{cases}$\n",
    "\n",
    "After this transform, the ODE becomes $z^k \\frac{d\\psi'}{dz} = (D_0 + D_1 z + ...) \\psi'$\n",
    "\n",
    "After doing this, we make the second Gauge Transform to transform it to the finite case, \n",
    "\n",
    "which is the transform $K = \\exp(-\\int{D_k+D_{k+1}z+...})$\n"
   ]
  },
  {
   "cell_type": "markdown",
   "id": "945bf5bc-fa36-4a99-8720-1ce5679adc39",
   "metadata": {},
   "source": [
    "Finally, the simplified system is $z^k \\frac{d\\psi''}{dz} = (D_0 + D_1 z + ...+ D_{k-1} z^{k-1}) \\psi''$\n",
    "\n",
    "and the overall Gauge transform is $(KF)$[...], and the inverse is $(KF)^{-1}$[...], so $\\psi = (KF)^{-1}\\psi''$\n",
    "\n",
    "After we get the fundamental solution $\\Psi$, we can construct $\\Phi$ on the Sto_k in a similar way."
   ]
  },
  {
   "cell_type": "markdown",
   "id": "40c0f077-c3b9-41cb-b4ac-c3439bca0798",
   "metadata": {},
   "source": [
    "However, in order for the above approach to work, we have to impose the condition that the ODE is generic.\n",
    "\n",
    "This means that the leading term $A(0)$ is diagonalizable, with eigenvalues $(\\alpha_1, ..., \\alpha_n)$ satisfying that \n",
    "\n",
    "1. if $k \\geq 2$, then they are distinct \n",
    "\n",
    "2. if $k = 1$, they no pair of eigenvalues differs by a positive integer.\n",
    "\n",
    "This is known as the non-resonance assumption."
   ]
  },
  {
   "cell_type": "code",
   "execution_count": null,
   "id": "468d4983",
   "metadata": {},
   "outputs": [],
   "source": []
  },
  {
   "cell_type": "markdown",
   "id": "a7fefbf0",
   "metadata": {},
   "source": [
    "Example 1: \n",
    "\n",
    "$z \\psi' = \\begin{pmatrix} \\frac{1}{2} & z \\\\ 0 & 1 \\end{pmatrix} \\psi$ \n",
    "\n",
    "We are working on Sto_1\n",
    "\n",
    "We trancate the Gauge Transform series up to some given order \n",
    "\n",
    "Since this matrix is upper triangular, it can be solved directly:\n",
    "\n",
    "Firstly solve $\\psi_2$, which is $Az$, \n",
    "\n",
    "then substitute this into the equation of $\\psi_1$ and get $z\\psi'_1 = \\frac{1}{2}\\psi_1 + Az^2$, then we get\n",
    "\n",
    "$\\psi_1 = \\frac{2A}{3}z^2 + B \\sqrt{z}$, where $A$, $B$ are constants\n",
    "\n",
    "so $\\psi = \\begin{pmatrix} \\frac{2A}{3}z^2 + B \\sqrt{z} \\\\ Az \\end{pmatrix} = A\\begin{pmatrix} \\frac{2}{3}z^2 \\\\ z \\end{pmatrix} + B\\begin{pmatrix} \\sqrt{z} \\\\ 0 \\end{pmatrix}$\n",
    "\n",
    "In our method, we get $F = (I + \\begin{pmatrix} 0 & -\\frac{2}{3} \\\\ 0 & 0 \\end{pmatrix}z)$"
   ]
  },
  {
   "cell_type": "code",
   "execution_count": 2,
   "id": "3d8019ac",
   "metadata": {},
   "outputs": [],
   "source": [
    "A = Matrix([[Rational(1,2), z], [0, 1]])\n",
    "n = 2\n",
    "k = 1\n",
    "order = 5"
   ]
  },
  {
   "cell_type": "code",
   "execution_count": 3,
   "id": "d57cdae8",
   "metadata": {},
   "outputs": [],
   "source": [
    "K_trunc, F_trunc, Total = get_Gauge_up_to_order(A, k, order)"
   ]
  },
  {
   "cell_type": "code",
   "execution_count": 4,
   "id": "9085911b",
   "metadata": {},
   "outputs": [
    {
     "data": {
      "text/latex": [
       "$\\displaystyle \\left[\\begin{matrix}\\frac{1}{2} & 0\\\\0 & 1\\end{matrix}\\right]$"
      ],
      "text/plain": [
       "Matrix([\n",
       "[1/2, 0],\n",
       "[  0, 1]])"
      ]
     },
     "execution_count": 4,
     "metadata": {},
     "output_type": "execute_result"
    }
   ],
   "source": [
    "G = Gauge(k, Total, A)\n",
    "G"
   ]
  },
  {
   "cell_type": "code",
   "execution_count": 5,
   "id": "f7b5ab8c",
   "metadata": {},
   "outputs": [
    {
     "data": {
      "text/latex": [
       "$\\displaystyle \\left[\\begin{matrix}1 & - \\frac{2 z}{3}\\\\0 & 1\\end{matrix}\\right]$"
      ],
      "text/plain": [
       "Matrix([\n",
       "[1, -2*z/3],\n",
       "[0,      1]])"
      ]
     },
     "execution_count": 5,
     "metadata": {},
     "output_type": "execute_result"
    }
   ],
   "source": [
    "Total"
   ]
  },
  {
   "cell_type": "code",
   "execution_count": 6,
   "id": "20695a6d",
   "metadata": {},
   "outputs": [],
   "source": [
    "Total_inverse = Total.inverse()"
   ]
  },
  {
   "cell_type": "code",
   "execution_count": 7,
   "id": "8d946e35",
   "metadata": {},
   "outputs": [
    {
     "data": {
      "text/latex": [
       "$\\displaystyle \\left[\\begin{matrix}1 & \\frac{2 z}{3}\\\\0 & 1\\end{matrix}\\right]$"
      ],
      "text/plain": [
       "Matrix([\n",
       "[1, 2*z/3],\n",
       "[0,     1]])"
      ]
     },
     "execution_count": 7,
     "metadata": {},
     "output_type": "execute_result"
    }
   ],
   "source": [
    "Total_inverse"
   ]
  },
  {
   "cell_type": "code",
   "execution_count": 8,
   "id": "ef478cf9",
   "metadata": {},
   "outputs": [],
   "source": [
    "Psi_prime, Phi_prime = solve_phi(k, G)"
   ]
  },
  {
   "cell_type": "code",
   "execution_count": 9,
   "id": "0db33b9e",
   "metadata": {},
   "outputs": [
    {
     "data": {
      "text/latex": [
       "$\\displaystyle \\left[\\begin{matrix}\\sqrt{z} & 0\\\\0 & z\\end{matrix}\\right]$"
      ],
      "text/plain": [
       "Matrix([\n",
       "[sqrt(z), 0],\n",
       "[      0, z]])"
      ]
     },
     "execution_count": 9,
     "metadata": {},
     "output_type": "execute_result"
    }
   ],
   "source": [
    "Psi_prime"
   ]
  },
  {
   "cell_type": "code",
   "execution_count": 10,
   "id": "17085860",
   "metadata": {},
   "outputs": [],
   "source": [
    "Psi = Total_inverse * Psi_prime\n",
    "Psi = Psi.simplify()"
   ]
  },
  {
   "cell_type": "code",
   "execution_count": 11,
   "id": "cd85c455",
   "metadata": {},
   "outputs": [
    {
     "data": {
      "text/latex": [
       "$\\displaystyle \\left[\\begin{matrix}\\sqrt{z} & \\frac{2 z^{2}}{3}\\\\0 & z\\end{matrix}\\right]$"
      ],
      "text/plain": [
       "Matrix([\n",
       "[sqrt(z), 2*z**2/3],\n",
       "[      0,        z]])"
      ]
     },
     "execution_count": 11,
     "metadata": {},
     "output_type": "execute_result"
    }
   ],
   "source": [
    "Psi"
   ]
  },
  {
   "cell_type": "markdown",
   "id": "031daed3",
   "metadata": {},
   "source": [
    "This value of $\\Psi$ matches exactly with our manually found solution stated in the beginning!!"
   ]
  },
  {
   "cell_type": "code",
   "execution_count": 12,
   "id": "6de8a3c0",
   "metadata": {},
   "outputs": [],
   "source": [
    "Final_Phi = get_phi_from_psi(Psi, k)"
   ]
  },
  {
   "cell_type": "code",
   "execution_count": 13,
   "id": "866dad7a",
   "metadata": {},
   "outputs": [
    {
     "data": {
      "text/latex": [
       "$\\displaystyle \\left[\\begin{matrix}\\frac{\\sqrt{z e^{u}}}{\\sqrt{z}} & - \\frac{2 \\sqrt{z} \\sqrt{z e^{u}}}{3} + \\frac{2 z e^{2 u}}{3}\\\\0 & e^{u}\\end{matrix}\\right]$"
      ],
      "text/plain": [
       "Matrix([\n",
       "[sqrt(z*exp(u))/sqrt(z), -2*sqrt(z)*sqrt(z*exp(u))/3 + 2*z*exp(2*u)/3],\n",
       "[                     0,                                       exp(u)]])"
      ]
     },
     "execution_count": 13,
     "metadata": {},
     "output_type": "execute_result"
    }
   ],
   "source": [
    "sympy.simplify(Final_Phi)"
   ]
  },
  {
   "cell_type": "markdown",
   "id": "80b433d0",
   "metadata": {},
   "source": [
    "This is our final universal solution in the Stokes groupoid"
   ]
  },
  {
   "cell_type": "markdown",
   "id": "c07c6e57",
   "metadata": {},
   "source": [
    "Example2:\n",
    "\n",
    "Note that in the generic case, $A(0)$ is required to be diagonaliable, yet may not be diagonal, because we could add a Gauge Transform to make it diagonal.\n",
    "\n",
    "For example: $z^2 \\psi' = \\begin{pmatrix} 1 & z+1 \\\\ 1 & z \\end{pmatrix} \\psi$\n",
    "\n"
   ]
  },
  {
   "cell_type": "code",
   "execution_count": 14,
   "id": "cab6bc2f",
   "metadata": {},
   "outputs": [],
   "source": [
    "A = Matrix([[1, z+1], [1, z]])\n",
    "n = 2\n",
    "k = 2\n",
    "order = 3"
   ]
  },
  {
   "cell_type": "code",
   "execution_count": 15,
   "id": "301e9393",
   "metadata": {},
   "outputs": [],
   "source": [
    "A0 = A.subs(z, 0)\n",
    "W, L = A0.diagonalize()\n",
    "assert(L == (Inverse(W)*A0*W).simplify())\n",
    "assert(A0 == (W*L*Inverse(W)).simplify())\n",
    "# Since we know that the Gauge transform of A\n",
    "# is FAF^{-1} + z^k F' F^{-1} \n",
    "# then we could let F = W^{-1} since F' = 0 since W is constant, \n",
    "# to transform A0 to L "
   ]
  },
  {
   "cell_type": "code",
   "execution_count": 16,
   "id": "70ef08c0",
   "metadata": {},
   "outputs": [],
   "source": [
    "newA = (Inverse(W)*A*W).simplify()"
   ]
  },
  {
   "cell_type": "code",
   "execution_count": 17,
   "id": "704e14e6",
   "metadata": {},
   "outputs": [
    {
     "data": {
      "text/latex": [
       "$\\displaystyle \\left[\\begin{matrix}- \\frac{\\sqrt{5} z}{10} + \\frac{z}{2} - \\frac{\\sqrt{5}}{2} + \\frac{1}{2} & - \\frac{\\sqrt{5} z}{10} + \\frac{z}{2}\\\\\\frac{z \\left(\\sqrt{5} + 5\\right)}{10} & \\frac{\\sqrt{5} z}{10} + \\frac{z}{2} + \\frac{1}{2} + \\frac{\\sqrt{5}}{2}\\end{matrix}\\right]$"
      ],
      "text/plain": [
       "Matrix([\n",
       "[-sqrt(5)*z/10 + z/2 - sqrt(5)/2 + 1/2,                  -sqrt(5)*z/10 + z/2],\n",
       "[                   z*(sqrt(5) + 5)/10, sqrt(5)*z/10 + z/2 + 1/2 + sqrt(5)/2]])"
      ]
     },
     "execution_count": 17,
     "metadata": {},
     "output_type": "execute_result"
    }
   ],
   "source": [
    "newA"
   ]
  },
  {
   "cell_type": "code",
   "execution_count": 18,
   "id": "c5a2a65f",
   "metadata": {},
   "outputs": [],
   "source": [
    "K_trunc, F_trunc, Total = get_Gauge_up_to_order(newA, k, order)\n",
    "## Takes 2 minutes"
   ]
  },
  {
   "cell_type": "code",
   "execution_count": 19,
   "id": "4ec56bc3",
   "metadata": {},
   "outputs": [
    {
     "data": {
      "text/latex": [
       "$\\displaystyle \\left[\\begin{matrix}- \\frac{\\sqrt{5} z^{3} \\left(\\frac{\\sqrt{5}}{50} + \\frac{7}{50}\\right) \\left(\\frac{2 z^{2}}{25} + \\frac{\\sqrt{5} z \\left(\\frac{\\sqrt{5}}{10} + \\frac{1}{2}\\right)}{5}\\right)}{5} + \\frac{2 \\sqrt{5} z^{3} \\left(\\frac{\\sqrt{5}}{10} + \\frac{1}{2}\\right)}{125} + 1 & - \\frac{\\sqrt{5} z^{3} \\left(\\frac{\\sqrt{5}}{50} + \\frac{7}{50}\\right) \\left(- \\frac{2 \\sqrt{5} z^{3} \\left(\\frac{1}{2} - \\frac{\\sqrt{5}}{10}\\right)}{125} + 1\\right)}{5} + \\frac{2 z^{2}}{25} - \\frac{\\sqrt{5} z \\left(\\frac{1}{2} - \\frac{\\sqrt{5}}{10}\\right)}{5}\\\\\\frac{\\sqrt{5} z^{3} \\left(\\frac{7}{50} - \\frac{\\sqrt{5}}{50}\\right) \\left(\\frac{2 \\sqrt{5} z^{3} \\left(\\frac{\\sqrt{5}}{10} + \\frac{1}{2}\\right)}{125} + 1\\right)}{5} + \\frac{2 z^{2}}{25} + \\frac{\\sqrt{5} z \\left(\\frac{\\sqrt{5}}{10} + \\frac{1}{2}\\right)}{5} & \\frac{\\sqrt{5} z^{3} \\left(\\frac{7}{50} - \\frac{\\sqrt{5}}{50}\\right) \\left(\\frac{2 z^{2}}{25} - \\frac{\\sqrt{5} z \\left(\\frac{1}{2} - \\frac{\\sqrt{5}}{10}\\right)}{5}\\right)}{5} - \\frac{2 \\sqrt{5} z^{3} \\left(\\frac{1}{2} - \\frac{\\sqrt{5}}{10}\\right)}{125} + 1\\end{matrix}\\right]$"
      ],
      "text/plain": [
       "Matrix([\n",
       "[-sqrt(5)*z**3*(sqrt(5)/50 + 7/50)*(2*z**2/25 + sqrt(5)*z*(sqrt(5)/10 + 1/2)/5)/5 + 2*sqrt(5)*z**3*(sqrt(5)/10 + 1/2)/125 + 1, -sqrt(5)*z**3*(sqrt(5)/50 + 7/50)*(-2*sqrt(5)*z**3*(1/2 - sqrt(5)/10)/125 + 1)/5 + 2*z**2/25 - sqrt(5)*z*(1/2 - sqrt(5)/10)/5],\n",
       "[ sqrt(5)*z**3*(7/50 - sqrt(5)/50)*(2*sqrt(5)*z**3*(sqrt(5)/10 + 1/2)/125 + 1)/5 + 2*z**2/25 + sqrt(5)*z*(sqrt(5)/10 + 1/2)/5,   sqrt(5)*z**3*(7/50 - sqrt(5)/50)*(2*z**2/25 - sqrt(5)*z*(1/2 - sqrt(5)/10)/5)/5 - 2*sqrt(5)*z**3*(1/2 - sqrt(5)/10)/125 + 1]])"
      ]
     },
     "execution_count": 19,
     "metadata": {},
     "output_type": "execute_result"
    },
    {
     "data": {
      "text/latex": [
       "$\\displaystyle \\left[\\begin{matrix}e^{- \\frac{z \\left(\\sqrt{5} z + 5 z - 10 \\sqrt{5}\\right)}{250}} & 0\\\\0 & e^{- \\frac{z \\left(- \\sqrt{5} z + 5 z + 10 \\sqrt{5}\\right)}{250}}\\end{matrix}\\right]$"
      ],
      "text/plain": [
       "Matrix([\n",
       "[exp(-z*(sqrt(5)*z + 5*z - 10*sqrt(5))/250),                                           0],\n",
       "[                                         0, exp(-z*(-sqrt(5)*z + 5*z + 10*sqrt(5))/250)]])"
      ]
     },
     "execution_count": 19,
     "metadata": {},
     "output_type": "execute_result"
    },
    {
     "data": {
      "text/latex": [
       "$\\displaystyle \\left[\\begin{matrix}\\frac{\\left(- \\sqrt{5} z^{4} \\left(\\sqrt{5} + 7\\right) \\left(4 z + \\sqrt{5} \\left(\\sqrt{5} + 5\\right)\\right) + 20 \\sqrt{5} z^{3} \\left(\\sqrt{5} + 5\\right) + 12500\\right) e^{- \\frac{z \\left(\\sqrt{5} z + 5 z - 10 \\sqrt{5}\\right)}{250}}}{12500} & \\frac{z \\left(\\sqrt{5} z^{2} \\left(\\sqrt{5} + 7\\right) \\left(\\sqrt{5} z^{3} \\left(5 - \\sqrt{5}\\right) - 625\\right) + 12500 z - 3125 \\sqrt{5} \\left(5 - \\sqrt{5}\\right)\\right) e^{- \\frac{z \\left(\\sqrt{5} z + 5 z - 10 \\sqrt{5}\\right)}{250}}}{156250}\\\\\\frac{z \\left(\\sqrt{5} z^{2} \\left(7 - \\sqrt{5}\\right) \\left(\\sqrt{5} z^{3} \\left(\\sqrt{5} + 5\\right) + 625\\right) + 12500 z + 3125 \\sqrt{5} \\left(\\sqrt{5} + 5\\right)\\right) e^{- \\frac{z \\left(- \\sqrt{5} z + 5 z + 10 \\sqrt{5}\\right)}{250}}}{156250} & \\frac{\\left(\\sqrt{5} z^{4} \\left(7 - \\sqrt{5}\\right) \\left(4 z - \\sqrt{5} \\left(5 - \\sqrt{5}\\right)\\right) + 20 \\sqrt{5} z^{3} \\left(-5 + \\sqrt{5}\\right) + 12500\\right) e^{- \\frac{z \\left(- \\sqrt{5} z + 5 z + 10 \\sqrt{5}\\right)}{250}}}{12500}\\end{matrix}\\right]$"
      ],
      "text/plain": [
       "Matrix([\n",
       "[       (-sqrt(5)*z**4*(sqrt(5) + 7)*(4*z + sqrt(5)*(sqrt(5) + 5)) + 20*sqrt(5)*z**3*(sqrt(5) + 5) + 12500)*exp(-z*(sqrt(5)*z + 5*z - 10*sqrt(5))/250)/12500, z*(sqrt(5)*z**2*(sqrt(5) + 7)*(sqrt(5)*z**3*(5 - sqrt(5)) - 625) + 12500*z - 3125*sqrt(5)*(5 - sqrt(5)))*exp(-z*(sqrt(5)*z + 5*z - 10*sqrt(5))/250)/156250],\n",
       "[z*(sqrt(5)*z**2*(7 - sqrt(5))*(sqrt(5)*z**3*(sqrt(5) + 5) + 625) + 12500*z + 3125*sqrt(5)*(sqrt(5) + 5))*exp(-z*(-sqrt(5)*z + 5*z + 10*sqrt(5))/250)/156250,      (sqrt(5)*z**4*(7 - sqrt(5))*(4*z - sqrt(5)*(5 - sqrt(5))) + 20*sqrt(5)*z**3*(-5 + sqrt(5)) + 12500)*exp(-z*(-sqrt(5)*z + 5*z + 10*sqrt(5))/250)/12500]])"
      ]
     },
     "execution_count": 19,
     "metadata": {},
     "output_type": "execute_result"
    }
   ],
   "source": [
    "F_trunc\n",
    "K_trunc\n",
    "Total"
   ]
  },
  {
   "cell_type": "code",
   "execution_count": 20,
   "id": "7cd5bc1b",
   "metadata": {},
   "outputs": [
    {
     "data": {
      "text/latex": [
       "$\\displaystyle \\left[\\begin{matrix}\\frac{- 704 \\sqrt{5} z^{20} - 1056 z^{20} - 1760 \\sqrt{5} z^{19} - 2640 z^{19} + 63800 z^{18} + 90640 \\sqrt{5} z^{18} + 170500 \\sqrt{5} z^{17} + 544500 z^{17} + 990000 z^{16} + 1837000 \\sqrt{5} z^{16} + 4997500 \\sqrt{5} z^{15} + 18647500 z^{15} - 11231250 \\sqrt{5} z^{14} - 175000 z^{14} - 96515625 z^{13} - 13796875 \\sqrt{5} z^{13} - 176515625 \\sqrt{5} z^{12} - 204140625 z^{12} - 2085546875 z^{11} - 455078125 \\sqrt{5} z^{11} + 2111328125 z^{10} + 1483984375 \\sqrt{5} z^{10} + 33203125 \\sqrt{5} z^{9} + 3654296875 z^{9} - 3037109375 \\sqrt{5} z^{8} - 2587890625 z^{8} + 6347656250 \\sqrt{5} z^{7} + 92089843750 z^{7} - 49804687500 \\sqrt{5} z^{6} + 16113281250 z^{6} - 145263671875 z^{5} - 20751953125 \\sqrt{5} z^{5} + 6103515625 z^{4} + 152587890625 \\sqrt{5} z^{4} - 30517578125 \\sqrt{5} z^{3} + 30517578125 z^{3} - 152587890625 \\sqrt{5} z^{2} + 152587890625 z^{2} - 762939453125 \\sqrt{5} z + 3814697265625 z - 3814697265625 \\sqrt{5} + 3814697265625}{50 \\left(220 z^{17} + 308 \\sqrt{5} z^{17} + 660 \\sqrt{5} z^{16} + 2200 z^{16} + 4400 z^{15} + 6600 \\sqrt{5} z^{15} + 16500 \\sqrt{5} z^{14} + 55000 z^{14} - 75625 \\sqrt{5} z^{13} - 61875 z^{13} - 481250 z^{12} - 103125 \\sqrt{5} z^{12} - 943750 \\sqrt{5} z^{11} - 625000 z^{11} - 11406250 z^{10} - 2390625 \\sqrt{5} z^{10} + 5546875 z^{9} + 6171875 \\sqrt{5} z^{9} + 4687500 \\sqrt{5} z^{8} + 37109375 z^{8} - 21484375 \\sqrt{5} z^{7} - 17578125 z^{7} - 29296875 \\sqrt{5} z^{6} + 400390625 z^{6} - 292968750 \\sqrt{5} z^{5} - 195312500 z^{5} - 3417968750 z^{4} - 732421875 \\sqrt{5} z^{4} + 1220703125 z^{3} + 1220703125 \\sqrt{5} z^{3} + 6103515625 z^{2} + 152587890625\\right)} & \\frac{z^{4} \\left(156 z^{14} + 148 \\sqrt{5} z^{14} + 1900 \\sqrt{5} z^{13} + 5600 z^{13} + 39000 z^{12} + 20060 \\sqrt{5} z^{12} - 32375 z^{11} - 775 \\sqrt{5} z^{11} - 226250 z^{10} - 36250 \\sqrt{5} z^{10} + \\frac{2726875 z^{9}}{2} + \\frac{1375625 \\sqrt{5} z^{9}}{2} - 3443750 \\sqrt{5} z^{8} - 4925000 z^{8} - 2609375 \\sqrt{5} z^{7} - 3484375 z^{7} + 42031250 z^{6} + 28000000 \\sqrt{5} z^{6} + 76171875 z^{5} + 45078125 \\sqrt{5} z^{5} + 474609375 z^{4} + 313671875 \\sqrt{5} z^{4} - 140625000 \\sqrt{5} z^{3} - 156250000 z^{3} - 566406250 \\sqrt{5} z^{2} - 195312500 z^{2} - \\frac{3173828125 z}{2} - \\frac{927734375 \\sqrt{5} z}{2} - 11962890625 \\sqrt{5} - 13427734375\\right) e^{\\frac{\\sqrt{5} z \\left(10 - z\\right)}{125}}}{220 z^{17} + 308 \\sqrt{5} z^{17} + 660 \\sqrt{5} z^{16} + 2200 z^{16} + 4400 z^{15} + 6600 \\sqrt{5} z^{15} + 16500 \\sqrt{5} z^{14} + 55000 z^{14} - 75625 \\sqrt{5} z^{13} - 61875 z^{13} - 481250 z^{12} - 103125 \\sqrt{5} z^{12} - 943750 \\sqrt{5} z^{11} - 625000 z^{11} - 11406250 z^{10} - 2390625 \\sqrt{5} z^{10} + 5546875 z^{9} + 6171875 \\sqrt{5} z^{9} + 4687500 \\sqrt{5} z^{8} + 37109375 z^{8} - 21484375 \\sqrt{5} z^{7} - 17578125 z^{7} - 29296875 \\sqrt{5} z^{6} + 400390625 z^{6} - 292968750 \\sqrt{5} z^{5} - 195312500 z^{5} - 3417968750 z^{4} - 732421875 \\sqrt{5} z^{4} + 1220703125 z^{3} + 1220703125 \\sqrt{5} z^{3} + 6103515625 z^{2} + 152587890625}\\\\\\frac{z^{4} \\left(44 z^{14} + 132 \\sqrt{5} z^{14} - 2200 z^{13} + 660 \\sqrt{5} z^{13} - 10750 z^{12} + 4490 \\sqrt{5} z^{12} - 12625 \\sqrt{5} z^{11} + 140625 z^{11} + 70625 z^{10} + 258625 \\sqrt{5} z^{10} + \\frac{720625 \\sqrt{5} z^{9}}{2} + \\frac{3233125 z^{9}}{2} + 15625 \\sqrt{5} z^{8} + 1084375 z^{8} - 19109375 z^{7} - 578125 \\sqrt{5} z^{7} - 12140625 \\sqrt{5} z^{6} - 546875 z^{6} - 168750000 z^{5} + 27187500 \\sqrt{5} z^{5} - 210156250 \\sqrt{5} z^{4} - 62500000 z^{4} - 74218750 \\sqrt{5} z^{3} + 800781250 z^{3} - 195312500 z^{2} + 566406250 \\sqrt{5} z^{2} - \\frac{3173828125 z}{2} + \\frac{927734375 \\sqrt{5} z}{2} - 13427734375 + 11962890625 \\sqrt{5}\\right) e^{\\frac{\\sqrt{5} z \\left(z - 10\\right)}{125}}}{220 z^{17} + 308 \\sqrt{5} z^{17} + 660 \\sqrt{5} z^{16} + 2200 z^{16} + 4400 z^{15} + 6600 \\sqrt{5} z^{15} + 16500 \\sqrt{5} z^{14} + 55000 z^{14} - 75625 \\sqrt{5} z^{13} - 61875 z^{13} - 481250 z^{12} - 103125 \\sqrt{5} z^{12} - 943750 \\sqrt{5} z^{11} - 625000 z^{11} - 11406250 z^{10} - 2390625 \\sqrt{5} z^{10} + 5546875 z^{9} + 6171875 \\sqrt{5} z^{9} + 4687500 \\sqrt{5} z^{8} + 37109375 z^{8} - 21484375 \\sqrt{5} z^{7} - 17578125 z^{7} - 29296875 \\sqrt{5} z^{6} + 400390625 z^{6} - 292968750 \\sqrt{5} z^{5} - 195312500 z^{5} - 3417968750 z^{4} - 732421875 \\sqrt{5} z^{4} + 1220703125 z^{3} + 1220703125 \\sqrt{5} z^{3} + 6103515625 z^{2} + 152587890625} & \\frac{- 528 \\sqrt{5} z^{20} + 176 z^{20} - 6160 z^{19} - 880 \\sqrt{5} z^{19} + 61600 z^{18} + 83160 \\sqrt{5} z^{18} + 207900 \\sqrt{5} z^{17} + 676500 z^{17} + 1677500 z^{16} + 2018500 \\sqrt{5} z^{16} + 4820000 \\sqrt{5} z^{15} + 13747500 z^{15} - 20950000 \\sqrt{5} z^{14} - 25168750 z^{14} - 105015625 z^{13} - 26828125 \\sqrt{5} z^{13} - 166453125 \\sqrt{5} z^{12} - 43671875 z^{12} - 2773828125 z^{11} - 447578125 \\sqrt{5} z^{11} - 826171875 z^{10} + 423828125 \\sqrt{5} z^{10} + 1564453125 \\sqrt{5} z^{9} + 8595703125 z^{9} + 439453125 \\sqrt{5} z^{8} + 1806640625 z^{8} - 8886718750 \\sqrt{5} z^{7} + 80371093750 z^{7} - 5859375000 z^{6} + 33691406250 \\sqrt{5} z^{6} - 255126953125 z^{5} - 30517578125 \\sqrt{5} z^{5} - 128173828125 \\sqrt{5} z^{4} - 115966796875 z^{4} + 91552734375 \\sqrt{5} z^{3} + 335693359375 z^{3} + 152587890625 z^{2} + 152587890625 \\sqrt{5} z^{2} + 762939453125 \\sqrt{5} z + 3814697265625 z + 3814697265625 + 3814697265625 \\sqrt{5}}{50 \\left(220 z^{17} + 308 \\sqrt{5} z^{17} + 660 \\sqrt{5} z^{16} + 2200 z^{16} + 4400 z^{15} + 6600 \\sqrt{5} z^{15} + 16500 \\sqrt{5} z^{14} + 55000 z^{14} - 75625 \\sqrt{5} z^{13} - 61875 z^{13} - 481250 z^{12} - 103125 \\sqrt{5} z^{12} - 943750 \\sqrt{5} z^{11} - 625000 z^{11} - 11406250 z^{10} - 2390625 \\sqrt{5} z^{10} + 5546875 z^{9} + 6171875 \\sqrt{5} z^{9} + 4687500 \\sqrt{5} z^{8} + 37109375 z^{8} - 21484375 \\sqrt{5} z^{7} - 17578125 z^{7} - 29296875 \\sqrt{5} z^{6} + 400390625 z^{6} - 292968750 \\sqrt{5} z^{5} - 195312500 z^{5} - 3417968750 z^{4} - 732421875 \\sqrt{5} z^{4} + 1220703125 z^{3} + 1220703125 \\sqrt{5} z^{3} + 6103515625 z^{2} + 152587890625\\right)}\\end{matrix}\\right]$"
      ],
      "text/plain": [
       "Matrix([\n",
       "[(-704*sqrt(5)*z**20 - 1056*z**20 - 1760*sqrt(5)*z**19 - 2640*z**19 + 63800*z**18 + 90640*sqrt(5)*z**18 + 170500*sqrt(5)*z**17 + 544500*z**17 + 990000*z**16 + 1837000*sqrt(5)*z**16 + 4997500*sqrt(5)*z**15 + 18647500*z**15 - 11231250*sqrt(5)*z**14 - 175000*z**14 - 96515625*z**13 - 13796875*sqrt(5)*z**13 - 176515625*sqrt(5)*z**12 - 204140625*z**12 - 2085546875*z**11 - 455078125*sqrt(5)*z**11 + 2111328125*z**10 + 1483984375*sqrt(5)*z**10 + 33203125*sqrt(5)*z**9 + 3654296875*z**9 - 3037109375*sqrt(5)*z**8 - 2587890625*z**8 + 6347656250*sqrt(5)*z**7 + 92089843750*z**7 - 49804687500*sqrt(5)*z**6 + 16113281250*z**6 - 145263671875*z**5 - 20751953125*sqrt(5)*z**5 + 6103515625*z**4 + 152587890625*sqrt(5)*z**4 - 30517578125*sqrt(5)*z**3 + 30517578125*z**3 - 152587890625*sqrt(5)*z**2 + 152587890625*z**2 - 762939453125*sqrt(5)*z + 3814697265625*z - 3814697265625*sqrt(5) + 3814697265625)/(50*(220*z**17 + 308*sqrt(5)*z**17 + 660*sqrt(5)*z**16 + 2200*z**16 + 4400*z**15 + 6600*sqrt(5)*z**15 + 16500*sqrt(5)*z**14 + 55000*z**14 - 75625*sqrt(5)*z**13 - 61875*z**13 - 481250*z**12 - 103125*sqrt(5)*z**12 - 943750*sqrt(5)*z**11 - 625000*z**11 - 11406250*z**10 - 2390625*sqrt(5)*z**10 + 5546875*z**9 + 6171875*sqrt(5)*z**9 + 4687500*sqrt(5)*z**8 + 37109375*z**8 - 21484375*sqrt(5)*z**7 - 17578125*z**7 - 29296875*sqrt(5)*z**6 + 400390625*z**6 - 292968750*sqrt(5)*z**5 - 195312500*z**5 - 3417968750*z**4 - 732421875*sqrt(5)*z**4 + 1220703125*z**3 + 1220703125*sqrt(5)*z**3 + 6103515625*z**2 + 152587890625)),                                                                                                                                                                                                                                                                                               z**4*(156*z**14 + 148*sqrt(5)*z**14 + 1900*sqrt(5)*z**13 + 5600*z**13 + 39000*z**12 + 20060*sqrt(5)*z**12 - 32375*z**11 - 775*sqrt(5)*z**11 - 226250*z**10 - 36250*sqrt(5)*z**10 + 2726875*z**9/2 + 1375625*sqrt(5)*z**9/2 - 3443750*sqrt(5)*z**8 - 4925000*z**8 - 2609375*sqrt(5)*z**7 - 3484375*z**7 + 42031250*z**6 + 28000000*sqrt(5)*z**6 + 76171875*z**5 + 45078125*sqrt(5)*z**5 + 474609375*z**4 + 313671875*sqrt(5)*z**4 - 140625000*sqrt(5)*z**3 - 156250000*z**3 - 566406250*sqrt(5)*z**2 - 195312500*z**2 - 3173828125*z/2 - 927734375*sqrt(5)*z/2 - 11962890625*sqrt(5) - 13427734375)*exp(sqrt(5)*z*(10 - z)/125)/(220*z**17 + 308*sqrt(5)*z**17 + 660*sqrt(5)*z**16 + 2200*z**16 + 4400*z**15 + 6600*sqrt(5)*z**15 + 16500*sqrt(5)*z**14 + 55000*z**14 - 75625*sqrt(5)*z**13 - 61875*z**13 - 481250*z**12 - 103125*sqrt(5)*z**12 - 943750*sqrt(5)*z**11 - 625000*z**11 - 11406250*z**10 - 2390625*sqrt(5)*z**10 + 5546875*z**9 + 6171875*sqrt(5)*z**9 + 4687500*sqrt(5)*z**8 + 37109375*z**8 - 21484375*sqrt(5)*z**7 - 17578125*z**7 - 29296875*sqrt(5)*z**6 + 400390625*z**6 - 292968750*sqrt(5)*z**5 - 195312500*z**5 - 3417968750*z**4 - 732421875*sqrt(5)*z**4 + 1220703125*z**3 + 1220703125*sqrt(5)*z**3 + 6103515625*z**2 + 152587890625)],\n",
       "[                                                                                                                                                                                                                                                                                                  z**4*(44*z**14 + 132*sqrt(5)*z**14 - 2200*z**13 + 660*sqrt(5)*z**13 - 10750*z**12 + 4490*sqrt(5)*z**12 - 12625*sqrt(5)*z**11 + 140625*z**11 + 70625*z**10 + 258625*sqrt(5)*z**10 + 720625*sqrt(5)*z**9/2 + 3233125*z**9/2 + 15625*sqrt(5)*z**8 + 1084375*z**8 - 19109375*z**7 - 578125*sqrt(5)*z**7 - 12140625*sqrt(5)*z**6 - 546875*z**6 - 168750000*z**5 + 27187500*sqrt(5)*z**5 - 210156250*sqrt(5)*z**4 - 62500000*z**4 - 74218750*sqrt(5)*z**3 + 800781250*z**3 - 195312500*z**2 + 566406250*sqrt(5)*z**2 - 3173828125*z/2 + 927734375*sqrt(5)*z/2 - 13427734375 + 11962890625*sqrt(5))*exp(sqrt(5)*z*(z - 10)/125)/(220*z**17 + 308*sqrt(5)*z**17 + 660*sqrt(5)*z**16 + 2200*z**16 + 4400*z**15 + 6600*sqrt(5)*z**15 + 16500*sqrt(5)*z**14 + 55000*z**14 - 75625*sqrt(5)*z**13 - 61875*z**13 - 481250*z**12 - 103125*sqrt(5)*z**12 - 943750*sqrt(5)*z**11 - 625000*z**11 - 11406250*z**10 - 2390625*sqrt(5)*z**10 + 5546875*z**9 + 6171875*sqrt(5)*z**9 + 4687500*sqrt(5)*z**8 + 37109375*z**8 - 21484375*sqrt(5)*z**7 - 17578125*z**7 - 29296875*sqrt(5)*z**6 + 400390625*z**6 - 292968750*sqrt(5)*z**5 - 195312500*z**5 - 3417968750*z**4 - 732421875*sqrt(5)*z**4 + 1220703125*z**3 + 1220703125*sqrt(5)*z**3 + 6103515625*z**2 + 152587890625), (-528*sqrt(5)*z**20 + 176*z**20 - 6160*z**19 - 880*sqrt(5)*z**19 + 61600*z**18 + 83160*sqrt(5)*z**18 + 207900*sqrt(5)*z**17 + 676500*z**17 + 1677500*z**16 + 2018500*sqrt(5)*z**16 + 4820000*sqrt(5)*z**15 + 13747500*z**15 - 20950000*sqrt(5)*z**14 - 25168750*z**14 - 105015625*z**13 - 26828125*sqrt(5)*z**13 - 166453125*sqrt(5)*z**12 - 43671875*z**12 - 2773828125*z**11 - 447578125*sqrt(5)*z**11 - 826171875*z**10 + 423828125*sqrt(5)*z**10 + 1564453125*sqrt(5)*z**9 + 8595703125*z**9 + 439453125*sqrt(5)*z**8 + 1806640625*z**8 - 8886718750*sqrt(5)*z**7 + 80371093750*z**7 - 5859375000*z**6 + 33691406250*sqrt(5)*z**6 - 255126953125*z**5 - 30517578125*sqrt(5)*z**5 - 128173828125*sqrt(5)*z**4 - 115966796875*z**4 + 91552734375*sqrt(5)*z**3 + 335693359375*z**3 + 152587890625*z**2 + 152587890625*sqrt(5)*z**2 + 762939453125*sqrt(5)*z + 3814697265625*z + 3814697265625 + 3814697265625*sqrt(5))/(50*(220*z**17 + 308*sqrt(5)*z**17 + 660*sqrt(5)*z**16 + 2200*z**16 + 4400*z**15 + 6600*sqrt(5)*z**15 + 16500*sqrt(5)*z**14 + 55000*z**14 - 75625*sqrt(5)*z**13 - 61875*z**13 - 481250*z**12 - 103125*sqrt(5)*z**12 - 943750*sqrt(5)*z**11 - 625000*z**11 - 11406250*z**10 - 2390625*sqrt(5)*z**10 + 5546875*z**9 + 6171875*sqrt(5)*z**9 + 4687500*sqrt(5)*z**8 + 37109375*z**8 - 21484375*sqrt(5)*z**7 - 17578125*z**7 - 29296875*sqrt(5)*z**6 + 400390625*z**6 - 292968750*sqrt(5)*z**5 - 195312500*z**5 - 3417968750*z**4 - 732421875*sqrt(5)*z**4 + 1220703125*z**3 + 1220703125*sqrt(5)*z**3 + 6103515625*z**2 + 152587890625))]])"
      ]
     },
     "execution_count": 20,
     "metadata": {},
     "output_type": "execute_result"
    }
   ],
   "source": [
    "transformed_newA = Gauge(k, Total, newA)\n",
    "transformed_newA"
   ]
  },
  {
   "cell_type": "code",
   "execution_count": 21,
   "id": "cda8c77e",
   "metadata": {},
   "outputs": [
    {
     "data": {
      "text/latex": [
       "$\\displaystyle \\left[\\begin{matrix}\\frac{1}{2} - \\frac{\\sqrt{5}}{2} & 0\\\\0 & \\frac{1}{2} + \\frac{\\sqrt{5}}{2}\\end{matrix}\\right]$"
      ],
      "text/plain": [
       "Matrix([\n",
       "[1/2 - sqrt(5)/2,               0],\n",
       "[              0, 1/2 + sqrt(5)/2]])"
      ]
     },
     "execution_count": 21,
     "metadata": {},
     "output_type": "execute_result"
    },
    {
     "data": {
      "text/latex": [
       "$\\displaystyle \\left[\\begin{matrix}\\frac{1}{2} - \\frac{\\sqrt{5}}{10} & 0\\\\0 & \\frac{\\sqrt{5}}{10} + \\frac{1}{2}\\end{matrix}\\right]$"
      ],
      "text/plain": [
       "Matrix([\n",
       "[1/2 - sqrt(5)/10,                0],\n",
       "[               0, sqrt(5)/10 + 1/2]])"
      ]
     },
     "execution_count": 21,
     "metadata": {},
     "output_type": "execute_result"
    },
    {
     "data": {
      "text/latex": [
       "$\\displaystyle \\left[\\begin{matrix}0 & 0\\\\0 & 0\\end{matrix}\\right]$"
      ],
      "text/plain": [
       "Matrix([\n",
       "[0, 0],\n",
       "[0, 0]])"
      ]
     },
     "execution_count": 21,
     "metadata": {},
     "output_type": "execute_result"
    },
    {
     "data": {
      "text/latex": [
       "$\\displaystyle \\left[\\begin{matrix}- \\frac{12}{125} + \\frac{3 \\left(3814697265625 - 3814697265625 \\sqrt{5}\\right) \\left(- 244140625 \\sqrt{5} - 244140625\\right)}{116415321826934814453125} & 0\\\\0 & \\frac{3 \\left(3814697265625 + 3814697265625 \\sqrt{5}\\right) \\left(- 244140625 \\sqrt{5} - 244140625\\right)}{116415321826934814453125} + \\frac{6 \\sqrt{5}}{125} + \\frac{18}{125}\\end{matrix}\\right]$"
      ],
      "text/plain": [
       "Matrix([\n",
       "[-12/125 + 3*(3814697265625 - 3814697265625*sqrt(5))*(-244140625*sqrt(5) - 244140625)/116415321826934814453125,                                                                                                                            0],\n",
       "[                                                                                                            0, 3*(3814697265625 + 3814697265625*sqrt(5))*(-244140625*sqrt(5) - 244140625)/116415321826934814453125 + 6*sqrt(5)/125 + 18/125]])"
      ]
     },
     "execution_count": 21,
     "metadata": {},
     "output_type": "execute_result"
    }
   ],
   "source": [
    "# These are its first 4 coefficients (z**0 to z**3) in its Taylor expansion.\n",
    "transformed_newA.subs(z, 0)\n",
    "transformed_newA.diff(z).subs(z, 0)\n",
    "transformed_newA.diff(z,z).subs(z, 0)\n",
    "transformed_newA.diff(z,z,z).subs(z, 0)\n",
    "# Indeed, we can see that it is indeed diagonal up to order z**3, where 3 is the order we set.\n",
    "# Furthermore, due to the functionality of K, the terms after k until order are all zero\n",
    "# Hence, as order goes to infinite, the transformed ode is just a polynomial of order k-1. "
   ]
  },
  {
   "cell_type": "code",
   "execution_count": null,
   "id": "7673f008",
   "metadata": {},
   "outputs": [
    {
     "name": "stdout",
     "output_type": "stream",
     "text": [
      "Matrix([[(-3437500*z**10*exp(-z**2/50 - sqrt(5)*z**2/250 + sqrt(5)*z/25) - 8593750*z**9*exp(-z**2/50 - sqrt(5)*z**2/250 + sqrt(5)*z/25) + 44921875*z**8*exp(-z**2/50 - sqrt(5)*z**2/250 + sqrt(5)*z/25) + 19531250*z**7*exp(-z**2/50 - sqrt(5)*z**2/250 + sqrt(5)*z/25) - 39062500*z**6*exp(-z**2/50 - sqrt(5)*z**2/250 + sqrt(5)*z/25) - 488281250*z**5*exp(-z**2/50 - sqrt(5)*z**2/250 + sqrt(5)*z/25) - 4882812500*z**4*exp(-z**2/50 - sqrt(5)*z**2/250 + sqrt(5)*z/25) + 2441406250*z**3*exp(-z**2/50 - sqrt(5)*z**2/250 + sqrt(5)*z/25) + 152587890625*exp(-z**2/50 - sqrt(5)*z**2/250 + sqrt(5)*z/25))/(220*z**17*exp(-z**2/25 - sqrt(5)*z**2/125 + 2*sqrt(5)*z/25) + 308*sqrt(5)*z**17*exp(-z**2/25 - sqrt(5)*z**2/125 + 2*sqrt(5)*z/25) + 660*sqrt(5)*z**16*exp(-z**2/25 - sqrt(5)*z**2/125 + 2*sqrt(5)*z/25) + 2200*z**16*exp(-z**2/25 - sqrt(5)*z**2/125 + 2*sqrt(5)*z/25) + 4400*z**15*exp(-z**2/25 - sqrt(5)*z**2/125 + 2*sqrt(5)*z/25) + 6600*sqrt(5)*z**15*exp(-z**2/25 - sqrt(5)*z**2/125 + 2*sqrt(5)*z/25) + 16500*sqrt(5)*z**14*exp(-z**2/25 - sqrt(5)*z**2/125 + 2*sqrt(5)*z/25) + 55000*z**14*exp(-z**2/25 - sqrt(5)*z**2/125 + 2*sqrt(5)*z/25) - 75625*sqrt(5)*z**13*exp(-z**2/25 - sqrt(5)*z**2/125 + 2*sqrt(5)*z/25) - 61875*z**13*exp(-z**2/25 - sqrt(5)*z**2/125 + 2*sqrt(5)*z/25) - 481250*z**12*exp(-z**2/25 - sqrt(5)*z**2/125 + 2*sqrt(5)*z/25) - 103125*sqrt(5)*z**12*exp(-z**2/25 - sqrt(5)*z**2/125 + 2*sqrt(5)*z/25) - 943750*sqrt(5)*z**11*exp(-z**2/25 - sqrt(5)*z**2/125 + 2*sqrt(5)*z/25) - 625000*z**11*exp(-z**2/25 - sqrt(5)*z**2/125 + 2*sqrt(5)*z/25) - 11406250*z**10*exp(-z**2/25 - sqrt(5)*z**2/125 + 2*sqrt(5)*z/25) - 2390625*sqrt(5)*z**10*exp(-z**2/25 - sqrt(5)*z**2/125 + 2*sqrt(5)*z/25) + 5546875*z**9*exp(-z**2/25 - sqrt(5)*z**2/125 + 2*sqrt(5)*z/25) + 6171875*sqrt(5)*z**9*exp(-z**2/25 - sqrt(5)*z**2/125 + 2*sqrt(5)*z/25) + 4687500*sqrt(5)*z**8*exp(-z**2/25 - sqrt(5)*z**2/125 + 2*sqrt(5)*z/25) + 37109375*z**8*exp(-z**2/25 - sqrt(5)*z**2/125 + 2*sqrt(5)*z/25) - 21484375*sqrt(5)*z**7*exp(-z**2/25 - sqrt(5)*z**2/125 + 2*sqrt(5)*z/25) - 17578125*z**7*exp(-z**2/25 - sqrt(5)*z**2/125 + 2*sqrt(5)*z/25) - 29296875*sqrt(5)*z**6*exp(-z**2/25 - sqrt(5)*z**2/125 + 2*sqrt(5)*z/25) + 400390625*z**6*exp(-z**2/25 - sqrt(5)*z**2/125 + 2*sqrt(5)*z/25) - 292968750*sqrt(5)*z**5*exp(-z**2/25 - sqrt(5)*z**2/125 + 2*sqrt(5)*z/25) - 195312500*z**5*exp(-z**2/25 - sqrt(5)*z**2/125 + 2*sqrt(5)*z/25) - 3417968750*z**4*exp(-z**2/25 - sqrt(5)*z**2/125 + 2*sqrt(5)*z/25) - 732421875*sqrt(5)*z**4*exp(-z**2/25 - sqrt(5)*z**2/125 + 2*sqrt(5)*z/25) + 1220703125*z**3*exp(-z**2/25 - sqrt(5)*z**2/125 + 2*sqrt(5)*z/25) + 1220703125*sqrt(5)*z**3*exp(-z**2/25 - sqrt(5)*z**2/125 + 2*sqrt(5)*z/25) + 6103515625*z**2*exp(-z**2/25 - sqrt(5)*z**2/125 + 2*sqrt(5)*z/25) + 152587890625*exp(-z**2/25 - sqrt(5)*z**2/125 + 2*sqrt(5)*z/25)), (250000*z**11 + 625000*sqrt(5)*z**11 + 1093750*sqrt(5)*z**10 + 4218750*z**10 - 2187500*sqrt(5)*z**9 - 1562500*z**9 - 105468750*z**8 - 27343750*sqrt(5)*z**8 - 263671875*z**7 - 111328125*sqrt(5)*z**7 + 195312500*z**6 + 273437500*sqrt(5)*z**6 - 537109375*sqrt(5)*z**5 - 439453125*z**5 + 976562500*z**4 + 6103515625*z**3 + 8544921875*sqrt(5)*z**3 - 24414062500*z**2 - 30517578125*z + 30517578125*sqrt(5)*z)/(440*z**17*exp(-z**2/50 + sqrt(5)*z**2/250 - sqrt(5)*z/25) + 616*sqrt(5)*z**17*exp(-z**2/50 + sqrt(5)*z**2/250 - sqrt(5)*z/25) + 1320*sqrt(5)*z**16*exp(-z**2/50 + sqrt(5)*z**2/250 - sqrt(5)*z/25) + 4400*z**16*exp(-z**2/50 + sqrt(5)*z**2/250 - sqrt(5)*z/25) + 8800*z**15*exp(-z**2/50 + sqrt(5)*z**2/250 - sqrt(5)*z/25) + 13200*sqrt(5)*z**15*exp(-z**2/50 + sqrt(5)*z**2/250 - sqrt(5)*z/25) + 33000*sqrt(5)*z**14*exp(-z**2/50 + sqrt(5)*z**2/250 - sqrt(5)*z/25) + 110000*z**14*exp(-z**2/50 + sqrt(5)*z**2/250 - sqrt(5)*z/25) - 151250*sqrt(5)*z**13*exp(-z**2/50 + sqrt(5)*z**2/250 - sqrt(5)*z/25) - 123750*z**13*exp(-z**2/50 + sqrt(5)*z**2/250 - sqrt(5)*z/25) - 962500*z**12*exp(-z**2/50 + sqrt(5)*z**2/250 - sqrt(5)*z/25) - 206250*sqrt(5)*z**12*exp(-z**2/50 + sqrt(5)*z**2/250 - sqrt(5)*z/25) - 1887500*sqrt(5)*z**11*exp(-z**2/50 + sqrt(5)*z**2/250 - sqrt(5)*z/25) - 1250000*z**11*exp(-z**2/50 + sqrt(5)*z**2/250 - sqrt(5)*z/25) - 22812500*z**10*exp(-z**2/50 + sqrt(5)*z**2/250 - sqrt(5)*z/25) - 4781250*sqrt(5)*z**10*exp(-z**2/50 + sqrt(5)*z**2/250 - sqrt(5)*z/25) + 11093750*z**9*exp(-z**2/50 + sqrt(5)*z**2/250 - sqrt(5)*z/25) + 12343750*sqrt(5)*z**9*exp(-z**2/50 + sqrt(5)*z**2/250 - sqrt(5)*z/25) + 9375000*sqrt(5)*z**8*exp(-z**2/50 + sqrt(5)*z**2/250 - sqrt(5)*z/25) + 74218750*z**8*exp(-z**2/50 + sqrt(5)*z**2/250 - sqrt(5)*z/25) - 42968750*sqrt(5)*z**7*exp(-z**2/50 + sqrt(5)*z**2/250 - sqrt(5)*z/25) - 35156250*z**7*exp(-z**2/50 + sqrt(5)*z**2/250 - sqrt(5)*z/25) - 58593750*sqrt(5)*z**6*exp(-z**2/50 + sqrt(5)*z**2/250 - sqrt(5)*z/25) + 800781250*z**6*exp(-z**2/50 + sqrt(5)*z**2/250 - sqrt(5)*z/25) - 585937500*sqrt(5)*z**5*exp(-z**2/50 + sqrt(5)*z**2/250 - sqrt(5)*z/25) - 390625000*z**5*exp(-z**2/50 + sqrt(5)*z**2/250 - sqrt(5)*z/25) - 6835937500*z**4*exp(-z**2/50 + sqrt(5)*z**2/250 - sqrt(5)*z/25) - 1464843750*sqrt(5)*z**4*exp(-z**2/50 + sqrt(5)*z**2/250 - sqrt(5)*z/25) + 2441406250*z**3*exp(-z**2/50 + sqrt(5)*z**2/250 - sqrt(5)*z/25) + 2441406250*sqrt(5)*z**3*exp(-z**2/50 + sqrt(5)*z**2/250 - sqrt(5)*z/25) + 12207031250*z**2*exp(-z**2/50 + sqrt(5)*z**2/250 - sqrt(5)*z/25) + 305175781250*exp(-z**2/50 + sqrt(5)*z**2/250 - sqrt(5)*z/25))], [(6250*sqrt(5)*z**6 + 93750*z**6 - 1953125*z**3 + 2734375*sqrt(5)*z**3 + 7812500*z**2 + 9765625*z + 9765625*sqrt(5)*z)/(88*z**12*exp(-z**2/50 - sqrt(5)*z**2/250 + sqrt(5)*z/25) + 2200*z**10*exp(-z**2/50 - sqrt(5)*z**2/250 + sqrt(5)*z/25) - 13750*z**8*exp(-z**2/50 - sqrt(5)*z**2/250 + sqrt(5)*z/25) - 318750*z**6*exp(-z**2/50 - sqrt(5)*z**2/250 + sqrt(5)*z/25) + 625000*z**4*exp(-z**2/50 - sqrt(5)*z**2/250 + sqrt(5)*z/25) - 3906250*z**2*exp(-z**2/50 - sqrt(5)*z**2/250 + sqrt(5)*z/25) - 97656250*exp(-z**2/50 - sqrt(5)*z**2/250 + sqrt(5)*z/25)), (78125*z**5 + 109375*sqrt(5)*z**5 + 234375*sqrt(5)*z**4 + 781250*z**4 - 390625*sqrt(5)*z**3 - 390625*z**3 - 48828125)/(44*z**12*exp(-z**2/50 + sqrt(5)*z**2/250 - sqrt(5)*z/25) + 1100*z**10*exp(-z**2/50 + sqrt(5)*z**2/250 - sqrt(5)*z/25) - 6875*z**8*exp(-z**2/50 + sqrt(5)*z**2/250 - sqrt(5)*z/25) - 159375*z**6*exp(-z**2/50 + sqrt(5)*z**2/250 - sqrt(5)*z/25) + 312500*z**4*exp(-z**2/50 + sqrt(5)*z**2/250 - sqrt(5)*z/25) - 1953125*z**2*exp(-z**2/50 + sqrt(5)*z**2/250 - sqrt(5)*z/25) - 48828125*exp(-z**2/50 + sqrt(5)*z**2/250 - sqrt(5)*z/25))]])\n"
     ]
    }
   ],
   "source": [
    "Total_inverse = Total.inverse()\n",
    "Total_inverse"
   ]
  },
  {
   "cell_type": "code",
   "execution_count": 23,
   "id": "a6467bf1",
   "metadata": {},
   "outputs": [],
   "source": [
    "\n",
    "Psi_prime, Phi_prime = solve_phi(k, transformed_newA)\n",
    "Psi = W * Total_inverse * Psi_prime\n",
    "# We transform newA back by W\n",
    "Psi = Psi.simplify()"
   ]
  },
  {
   "cell_type": "code",
   "execution_count": 24,
   "id": "a59f1f21",
   "metadata": {},
   "outputs": [
    {
     "data": {
      "text/latex": [
       "$\\displaystyle \\left[\\begin{matrix}z^{\\frac{1}{2} - \\frac{\\sqrt{5}}{10}} e^{\\frac{-1 + \\sqrt{5}}{2 z}} & 0\\\\0 & z^{\\frac{\\sqrt{5}}{10} + \\frac{1}{2}} e^{- \\frac{1 + \\sqrt{5}}{2 z}}\\end{matrix}\\right]$"
      ],
      "text/plain": [
       "Matrix([\n",
       "[z**(1/2 - sqrt(5)/10)*exp((-1 + sqrt(5))/(2*z)),                                               0],\n",
       "[                                              0, z**(sqrt(5)/10 + 1/2)*exp(-(1 + sqrt(5))/(2*z))]])"
      ]
     },
     "execution_count": 24,
     "metadata": {},
     "output_type": "execute_result"
    },
    {
     "data": {
      "text/latex": [
       "$\\displaystyle \\left[\\begin{matrix}\\frac{15625 z^{\\frac{1}{2} - \\frac{\\sqrt{5}}{10}} \\left(44 \\sqrt{5} z^{11} + 132 z^{11} + 220 z^{10} + 440 \\sqrt{5} z^{10} - 1050 z^{9} + 370 \\sqrt{5} z^{9} - 125 \\sqrt{5} z^{8} + 5625 z^{8} + 8625 \\sqrt{5} z^{7} + 31875 z^{7} + 15000 \\sqrt{5} z^{6} + 35000 z^{6} + 71875 z^{5} + 78125 \\sqrt{5} z^{5} - 437500 z^{4} + 250000 \\sqrt{5} z^{4} - 1015625 z^{3} - 234375 \\sqrt{5} z^{3} - 781250 \\sqrt{5} z^{2} - 781250 z^{2} - 5859375 z - 1953125 \\sqrt{5} z - 9765625 \\sqrt{5} + 9765625\\right) e^{\\frac{\\sqrt{5} z^{2}}{250} + \\frac{z^{2}}{50} - \\frac{\\sqrt{5} z}{25} - \\frac{1}{2 z} + \\frac{\\sqrt{5}}{2 z}}}{2 \\left(220 z^{17} + 308 \\sqrt{5} z^{17} + 660 \\sqrt{5} z^{16} + 2200 z^{16} + 4400 z^{15} + 6600 \\sqrt{5} z^{15} + 16500 \\sqrt{5} z^{14} + 55000 z^{14} - 75625 \\sqrt{5} z^{13} - 61875 z^{13} - 481250 z^{12} - 103125 \\sqrt{5} z^{12} - 943750 \\sqrt{5} z^{11} - 625000 z^{11} - 11406250 z^{10} - 2390625 \\sqrt{5} z^{10} + 5546875 z^{9} + 6171875 \\sqrt{5} z^{9} + 4687500 \\sqrt{5} z^{8} + 37109375 z^{8} - 21484375 \\sqrt{5} z^{7} - 17578125 z^{7} - 29296875 \\sqrt{5} z^{6} + 400390625 z^{6} - 292968750 \\sqrt{5} z^{5} - 195312500 z^{5} - 3417968750 z^{4} - 732421875 \\sqrt{5} z^{4} + 1220703125 z^{3} + 1220703125 \\sqrt{5} z^{3} + 6103515625 z^{2} + 152587890625\\right)} & - \\frac{15625 z^{\\frac{\\sqrt{5}}{10} + \\frac{1}{2}} \\left(z \\left(1 - \\sqrt{5}\\right) \\left(- 44 z^{12} - 1100 z^{10} + 6875 z^{8} + 159375 z^{6} - 312500 z^{4} + 1953125 z^{2} + 48828125\\right) \\left(- 40 \\sqrt{5} z^{10} - 16 z^{10} - 270 z^{9} - 70 \\sqrt{5} z^{9} + 100 z^{8} + 140 \\sqrt{5} z^{8} + 1750 \\sqrt{5} z^{7} + 6750 z^{7} + 7125 \\sqrt{5} z^{6} + 16875 z^{6} - 17500 \\sqrt{5} z^{5} - 12500 z^{5} + 28125 z^{4} + 34375 \\sqrt{5} z^{4} - 62500 z^{3} - 546875 \\sqrt{5} z^{2} - 390625 z^{2} + 1562500 z - 1953125 \\sqrt{5} + 1953125\\right) + 2 \\left(1 + \\sqrt{5}\\right) \\left(5 z^{5} + 7 \\sqrt{5} z^{5} + 15 \\sqrt{5} z^{4} + 50 z^{4} - 25 \\sqrt{5} z^{3} - 25 z^{3} - 3125\\right) \\left(220 z^{17} + 308 \\sqrt{5} z^{17} + 660 \\sqrt{5} z^{16} + 2200 z^{16} + 4400 z^{15} + 6600 \\sqrt{5} z^{15} + 16500 \\sqrt{5} z^{14} + 55000 z^{14} - 75625 \\sqrt{5} z^{13} - 61875 z^{13} - 481250 z^{12} - 103125 \\sqrt{5} z^{12} - 943750 \\sqrt{5} z^{11} - 625000 z^{11} - 11406250 z^{10} - 2390625 \\sqrt{5} z^{10} + 5546875 z^{9} + 6171875 \\sqrt{5} z^{9} + 4687500 \\sqrt{5} z^{8} + 37109375 z^{8} - 21484375 \\sqrt{5} z^{7} - 17578125 z^{7} - 29296875 \\sqrt{5} z^{6} + 400390625 z^{6} - 292968750 \\sqrt{5} z^{5} - 195312500 z^{5} - 3417968750 z^{4} - 732421875 \\sqrt{5} z^{4} + 1220703125 z^{3} + 1220703125 \\sqrt{5} z^{3} + 6103515625 z^{2} + 152587890625\\right)\\right) e^{\\frac{z \\left(- \\sqrt{5} z + 5 z + 10 \\sqrt{5}\\right)}{250} - \\frac{1 + \\sqrt{5}}{2 z}}}{4 \\left(- 44 z^{12} - 1100 z^{10} + 6875 z^{8} + 159375 z^{6} - 312500 z^{4} + 1953125 z^{2} + 48828125\\right) \\left(220 z^{17} + 308 \\sqrt{5} z^{17} + 660 \\sqrt{5} z^{16} + 2200 z^{16} + 4400 z^{15} + 6600 \\sqrt{5} z^{15} + 16500 \\sqrt{5} z^{14} + 55000 z^{14} - 75625 \\sqrt{5} z^{13} - 61875 z^{13} - 481250 z^{12} - 103125 \\sqrt{5} z^{12} - 943750 \\sqrt{5} z^{11} - 625000 z^{11} - 11406250 z^{10} - 2390625 \\sqrt{5} z^{10} + 5546875 z^{9} + 6171875 \\sqrt{5} z^{9} + 4687500 \\sqrt{5} z^{8} + 37109375 z^{8} - 21484375 \\sqrt{5} z^{7} - 17578125 z^{7} - 29296875 \\sqrt{5} z^{6} + 400390625 z^{6} - 292968750 \\sqrt{5} z^{5} - 195312500 z^{5} - 3417968750 z^{4} - 732421875 \\sqrt{5} z^{4} + 1220703125 z^{3} + 1220703125 \\sqrt{5} z^{3} + 6103515625 z^{2} + 152587890625\\right)}\\\\\\frac{15625 z^{\\frac{1}{2} - \\frac{\\sqrt{5}}{10}} \\left(44 z^{11} + 44 \\sqrt{5} z^{11} - 110 z^{10} + 110 \\sqrt{5} z^{10} - 1300 z^{9} - 160 \\sqrt{5} z^{9} + 11250 z^{8} + 11875 z^{7} + 10375 \\sqrt{5} z^{7} + 7500 z^{6} + 12500 \\sqrt{5} z^{6} + 3125 z^{5} + 28125 \\sqrt{5} z^{5} - 718750 z^{4} - 31250 \\sqrt{5} z^{4} - 546875 \\sqrt{5} z^{3} + 703125 z^{3} - 1562500 z^{2} - 1953125 \\sqrt{5} z - 1953125 z + 19531250\\right) e^{\\frac{\\sqrt{5} z^{2}}{250} + \\frac{z^{2}}{50} - \\frac{\\sqrt{5} z}{25} - \\frac{1}{2 z} + \\frac{\\sqrt{5}}{2 z}}}{2 \\left(220 z^{17} + 308 \\sqrt{5} z^{17} + 660 \\sqrt{5} z^{16} + 2200 z^{16} + 4400 z^{15} + 6600 \\sqrt{5} z^{15} + 16500 \\sqrt{5} z^{14} + 55000 z^{14} - 75625 \\sqrt{5} z^{13} - 61875 z^{13} - 481250 z^{12} - 103125 \\sqrt{5} z^{12} - 943750 \\sqrt{5} z^{11} - 625000 z^{11} - 11406250 z^{10} - 2390625 \\sqrt{5} z^{10} + 5546875 z^{9} + 6171875 \\sqrt{5} z^{9} + 4687500 \\sqrt{5} z^{8} + 37109375 z^{8} - 21484375 \\sqrt{5} z^{7} - 17578125 z^{7} - 29296875 \\sqrt{5} z^{6} + 400390625 z^{6} - 292968750 \\sqrt{5} z^{5} - 195312500 z^{5} - 3417968750 z^{4} - 732421875 \\sqrt{5} z^{4} + 1220703125 z^{3} + 1220703125 \\sqrt{5} z^{3} + 6103515625 z^{2} + 152587890625\\right)} & - \\frac{15625 z^{\\frac{\\sqrt{5}}{10} + \\frac{1}{2}} \\left(\\frac{z \\left(- 44 z^{12} - 1100 z^{10} + 6875 z^{8} + 159375 z^{6} - 312500 z^{4} + 1953125 z^{2} + 48828125\\right) \\left(- 40 \\sqrt{5} z^{10} - 16 z^{10} - 270 z^{9} - 70 \\sqrt{5} z^{9} + 100 z^{8} + 140 \\sqrt{5} z^{8} + 1750 \\sqrt{5} z^{7} + 6750 z^{7} + 7125 \\sqrt{5} z^{6} + 16875 z^{6} - 17500 \\sqrt{5} z^{5} - 12500 z^{5} + 28125 z^{4} + 34375 \\sqrt{5} z^{4} - 62500 z^{3} - 546875 \\sqrt{5} z^{2} - 390625 z^{2} + 1562500 z - 1953125 \\sqrt{5} + 1953125\\right)}{2} + \\left(5 z^{5} + 7 \\sqrt{5} z^{5} + 15 \\sqrt{5} z^{4} + 50 z^{4} - 25 \\sqrt{5} z^{3} - 25 z^{3} - 3125\\right) \\left(220 z^{17} + 308 \\sqrt{5} z^{17} + 660 \\sqrt{5} z^{16} + 2200 z^{16} + 4400 z^{15} + 6600 \\sqrt{5} z^{15} + 16500 \\sqrt{5} z^{14} + 55000 z^{14} - 75625 \\sqrt{5} z^{13} - 61875 z^{13} - 481250 z^{12} - 103125 \\sqrt{5} z^{12} - 943750 \\sqrt{5} z^{11} - 625000 z^{11} - 11406250 z^{10} - 2390625 \\sqrt{5} z^{10} + 5546875 z^{9} + 6171875 \\sqrt{5} z^{9} + 4687500 \\sqrt{5} z^{8} + 37109375 z^{8} - 21484375 \\sqrt{5} z^{7} - 17578125 z^{7} - 29296875 \\sqrt{5} z^{6} + 400390625 z^{6} - 292968750 \\sqrt{5} z^{5} - 195312500 z^{5} - 3417968750 z^{4} - 732421875 \\sqrt{5} z^{4} + 1220703125 z^{3} + 1220703125 \\sqrt{5} z^{3} + 6103515625 z^{2} + 152587890625\\right)\\right) e^{\\frac{z \\left(- \\sqrt{5} z + 5 z + 10 \\sqrt{5}\\right)}{250} - \\frac{1 + \\sqrt{5}}{2 z}}}{\\left(- 44 z^{12} - 1100 z^{10} + 6875 z^{8} + 159375 z^{6} - 312500 z^{4} + 1953125 z^{2} + 48828125\\right) \\left(220 z^{17} + 308 \\sqrt{5} z^{17} + 660 \\sqrt{5} z^{16} + 2200 z^{16} + 4400 z^{15} + 6600 \\sqrt{5} z^{15} + 16500 \\sqrt{5} z^{14} + 55000 z^{14} - 75625 \\sqrt{5} z^{13} - 61875 z^{13} - 481250 z^{12} - 103125 \\sqrt{5} z^{12} - 943750 \\sqrt{5} z^{11} - 625000 z^{11} - 11406250 z^{10} - 2390625 \\sqrt{5} z^{10} + 5546875 z^{9} + 6171875 \\sqrt{5} z^{9} + 4687500 \\sqrt{5} z^{8} + 37109375 z^{8} - 21484375 \\sqrt{5} z^{7} - 17578125 z^{7} - 29296875 \\sqrt{5} z^{6} + 400390625 z^{6} - 292968750 \\sqrt{5} z^{5} - 195312500 z^{5} - 3417968750 z^{4} - 732421875 \\sqrt{5} z^{4} + 1220703125 z^{3} + 1220703125 \\sqrt{5} z^{3} + 6103515625 z^{2} + 152587890625\\right)}\\end{matrix}\\right]$"
      ],
      "text/plain": [
       "Matrix([\n",
       "[15625*z**(1/2 - sqrt(5)/10)*(44*sqrt(5)*z**11 + 132*z**11 + 220*z**10 + 440*sqrt(5)*z**10 - 1050*z**9 + 370*sqrt(5)*z**9 - 125*sqrt(5)*z**8 + 5625*z**8 + 8625*sqrt(5)*z**7 + 31875*z**7 + 15000*sqrt(5)*z**6 + 35000*z**6 + 71875*z**5 + 78125*sqrt(5)*z**5 - 437500*z**4 + 250000*sqrt(5)*z**4 - 1015625*z**3 - 234375*sqrt(5)*z**3 - 781250*sqrt(5)*z**2 - 781250*z**2 - 5859375*z - 1953125*sqrt(5)*z - 9765625*sqrt(5) + 9765625)*exp(sqrt(5)*z**2/250 + z**2/50 - sqrt(5)*z/25 - 1/(2*z) + sqrt(5)/(2*z))/(2*(220*z**17 + 308*sqrt(5)*z**17 + 660*sqrt(5)*z**16 + 2200*z**16 + 4400*z**15 + 6600*sqrt(5)*z**15 + 16500*sqrt(5)*z**14 + 55000*z**14 - 75625*sqrt(5)*z**13 - 61875*z**13 - 481250*z**12 - 103125*sqrt(5)*z**12 - 943750*sqrt(5)*z**11 - 625000*z**11 - 11406250*z**10 - 2390625*sqrt(5)*z**10 + 5546875*z**9 + 6171875*sqrt(5)*z**9 + 4687500*sqrt(5)*z**8 + 37109375*z**8 - 21484375*sqrt(5)*z**7 - 17578125*z**7 - 29296875*sqrt(5)*z**6 + 400390625*z**6 - 292968750*sqrt(5)*z**5 - 195312500*z**5 - 3417968750*z**4 - 732421875*sqrt(5)*z**4 + 1220703125*z**3 + 1220703125*sqrt(5)*z**3 + 6103515625*z**2 + 152587890625)), -15625*z**(sqrt(5)/10 + 1/2)*(z*(1 - sqrt(5))*(-44*z**12 - 1100*z**10 + 6875*z**8 + 159375*z**6 - 312500*z**4 + 1953125*z**2 + 48828125)*(-40*sqrt(5)*z**10 - 16*z**10 - 270*z**9 - 70*sqrt(5)*z**9 + 100*z**8 + 140*sqrt(5)*z**8 + 1750*sqrt(5)*z**7 + 6750*z**7 + 7125*sqrt(5)*z**6 + 16875*z**6 - 17500*sqrt(5)*z**5 - 12500*z**5 + 28125*z**4 + 34375*sqrt(5)*z**4 - 62500*z**3 - 546875*sqrt(5)*z**2 - 390625*z**2 + 1562500*z - 1953125*sqrt(5) + 1953125) + 2*(1 + sqrt(5))*(5*z**5 + 7*sqrt(5)*z**5 + 15*sqrt(5)*z**4 + 50*z**4 - 25*sqrt(5)*z**3 - 25*z**3 - 3125)*(220*z**17 + 308*sqrt(5)*z**17 + 660*sqrt(5)*z**16 + 2200*z**16 + 4400*z**15 + 6600*sqrt(5)*z**15 + 16500*sqrt(5)*z**14 + 55000*z**14 - 75625*sqrt(5)*z**13 - 61875*z**13 - 481250*z**12 - 103125*sqrt(5)*z**12 - 943750*sqrt(5)*z**11 - 625000*z**11 - 11406250*z**10 - 2390625*sqrt(5)*z**10 + 5546875*z**9 + 6171875*sqrt(5)*z**9 + 4687500*sqrt(5)*z**8 + 37109375*z**8 - 21484375*sqrt(5)*z**7 - 17578125*z**7 - 29296875*sqrt(5)*z**6 + 400390625*z**6 - 292968750*sqrt(5)*z**5 - 195312500*z**5 - 3417968750*z**4 - 732421875*sqrt(5)*z**4 + 1220703125*z**3 + 1220703125*sqrt(5)*z**3 + 6103515625*z**2 + 152587890625))*exp(z*(-sqrt(5)*z + 5*z + 10*sqrt(5))/250 - (1 + sqrt(5))/(2*z))/(4*(-44*z**12 - 1100*z**10 + 6875*z**8 + 159375*z**6 - 312500*z**4 + 1953125*z**2 + 48828125)*(220*z**17 + 308*sqrt(5)*z**17 + 660*sqrt(5)*z**16 + 2200*z**16 + 4400*z**15 + 6600*sqrt(5)*z**15 + 16500*sqrt(5)*z**14 + 55000*z**14 - 75625*sqrt(5)*z**13 - 61875*z**13 - 481250*z**12 - 103125*sqrt(5)*z**12 - 943750*sqrt(5)*z**11 - 625000*z**11 - 11406250*z**10 - 2390625*sqrt(5)*z**10 + 5546875*z**9 + 6171875*sqrt(5)*z**9 + 4687500*sqrt(5)*z**8 + 37109375*z**8 - 21484375*sqrt(5)*z**7 - 17578125*z**7 - 29296875*sqrt(5)*z**6 + 400390625*z**6 - 292968750*sqrt(5)*z**5 - 195312500*z**5 - 3417968750*z**4 - 732421875*sqrt(5)*z**4 + 1220703125*z**3 + 1220703125*sqrt(5)*z**3 + 6103515625*z**2 + 152587890625))],\n",
       "[                                                            15625*z**(1/2 - sqrt(5)/10)*(44*z**11 + 44*sqrt(5)*z**11 - 110*z**10 + 110*sqrt(5)*z**10 - 1300*z**9 - 160*sqrt(5)*z**9 + 11250*z**8 + 11875*z**7 + 10375*sqrt(5)*z**7 + 7500*z**6 + 12500*sqrt(5)*z**6 + 3125*z**5 + 28125*sqrt(5)*z**5 - 718750*z**4 - 31250*sqrt(5)*z**4 - 546875*sqrt(5)*z**3 + 703125*z**3 - 1562500*z**2 - 1953125*sqrt(5)*z - 1953125*z + 19531250)*exp(sqrt(5)*z**2/250 + z**2/50 - sqrt(5)*z/25 - 1/(2*z) + sqrt(5)/(2*z))/(2*(220*z**17 + 308*sqrt(5)*z**17 + 660*sqrt(5)*z**16 + 2200*z**16 + 4400*z**15 + 6600*sqrt(5)*z**15 + 16500*sqrt(5)*z**14 + 55000*z**14 - 75625*sqrt(5)*z**13 - 61875*z**13 - 481250*z**12 - 103125*sqrt(5)*z**12 - 943750*sqrt(5)*z**11 - 625000*z**11 - 11406250*z**10 - 2390625*sqrt(5)*z**10 + 5546875*z**9 + 6171875*sqrt(5)*z**9 + 4687500*sqrt(5)*z**8 + 37109375*z**8 - 21484375*sqrt(5)*z**7 - 17578125*z**7 - 29296875*sqrt(5)*z**6 + 400390625*z**6 - 292968750*sqrt(5)*z**5 - 195312500*z**5 - 3417968750*z**4 - 732421875*sqrt(5)*z**4 + 1220703125*z**3 + 1220703125*sqrt(5)*z**3 + 6103515625*z**2 + 152587890625)),                               -15625*z**(sqrt(5)/10 + 1/2)*(z*(-44*z**12 - 1100*z**10 + 6875*z**8 + 159375*z**6 - 312500*z**4 + 1953125*z**2 + 48828125)*(-40*sqrt(5)*z**10 - 16*z**10 - 270*z**9 - 70*sqrt(5)*z**9 + 100*z**8 + 140*sqrt(5)*z**8 + 1750*sqrt(5)*z**7 + 6750*z**7 + 7125*sqrt(5)*z**6 + 16875*z**6 - 17500*sqrt(5)*z**5 - 12500*z**5 + 28125*z**4 + 34375*sqrt(5)*z**4 - 62500*z**3 - 546875*sqrt(5)*z**2 - 390625*z**2 + 1562500*z - 1953125*sqrt(5) + 1953125)/2 + (5*z**5 + 7*sqrt(5)*z**5 + 15*sqrt(5)*z**4 + 50*z**4 - 25*sqrt(5)*z**3 - 25*z**3 - 3125)*(220*z**17 + 308*sqrt(5)*z**17 + 660*sqrt(5)*z**16 + 2200*z**16 + 4400*z**15 + 6600*sqrt(5)*z**15 + 16500*sqrt(5)*z**14 + 55000*z**14 - 75625*sqrt(5)*z**13 - 61875*z**13 - 481250*z**12 - 103125*sqrt(5)*z**12 - 943750*sqrt(5)*z**11 - 625000*z**11 - 11406250*z**10 - 2390625*sqrt(5)*z**10 + 5546875*z**9 + 6171875*sqrt(5)*z**9 + 4687500*sqrt(5)*z**8 + 37109375*z**8 - 21484375*sqrt(5)*z**7 - 17578125*z**7 - 29296875*sqrt(5)*z**6 + 400390625*z**6 - 292968750*sqrt(5)*z**5 - 195312500*z**5 - 3417968750*z**4 - 732421875*sqrt(5)*z**4 + 1220703125*z**3 + 1220703125*sqrt(5)*z**3 + 6103515625*z**2 + 152587890625))*exp(z*(-sqrt(5)*z + 5*z + 10*sqrt(5))/250 - (1 + sqrt(5))/(2*z))/((-44*z**12 - 1100*z**10 + 6875*z**8 + 159375*z**6 - 312500*z**4 + 1953125*z**2 + 48828125)*(220*z**17 + 308*sqrt(5)*z**17 + 660*sqrt(5)*z**16 + 2200*z**16 + 4400*z**15 + 6600*sqrt(5)*z**15 + 16500*sqrt(5)*z**14 + 55000*z**14 - 75625*sqrt(5)*z**13 - 61875*z**13 - 481250*z**12 - 103125*sqrt(5)*z**12 - 943750*sqrt(5)*z**11 - 625000*z**11 - 11406250*z**10 - 2390625*sqrt(5)*z**10 + 5546875*z**9 + 6171875*sqrt(5)*z**9 + 4687500*sqrt(5)*z**8 + 37109375*z**8 - 21484375*sqrt(5)*z**7 - 17578125*z**7 - 29296875*sqrt(5)*z**6 + 400390625*z**6 - 292968750*sqrt(5)*z**5 - 195312500*z**5 - 3417968750*z**4 - 732421875*sqrt(5)*z**4 + 1220703125*z**3 + 1220703125*sqrt(5)*z**3 + 6103515625*z**2 + 152587890625))]])"
      ]
     },
     "execution_count": 24,
     "metadata": {},
     "output_type": "execute_result"
    }
   ],
   "source": [
    "Psi_prime\n",
    "Psi"
   ]
  },
  {
   "cell_type": "code",
   "execution_count": 28,
   "id": "b7af2971",
   "metadata": {},
   "outputs": [],
   "source": [
    "# Final_Phi = get_phi_from_psi(Psi, k)"
   ]
  },
  {
   "cell_type": "code",
   "execution_count": null,
   "id": "5dfe88a3",
   "metadata": {},
   "outputs": [],
   "source": []
  },
  {
   "cell_type": "markdown",
   "id": "337173b1-8fa4-4309-a153-c8c511de68cc",
   "metadata": {},
   "source": [
    "Example3: \n",
    "\n",
    "$z^2 \\psi' = \\begin{pmatrix} \\cos(z)+1 & \\sin(z) \\\\ -\\sin(z) & \\cos(z) \\end{pmatrix} \\psi$ \n",
    "\n",
    "We are working on Sto_2\n",
    "\n",
    "We trancate the Gauge Transform series up to some given order "
   ]
  },
  {
   "cell_type": "code",
   "execution_count": 25,
   "id": "758d4f66-67e5-4aba-a2c5-a04875557057",
   "metadata": {},
   "outputs": [],
   "source": [
    "A = Matrix([[cos(z)+1, sin(z)], [-sin(z), cos(z)]])\n",
    "n = 2\n",
    "k = 2\n",
    "order = 3\n",
    "# This means that we only approaching using the first 3 terms"
   ]
  },
  {
   "cell_type": "code",
   "execution_count": 26,
   "id": "f45cb6ab-5117-4265-87df-6748ae27d37c",
   "metadata": {},
   "outputs": [],
   "source": [
    "K_trunc, F_trunc, Total = get_Gauge_up_to_order(A, k, order)\n",
    "# Takes 8 minutes"
   ]
  },
  {
   "cell_type": "code",
   "execution_count": 28,
   "id": "c67c62c1-4dce-406d-8e37-cdc07910e8fb",
   "metadata": {},
   "outputs": [
    {
     "data": {
      "text/latex": [
       "$\\displaystyle \\left[\\begin{matrix}z^{3} \\left(- \\frac{17 z^{2}}{6} + \\frac{17 z}{6}\\right) + z^{3} + 1 & z^{3} \\left(\\frac{17}{6} - \\frac{17 z^{3}}{6}\\right) + z^{2} + z\\\\z^{3} \\left(\\frac{17 z^{3}}{6} + \\frac{17}{6}\\right) - z^{2} + z & z^{3} \\left(\\frac{17 z^{2}}{6} + \\frac{17 z}{6}\\right) - z^{3} + 1\\end{matrix}\\right]$"
      ],
      "text/plain": [
       "Matrix([\n",
       "[z**3*(-17*z**2/6 + 17*z/6) + z**3 + 1,   z**3*(17/6 - 17*z**3/6) + z**2 + z],\n",
       "[   z**3*(17*z**3/6 + 17/6) - z**2 + z, z**3*(17*z**2/6 + 17*z/6) - z**3 + 1]])"
      ]
     },
     "execution_count": 28,
     "metadata": {},
     "output_type": "execute_result"
    },
    {
     "data": {
      "text/latex": [
       "$\\displaystyle \\left[\\begin{matrix}e^{\\frac{z \\left(z + 3\\right)}{2}} & 0\\\\0 & e^{\\frac{z \\left(z - 1\\right)}{2}}\\end{matrix}\\right]$"
      ],
      "text/plain": [
       "Matrix([\n",
       "[exp(z*(z + 3)/2),                0],\n",
       "[               0, exp(z*(z - 1)/2)]])"
      ]
     },
     "execution_count": 28,
     "metadata": {},
     "output_type": "execute_result"
    },
    {
     "data": {
      "text/latex": [
       "$\\displaystyle \\left[\\begin{matrix}\\left(\\frac{z^{4} \\left(17 - 17 z\\right)}{6} + z^{3} + 1\\right) e^{\\frac{z \\left(z + 3\\right)}{2}} & \\frac{z \\left(17 z^{2} \\left(1 - z^{3}\\right) + 6 z + 6\\right) e^{\\frac{z \\left(z + 3\\right)}{2}}}{6}\\\\\\frac{z \\left(17 z^{2} \\left(z^{3} + 1\\right) - 6 z + 6\\right) e^{\\frac{z \\left(z - 1\\right)}{2}}}{6} & \\left(\\frac{z^{4} \\left(17 z + 17\\right)}{6} - z^{3} + 1\\right) e^{\\frac{z \\left(z - 1\\right)}{2}}\\end{matrix}\\right]$"
      ],
      "text/plain": [
       "Matrix([\n",
       "[   (z**4*(17 - 17*z)/6 + z**3 + 1)*exp(z*(z + 3)/2), z*(17*z**2*(1 - z**3) + 6*z + 6)*exp(z*(z + 3)/2)/6],\n",
       "[z*(17*z**2*(z**3 + 1) - 6*z + 6)*exp(z*(z - 1)/2)/6,    (z**4*(17*z + 17)/6 - z**3 + 1)*exp(z*(z - 1)/2)]])"
      ]
     },
     "execution_count": 28,
     "metadata": {},
     "output_type": "execute_result"
    }
   ],
   "source": [
    "F_trunc\n",
    "K_trunc\n",
    "Total"
   ]
  },
  {
   "cell_type": "code",
   "execution_count": 29,
   "id": "fd517bad-da9e-4530-a675-a0d643aa056f",
   "metadata": {},
   "outputs": [],
   "source": [
    "transformed_A = Gauge(k, Total, A)"
   ]
  },
  {
   "cell_type": "code",
   "execution_count": 31,
   "id": "1b38a09e",
   "metadata": {},
   "outputs": [
    {
     "data": {
      "text/latex": [
       "$\\displaystyle \\left[\\begin{matrix}2 & 0\\\\0 & 1\\end{matrix}\\right]$"
      ],
      "text/plain": [
       "Matrix([\n",
       "[2, 0],\n",
       "[0, 1]])"
      ]
     },
     "execution_count": 31,
     "metadata": {},
     "output_type": "execute_result"
    },
    {
     "data": {
      "text/latex": [
       "$\\displaystyle \\left[\\begin{matrix}0 & 0\\\\0 & 0\\end{matrix}\\right]$"
      ],
      "text/plain": [
       "Matrix([\n",
       "[0, 0],\n",
       "[0, 0]])"
      ]
     },
     "execution_count": 31,
     "metadata": {},
     "output_type": "execute_result"
    },
    {
     "data": {
      "text/latex": [
       "$\\displaystyle \\left[\\begin{matrix}0 & 0\\\\0 & 0\\end{matrix}\\right]$"
      ],
      "text/plain": [
       "Matrix([\n",
       "[0, 0],\n",
       "[0, 0]])"
      ]
     },
     "execution_count": 31,
     "metadata": {},
     "output_type": "execute_result"
    },
    {
     "data": {
      "text/latex": [
       "$\\displaystyle \\left[\\begin{matrix}0 & 0\\\\0 & 0\\end{matrix}\\right]$"
      ],
      "text/plain": [
       "Matrix([\n",
       "[0, 0],\n",
       "[0, 0]])"
      ]
     },
     "execution_count": 31,
     "metadata": {},
     "output_type": "execute_result"
    },
    {
     "data": {
      "text/latex": [
       "$\\displaystyle \\left[\\begin{matrix}9 & 276\\\\276 & -7\\end{matrix}\\right]$"
      ],
      "text/plain": [
       "Matrix([\n",
       "[  9, 276],\n",
       "[276,  -7]])"
      ]
     },
     "execution_count": 31,
     "metadata": {},
     "output_type": "execute_result"
    }
   ],
   "source": [
    "# These are its first 4 coefficients (z**0 to z**4) in its Taylor expansion.\n",
    "transformed_A.subs(z, 0)\n",
    "transformed_A.diff(z).subs(z, 0)\n",
    "transformed_A.diff(z,z).subs(z, 0)\n",
    "transformed_A.diff(z,z,z).subs(z, 0)\n",
    "transformed_A.diff(z,z,z,z).subs(z, 0)\n",
    "# Indeed, we can see that it is indeed diagonal up to order z**3, where 3 is the order we set.\n",
    "# Furthermore, due to the functionality of K, the terms after k until order are all zero\n",
    "# Hence, as order goes to infinite, the transformed ode is just a polynomial of order k-1. "
   ]
  },
  {
   "cell_type": "code",
   "execution_count": 32,
   "id": "d99fcaea-c4e3-402d-9781-003bf6dd6871",
   "metadata": {},
   "outputs": [],
   "source": [
    "Total_inverse = Total.inverse()"
   ]
  },
  {
   "cell_type": "code",
   "execution_count": 33,
   "id": "a83ed0fb-28f0-4917-8a9d-bedbe6e72729",
   "metadata": {
    "scrolled": true
   },
   "outputs": [
    {
     "data": {
      "text/latex": [
       "$\\displaystyle \\left[\\begin{matrix}\\frac{102 z^{5} e^{\\frac{z^{2}}{2} + \\frac{3 z}{2}} + 102 z^{4} e^{\\frac{z^{2}}{2} + \\frac{3 z}{2}} - 36 z^{3} e^{\\frac{z^{2}}{2} + \\frac{3 z}{2}} + 36 e^{\\frac{z^{2}}{2} + \\frac{3 z}{2}}}{289 z^{12} e^{z^{2} + 3 z} - 289 z^{10} e^{z^{2} + 3 z} + 289 z^{8} e^{z^{2} + 3 z} - 325 z^{6} e^{z^{2} + 3 z} + 36 z^{4} e^{z^{2} + 3 z} - 36 z^{2} e^{z^{2} + 3 z} + 36 e^{z^{2} + 3 z}} & \\frac{102 z^{6} - 102 z^{3} - 36 z^{2} - 36 z}{289 z^{12} e^{\\frac{z^{2}}{2} - \\frac{z}{2}} - 289 z^{10} e^{\\frac{z^{2}}{2} - \\frac{z}{2}} + 289 z^{8} e^{\\frac{z^{2}}{2} - \\frac{z}{2}} - 325 z^{6} e^{\\frac{z^{2}}{2} - \\frac{z}{2}} + 36 z^{4} e^{\\frac{z^{2}}{2} - \\frac{z}{2}} - 36 z^{2} e^{\\frac{z^{2}}{2} - \\frac{z}{2}} + 36 e^{\\frac{z^{2}}{2} - \\frac{z}{2}}}\\\\\\frac{- 102 z^{6} - 102 z^{3} + 36 z^{2} - 36 z}{289 z^{12} e^{\\frac{z^{2}}{2} + \\frac{3 z}{2}} - 289 z^{10} e^{\\frac{z^{2}}{2} + \\frac{3 z}{2}} + 289 z^{8} e^{\\frac{z^{2}}{2} + \\frac{3 z}{2}} - 325 z^{6} e^{\\frac{z^{2}}{2} + \\frac{3 z}{2}} + 36 z^{4} e^{\\frac{z^{2}}{2} + \\frac{3 z}{2}} - 36 z^{2} e^{\\frac{z^{2}}{2} + \\frac{3 z}{2}} + 36 e^{\\frac{z^{2}}{2} + \\frac{3 z}{2}}} & \\frac{- 102 z^{5} + 102 z^{4} + 36 z^{3} + 36}{289 z^{12} e^{\\frac{z^{2}}{2} - \\frac{z}{2}} - 289 z^{10} e^{\\frac{z^{2}}{2} - \\frac{z}{2}} + 289 z^{8} e^{\\frac{z^{2}}{2} - \\frac{z}{2}} - 325 z^{6} e^{\\frac{z^{2}}{2} - \\frac{z}{2}} + 36 z^{4} e^{\\frac{z^{2}}{2} - \\frac{z}{2}} - 36 z^{2} e^{\\frac{z^{2}}{2} - \\frac{z}{2}} + 36 e^{\\frac{z^{2}}{2} - \\frac{z}{2}}}\\end{matrix}\\right]$"
      ],
      "text/plain": [
       "Matrix([\n",
       "[(102*z**5*exp(z**2/2 + 3*z/2) + 102*z**4*exp(z**2/2 + 3*z/2) - 36*z**3*exp(z**2/2 + 3*z/2) + 36*exp(z**2/2 + 3*z/2))/(289*z**12*exp(z**2 + 3*z) - 289*z**10*exp(z**2 + 3*z) + 289*z**8*exp(z**2 + 3*z) - 325*z**6*exp(z**2 + 3*z) + 36*z**4*exp(z**2 + 3*z) - 36*z**2*exp(z**2 + 3*z) + 36*exp(z**2 + 3*z)), (102*z**6 - 102*z**3 - 36*z**2 - 36*z)/(289*z**12*exp(z**2/2 - z/2) - 289*z**10*exp(z**2/2 - z/2) + 289*z**8*exp(z**2/2 - z/2) - 325*z**6*exp(z**2/2 - z/2) + 36*z**4*exp(z**2/2 - z/2) - 36*z**2*exp(z**2/2 - z/2) + 36*exp(z**2/2 - z/2))],\n",
       "[                                                 (-102*z**6 - 102*z**3 + 36*z**2 - 36*z)/(289*z**12*exp(z**2/2 + 3*z/2) - 289*z**10*exp(z**2/2 + 3*z/2) + 289*z**8*exp(z**2/2 + 3*z/2) - 325*z**6*exp(z**2/2 + 3*z/2) + 36*z**4*exp(z**2/2 + 3*z/2) - 36*z**2*exp(z**2/2 + 3*z/2) + 36*exp(z**2/2 + 3*z/2)),  (-102*z**5 + 102*z**4 + 36*z**3 + 36)/(289*z**12*exp(z**2/2 - z/2) - 289*z**10*exp(z**2/2 - z/2) + 289*z**8*exp(z**2/2 - z/2) - 325*z**6*exp(z**2/2 - z/2) + 36*z**4*exp(z**2/2 - z/2) - 36*z**2*exp(z**2/2 - z/2) + 36*exp(z**2/2 - z/2))]])"
      ]
     },
     "execution_count": 33,
     "metadata": {},
     "output_type": "execute_result"
    }
   ],
   "source": [
    "Total_inverse"
   ]
  },
  {
   "cell_type": "markdown",
   "id": "c903c448-0e11-4798-bf2c-2ab58dda9b9d",
   "metadata": {},
   "source": [
    "Note that Gauge Transform is a group action, meaning that $F_1[F_2[A]] = (F_1F_2)[A]$ so the inverse Gauge Transform is the Gauge Transform of the inverse Matrix, and composed Gauge Transform is the transform of the product Matrix."
   ]
  },
  {
   "cell_type": "markdown",
   "id": "a8a0a7d8-9ef7-4aed-b929-61d27694a4a2",
   "metadata": {},
   "source": [
    "Finally, the equation is $z^k \\psi' = D_0 + D_1 z + ... + D_{k-1}z^{k-1}$"
   ]
  },
  {
   "cell_type": "code",
   "execution_count": 34,
   "id": "65c2241f-577a-492b-95d3-9f121c7df82d",
   "metadata": {},
   "outputs": [],
   "source": [
    "Psi_prime, Phi_prime = solve_phi(k, transformed_A)"
   ]
  },
  {
   "cell_type": "code",
   "execution_count": 35,
   "id": "b2a71d80-f214-4e8d-9ce3-05216404a141",
   "metadata": {},
   "outputs": [
    {
     "data": {
      "text/latex": [
       "$\\displaystyle \\left[\\begin{matrix}e^{- \\frac{2}{z}} & 0\\\\0 & e^{- \\frac{1}{z}}\\end{matrix}\\right]$"
      ],
      "text/plain": [
       "Matrix([\n",
       "[exp(-2/z),         0],\n",
       "[        0, exp(-1/z)]])"
      ]
     },
     "execution_count": 35,
     "metadata": {},
     "output_type": "execute_result"
    }
   ],
   "source": [
    "Psi_prime"
   ]
  },
  {
   "cell_type": "code",
   "execution_count": 36,
   "id": "5f18b2d9-14b8-4e91-bc5f-f64aefc726d1",
   "metadata": {},
   "outputs": [
    {
     "data": {
      "text/latex": [
       "$\\displaystyle \\left[\\begin{matrix}e^{\\frac{2 \\left(1 - e^{- u z}\\right)}{z}} & 0\\\\0 & e^{\\frac{1 - e^{- u z}}{z}}\\end{matrix}\\right]$"
      ],
      "text/plain": [
       "Matrix([\n",
       "[exp(2*(1 - exp(-u*z))/z),                      0],\n",
       "[                       0, exp((1 - exp(-u*z))/z)]])"
      ]
     },
     "execution_count": 36,
     "metadata": {},
     "output_type": "execute_result"
    }
   ],
   "source": [
    "Phi_prime"
   ]
  },
  {
   "cell_type": "markdown",
   "id": "86c61fd3-fc32-432f-9679-495cbc41e3d9",
   "metadata": {},
   "source": [
    "The final solution is $T^{-1}\\Psi$ (we use $T$ to denote the initial change of coordinate that we applied to simplify the system)\n",
    "\n",
    "$T^{-1}$ is the Total_inverse that we just found above."
   ]
  },
  {
   "cell_type": "markdown",
   "id": "0a8531e2-222d-40ed-b8f7-2e4e79c0209e",
   "metadata": {},
   "source": [
    "So the final solution $\\Psi$ is "
   ]
  },
  {
   "cell_type": "code",
   "execution_count": 37,
   "id": "3deced74-ab3d-45a9-bacd-112acff9357a",
   "metadata": {},
   "outputs": [],
   "source": [
    "Psi = Total_inverse * Psi_prime"
   ]
  },
  {
   "cell_type": "markdown",
   "id": "ec143e23-5cea-40e0-bc66-8525ea23cf59",
   "metadata": {},
   "source": [
    "Hence, the original universal solution in the Stokes groupoid of order $k$ is "
   ]
  },
  {
   "cell_type": "code",
   "execution_count": 38,
   "id": "5bc9a850-db8c-4186-95bc-f4331eb2afe0",
   "metadata": {},
   "outputs": [],
   "source": [
    "Phi = get_phi_from_psi(Psi, k)"
   ]
  },
  {
   "cell_type": "code",
   "execution_count": 39,
   "id": "460e7a38-aa3b-4c39-9ecc-a3ef5ced7c40",
   "metadata": {},
   "outputs": [
    {
     "data": {
      "text/latex": [
       "$\\displaystyle \\left[\\begin{matrix}\\frac{\\left(102 z^{5} e^{\\frac{z^{2}}{2} + \\frac{3 z}{2}} + 102 z^{4} e^{\\frac{z^{2}}{2} + \\frac{3 z}{2}} - 36 z^{3} e^{\\frac{z^{2}}{2} + \\frac{3 z}{2}} + 36 e^{\\frac{z^{2}}{2} + \\frac{3 z}{2}}\\right) e^{- \\frac{2}{z}}}{289 z^{12} e^{z^{2} + 3 z} - 289 z^{10} e^{z^{2} + 3 z} + 289 z^{8} e^{z^{2} + 3 z} - 325 z^{6} e^{z^{2} + 3 z} + 36 z^{4} e^{z^{2} + 3 z} - 36 z^{2} e^{z^{2} + 3 z} + 36 e^{z^{2} + 3 z}} & \\frac{\\left(102 z^{6} - 102 z^{3} - 36 z^{2} - 36 z\\right) e^{- \\frac{1}{z}}}{289 z^{12} e^{\\frac{z^{2}}{2} - \\frac{z}{2}} - 289 z^{10} e^{\\frac{z^{2}}{2} - \\frac{z}{2}} + 289 z^{8} e^{\\frac{z^{2}}{2} - \\frac{z}{2}} - 325 z^{6} e^{\\frac{z^{2}}{2} - \\frac{z}{2}} + 36 z^{4} e^{\\frac{z^{2}}{2} - \\frac{z}{2}} - 36 z^{2} e^{\\frac{z^{2}}{2} - \\frac{z}{2}} + 36 e^{\\frac{z^{2}}{2} - \\frac{z}{2}}}\\\\\\frac{\\left(- 102 z^{6} - 102 z^{3} + 36 z^{2} - 36 z\\right) e^{- \\frac{2}{z}}}{289 z^{12} e^{\\frac{z^{2}}{2} + \\frac{3 z}{2}} - 289 z^{10} e^{\\frac{z^{2}}{2} + \\frac{3 z}{2}} + 289 z^{8} e^{\\frac{z^{2}}{2} + \\frac{3 z}{2}} - 325 z^{6} e^{\\frac{z^{2}}{2} + \\frac{3 z}{2}} + 36 z^{4} e^{\\frac{z^{2}}{2} + \\frac{3 z}{2}} - 36 z^{2} e^{\\frac{z^{2}}{2} + \\frac{3 z}{2}} + 36 e^{\\frac{z^{2}}{2} + \\frac{3 z}{2}}} & \\frac{\\left(- 102 z^{5} + 102 z^{4} + 36 z^{3} + 36\\right) e^{- \\frac{1}{z}}}{289 z^{12} e^{\\frac{z^{2}}{2} - \\frac{z}{2}} - 289 z^{10} e^{\\frac{z^{2}}{2} - \\frac{z}{2}} + 289 z^{8} e^{\\frac{z^{2}}{2} - \\frac{z}{2}} - 325 z^{6} e^{\\frac{z^{2}}{2} - \\frac{z}{2}} + 36 z^{4} e^{\\frac{z^{2}}{2} - \\frac{z}{2}} - 36 z^{2} e^{\\frac{z^{2}}{2} - \\frac{z}{2}} + 36 e^{\\frac{z^{2}}{2} - \\frac{z}{2}}}\\end{matrix}\\right]$"
      ],
      "text/plain": [
       "Matrix([\n",
       "[(102*z**5*exp(z**2/2 + 3*z/2) + 102*z**4*exp(z**2/2 + 3*z/2) - 36*z**3*exp(z**2/2 + 3*z/2) + 36*exp(z**2/2 + 3*z/2))*exp(-2/z)/(289*z**12*exp(z**2 + 3*z) - 289*z**10*exp(z**2 + 3*z) + 289*z**8*exp(z**2 + 3*z) - 325*z**6*exp(z**2 + 3*z) + 36*z**4*exp(z**2 + 3*z) - 36*z**2*exp(z**2 + 3*z) + 36*exp(z**2 + 3*z)), (102*z**6 - 102*z**3 - 36*z**2 - 36*z)*exp(-1/z)/(289*z**12*exp(z**2/2 - z/2) - 289*z**10*exp(z**2/2 - z/2) + 289*z**8*exp(z**2/2 - z/2) - 325*z**6*exp(z**2/2 - z/2) + 36*z**4*exp(z**2/2 - z/2) - 36*z**2*exp(z**2/2 - z/2) + 36*exp(z**2/2 - z/2))],\n",
       "[                                                 (-102*z**6 - 102*z**3 + 36*z**2 - 36*z)*exp(-2/z)/(289*z**12*exp(z**2/2 + 3*z/2) - 289*z**10*exp(z**2/2 + 3*z/2) + 289*z**8*exp(z**2/2 + 3*z/2) - 325*z**6*exp(z**2/2 + 3*z/2) + 36*z**4*exp(z**2/2 + 3*z/2) - 36*z**2*exp(z**2/2 + 3*z/2) + 36*exp(z**2/2 + 3*z/2)),  (-102*z**5 + 102*z**4 + 36*z**3 + 36)*exp(-1/z)/(289*z**12*exp(z**2/2 - z/2) - 289*z**10*exp(z**2/2 - z/2) + 289*z**8*exp(z**2/2 - z/2) - 325*z**6*exp(z**2/2 - z/2) + 36*z**4*exp(z**2/2 - z/2) - 36*z**2*exp(z**2/2 - z/2) + 36*exp(z**2/2 - z/2))]])"
      ]
     },
     "execution_count": 39,
     "metadata": {},
     "output_type": "execute_result"
    },
    {
     "data": {
      "text/latex": [
       "$\\displaystyle \\left[\\begin{matrix}\\frac{\\left(- z^{2} \\left(17 z^{5} + 17 z^{2} - 6 z + 6\\right) \\left(- 17 z^{5} e^{5 u z} + 17 z^{2} e^{2 u z} + 6 z e^{u z} + 6\\right) \\left(289 z^{12} e^{z \\left(12 u + z e^{2 u z} + 3 e^{u z}\\right)} - 289 z^{10} e^{z \\left(10 u + z e^{2 u z} + 3 e^{u z}\\right)} + 289 z^{8} e^{z \\left(8 u + z e^{2 u z} + 3 e^{u z}\\right)} - 325 z^{6} e^{z \\left(6 u + z e^{2 u z} + 3 e^{u z}\\right)} + 36 z^{4} e^{z \\left(4 u + z e^{2 u z} + 3 e^{u z}\\right)} - 36 z^{2} e^{z \\left(2 u + z e^{2 u z} + 3 e^{u z}\\right)} + 36 e^{z \\left(z e^{u z} + 3\\right) e^{u z}}\\right) e^{u z + \\frac{z^{3} - z^{2} + 6}{2 z} + \\frac{\\left(3 z^{3} e^{u z} + 9 z^{2} e^{u z} + 6 e^{u z} + 4\\right) e^{- u z}}{2 z}} + \\left(- 17 z^{5} + 17 z^{4} + 6 z^{3} + 6\\right) \\left(17 z^{5} e^{\\frac{z \\left(10 u + z e^{2 u z} + 3 e^{u z}\\right)}{2}} + 17 z^{4} e^{\\frac{z \\left(8 u + z e^{2 u z} + 3 e^{u z}\\right)}{2}} - 6 z^{3} e^{\\frac{z \\left(6 u + z e^{2 u z} + 3 e^{u z}\\right)}{2}} + 6 e^{\\frac{z \\left(z e^{u z} + 3\\right) e^{u z}}{2}}\\right) \\left(289 z^{12} e^{\\frac{z \\left(24 u + z e^{2 u z} - e^{u z}\\right)}{2}} - 289 z^{10} e^{\\frac{z \\left(20 u + z e^{2 u z} - e^{u z}\\right)}{2}} + 289 z^{8} e^{\\frac{z \\left(16 u + z e^{2 u z} - e^{u z}\\right)}{2}} - 325 z^{6} e^{\\frac{z \\left(12 u + z e^{2 u z} - e^{u z}\\right)}{2}} + 36 z^{4} e^{\\frac{z \\left(8 u + z e^{2 u z} - e^{u z}\\right)}{2}} - 36 z^{2} e^{\\frac{z \\left(4 u + z e^{2 u z} - e^{u z}\\right)}{2}} + 36 e^{\\frac{z \\left(z e^{u z} - 1\\right) e^{u z}}{2}}\\right) e^{\\frac{2 z^{3} + 6 z^{2} + \\left(2 e^{u z} + 1\\right) e^{- u z} + 5}{z}}\\right) e^{- \\frac{z \\left(z e^{u z} - 1\\right) e^{u z}}{2} - z \\left(z e^{u z} + 3\\right) e^{u z} - \\frac{\\left(3 z^{3} e^{u z} + 9 z^{2} e^{u z} + 10 e^{u z} + 6\\right) e^{- u z}}{2 z}}}{\\left(289 z^{12} e^{12 u z} - 289 z^{10} e^{10 u z} + 289 z^{8} e^{8 u z} - 325 z^{6} e^{6 u z} + 36 z^{4} e^{4 u z} - 36 z^{2} e^{2 u z} + 36\\right)^{2}} & \\frac{z \\left(\\left(- 17 z^{5} + 17 z^{2} + 6 z + 6\\right) \\left(17 z^{5} e^{\\frac{z \\left(10 u + z e^{2 u z} + 3 e^{u z}\\right)}{2}} + 17 z^{4} e^{\\frac{z \\left(8 u + z e^{2 u z} + 3 e^{u z}\\right)}{2}} - 6 z^{3} e^{\\frac{z \\left(6 u + z e^{2 u z} + 3 e^{u z}\\right)}{2}} + 6 e^{\\frac{z \\left(z e^{u z} + 3\\right) e^{u z}}{2}}\\right) \\left(289 z^{12} e^{\\frac{z \\left(24 u + z e^{2 u z} - e^{u z}\\right)}{2}} - 289 z^{10} e^{\\frac{z \\left(20 u + z e^{2 u z} - e^{u z}\\right)}{2}} + 289 z^{8} e^{\\frac{z \\left(16 u + z e^{2 u z} - e^{u z}\\right)}{2}} - 325 z^{6} e^{\\frac{z \\left(12 u + z e^{2 u z} - e^{u z}\\right)}{2}} + 36 z^{4} e^{\\frac{z \\left(8 u + z e^{2 u z} - e^{u z}\\right)}{2}} - 36 z^{2} e^{\\frac{z \\left(4 u + z e^{2 u z} - e^{u z}\\right)}{2}} + 36 e^{\\frac{z \\left(z e^{u z} - 1\\right) e^{u z}}{2}}\\right) e^{\\frac{\\left(2 e^{u z} + 1\\right) e^{- u z}}{z} + \\frac{z^{3} + 3 z^{2} + 10}{2 z}} - \\left(17 z^{5} + 17 z^{4} - 6 z^{3} + 6\\right) \\left(- 17 z^{5} e^{5 u z} + 17 z^{2} e^{2 u z} + 6 z e^{u z} + 6\\right) \\left(289 z^{12} e^{z \\left(12 u + z e^{2 u z} + 3 e^{u z}\\right)} - 289 z^{10} e^{z \\left(10 u + z e^{2 u z} + 3 e^{u z}\\right)} + 289 z^{8} e^{z \\left(8 u + z e^{2 u z} + 3 e^{u z}\\right)} - 325 z^{6} e^{z \\left(6 u + z e^{2 u z} + 3 e^{u z}\\right)} + 36 z^{4} e^{z \\left(4 u + z e^{2 u z} + 3 e^{u z}\\right)} - 36 z^{2} e^{z \\left(2 u + z e^{2 u z} + 3 e^{u z}\\right)} + 36 e^{z \\left(z e^{u z} + 3\\right) e^{u z}}\\right) e^{u z + \\frac{\\left(3 e^{u z} + 2\\right) e^{- u z}}{z} + \\frac{z^{3} - z^{2} + 6}{2 z}}\\right) e^{- \\frac{z \\left(z e^{u z} - 1\\right) e^{u z}}{2} - z \\left(z e^{u z} + 3\\right) e^{u z} - \\frac{\\left(5 e^{u z} + 3\\right) e^{- u z}}{z}}}{\\left(289 z^{12} e^{12 u z} - 289 z^{10} e^{10 u z} + 289 z^{8} e^{8 u z} - 325 z^{6} e^{6 u z} + 36 z^{4} e^{4 u z} - 36 z^{2} e^{2 u z} + 36\\right)^{2}}\\\\\\frac{z \\left(- \\left(- 17 z^{5} + 17 z^{4} + 6 z^{3} + 6\\right) \\left(17 z^{5} e^{5 u z} + 17 z^{2} e^{2 u z} - 6 z e^{u z} + 6\\right) \\left(289 z^{12} e^{\\frac{z \\left(24 u + z e^{2 u z} - e^{u z}\\right)}{2}} - 289 z^{10} e^{\\frac{z \\left(20 u + z e^{2 u z} - e^{u z}\\right)}{2}} + 289 z^{8} e^{\\frac{z \\left(16 u + z e^{2 u z} - e^{u z}\\right)}{2}} - 325 z^{6} e^{\\frac{z \\left(12 u + z e^{2 u z} - e^{u z}\\right)}{2}} + 36 z^{4} e^{\\frac{z \\left(8 u + z e^{2 u z} - e^{u z}\\right)}{2}} - 36 z^{2} e^{\\frac{z \\left(4 u + z e^{2 u z} - e^{u z}\\right)}{2}} + 36 e^{\\frac{z \\left(z e^{u z} - 1\\right) e^{u z}}{2}}\\right) e^{u z + \\frac{\\left(2 e^{u z} + 1\\right) e^{- u z}}{z} + \\frac{2 z^{3} + 6 z^{2} + 5}{z}} + \\left(17 z^{5} + 17 z^{2} - 6 z + 6\\right) \\left(- 17 z^{5} e^{5 u z} + 17 z^{4} e^{4 u z} + 6 z^{3} e^{3 u z} + 6\\right) \\left(289 z^{12} e^{\\frac{z \\left(24 u + z e^{2 u z} + 3 e^{u z}\\right)}{2}} - 289 z^{10} e^{\\frac{z \\left(20 u + z e^{2 u z} + 3 e^{u z}\\right)}{2}} + 289 z^{8} e^{\\frac{z \\left(16 u + z e^{2 u z} + 3 e^{u z}\\right)}{2}} - 325 z^{6} e^{\\frac{z \\left(12 u + z e^{2 u z} + 3 e^{u z}\\right)}{2}} + 36 z^{4} e^{\\frac{z \\left(8 u + z e^{2 u z} + 3 e^{u z}\\right)}{2}} - 36 z^{2} e^{\\frac{z \\left(4 u + z e^{2 u z} + 3 e^{u z}\\right)}{2}} + 36 e^{\\frac{z \\left(z e^{u z} + 3\\right) e^{u z}}{2}}\\right) e^{\\frac{z^{3} - z^{2} + \\left(3 z^{3} e^{u z} + 9 z^{2} e^{u z} + 6 e^{u z} + 4\\right) e^{- u z} + 6}{2 z}}\\right) e^{- \\frac{z \\left(z e^{u z} - 1\\right) e^{u z}}{2} - \\frac{z \\left(z e^{u z} + 3\\right) e^{u z}}{2} - \\frac{\\left(3 z^{3} e^{u z} + 9 z^{2} e^{u z} + 10 e^{u z} + 6\\right) e^{- u z}}{2 z}}}{\\left(289 z^{12} e^{12 u z} - 289 z^{10} e^{10 u z} + 289 z^{8} e^{8 u z} - 325 z^{6} e^{6 u z} + 36 z^{4} e^{4 u z} - 36 z^{2} e^{2 u z} + 36\\right)^{2}} & \\frac{\\left(- z^{2} \\left(- 17 z^{5} + 17 z^{2} + 6 z + 6\\right) \\left(17 z^{5} e^{5 u z} + 17 z^{2} e^{2 u z} - 6 z e^{u z} + 6\\right) \\left(289 z^{12} e^{\\frac{z \\left(24 u + z e^{2 u z} - e^{u z}\\right)}{2}} - 289 z^{10} e^{\\frac{z \\left(20 u + z e^{2 u z} - e^{u z}\\right)}{2}} + 289 z^{8} e^{\\frac{z \\left(16 u + z e^{2 u z} - e^{u z}\\right)}{2}} - 325 z^{6} e^{\\frac{z \\left(12 u + z e^{2 u z} - e^{u z}\\right)}{2}} + 36 z^{4} e^{\\frac{z \\left(8 u + z e^{2 u z} - e^{u z}\\right)}{2}} - 36 z^{2} e^{\\frac{z \\left(4 u + z e^{2 u z} - e^{u z}\\right)}{2}} + 36 e^{\\frac{z \\left(z e^{u z} - 1\\right) e^{u z}}{2}}\\right) e^{u z + \\frac{\\left(2 e^{u z} + 1\\right) e^{- u z}}{z} + \\frac{z^{3} + 3 z^{2} + 10}{2 z}} + \\left(17 z^{5} + 17 z^{4} - 6 z^{3} + 6\\right) \\left(- 17 z^{5} e^{5 u z} + 17 z^{4} e^{4 u z} + 6 z^{3} e^{3 u z} + 6\\right) \\left(289 z^{12} e^{\\frac{z \\left(24 u + z e^{2 u z} + 3 e^{u z}\\right)}{2}} - 289 z^{10} e^{\\frac{z \\left(20 u + z e^{2 u z} + 3 e^{u z}\\right)}{2}} + 289 z^{8} e^{\\frac{z \\left(16 u + z e^{2 u z} + 3 e^{u z}\\right)}{2}} - 325 z^{6} e^{\\frac{z \\left(12 u + z e^{2 u z} + 3 e^{u z}\\right)}{2}} + 36 z^{4} e^{\\frac{z \\left(8 u + z e^{2 u z} + 3 e^{u z}\\right)}{2}} - 36 z^{2} e^{\\frac{z \\left(4 u + z e^{2 u z} + 3 e^{u z}\\right)}{2}} + 36 e^{\\frac{z \\left(z e^{u z} + 3\\right) e^{u z}}{2}}\\right) e^{\\frac{\\left(3 e^{u z} + 2\\right) e^{- u z}}{z} + \\frac{z^{3} - z^{2} + 6}{2 z}}\\right) e^{- \\frac{z \\left(z e^{u z} - 1\\right) e^{u z}}{2} - \\frac{z \\left(z e^{u z} + 3\\right) e^{u z}}{2} - \\frac{\\left(5 e^{u z} + 3\\right) e^{- u z}}{z}}}{\\left(289 z^{12} e^{12 u z} - 289 z^{10} e^{10 u z} + 289 z^{8} e^{8 u z} - 325 z^{6} e^{6 u z} + 36 z^{4} e^{4 u z} - 36 z^{2} e^{2 u z} + 36\\right)^{2}}\\end{matrix}\\right]$"
      ],
      "text/plain": [
       "Matrix([\n",
       "[(-z**2*(17*z**5 + 17*z**2 - 6*z + 6)*(-17*z**5*exp(5*u*z) + 17*z**2*exp(2*u*z) + 6*z*exp(u*z) + 6)*(289*z**12*exp(z*(12*u + z*exp(2*u*z) + 3*exp(u*z))) - 289*z**10*exp(z*(10*u + z*exp(2*u*z) + 3*exp(u*z))) + 289*z**8*exp(z*(8*u + z*exp(2*u*z) + 3*exp(u*z))) - 325*z**6*exp(z*(6*u + z*exp(2*u*z) + 3*exp(u*z))) + 36*z**4*exp(z*(4*u + z*exp(2*u*z) + 3*exp(u*z))) - 36*z**2*exp(z*(2*u + z*exp(2*u*z) + 3*exp(u*z))) + 36*exp(z*(z*exp(u*z) + 3)*exp(u*z)))*exp(u*z + (z**3 - z**2 + 6)/(2*z) + (3*z**3*exp(u*z) + 9*z**2*exp(u*z) + 6*exp(u*z) + 4)*exp(-u*z)/(2*z)) + (-17*z**5 + 17*z**4 + 6*z**3 + 6)*(17*z**5*exp(z*(10*u + z*exp(2*u*z) + 3*exp(u*z))/2) + 17*z**4*exp(z*(8*u + z*exp(2*u*z) + 3*exp(u*z))/2) - 6*z**3*exp(z*(6*u + z*exp(2*u*z) + 3*exp(u*z))/2) + 6*exp(z*(z*exp(u*z) + 3)*exp(u*z)/2))*(289*z**12*exp(z*(24*u + z*exp(2*u*z) - exp(u*z))/2) - 289*z**10*exp(z*(20*u + z*exp(2*u*z) - exp(u*z))/2) + 289*z**8*exp(z*(16*u + z*exp(2*u*z) - exp(u*z))/2) - 325*z**6*exp(z*(12*u + z*exp(2*u*z) - exp(u*z))/2) + 36*z**4*exp(z*(8*u + z*exp(2*u*z) - exp(u*z))/2) - 36*z**2*exp(z*(4*u + z*exp(2*u*z) - exp(u*z))/2) + 36*exp(z*(z*exp(u*z) - 1)*exp(u*z)/2))*exp((2*z**3 + 6*z**2 + (2*exp(u*z) + 1)*exp(-u*z) + 5)/z))*exp(-z*(z*exp(u*z) - 1)*exp(u*z)/2 - z*(z*exp(u*z) + 3)*exp(u*z) - (3*z**3*exp(u*z) + 9*z**2*exp(u*z) + 10*exp(u*z) + 6)*exp(-u*z)/(2*z))/(289*z**12*exp(12*u*z) - 289*z**10*exp(10*u*z) + 289*z**8*exp(8*u*z) - 325*z**6*exp(6*u*z) + 36*z**4*exp(4*u*z) - 36*z**2*exp(2*u*z) + 36)**2, z*((-17*z**5 + 17*z**2 + 6*z + 6)*(17*z**5*exp(z*(10*u + z*exp(2*u*z) + 3*exp(u*z))/2) + 17*z**4*exp(z*(8*u + z*exp(2*u*z) + 3*exp(u*z))/2) - 6*z**3*exp(z*(6*u + z*exp(2*u*z) + 3*exp(u*z))/2) + 6*exp(z*(z*exp(u*z) + 3)*exp(u*z)/2))*(289*z**12*exp(z*(24*u + z*exp(2*u*z) - exp(u*z))/2) - 289*z**10*exp(z*(20*u + z*exp(2*u*z) - exp(u*z))/2) + 289*z**8*exp(z*(16*u + z*exp(2*u*z) - exp(u*z))/2) - 325*z**6*exp(z*(12*u + z*exp(2*u*z) - exp(u*z))/2) + 36*z**4*exp(z*(8*u + z*exp(2*u*z) - exp(u*z))/2) - 36*z**2*exp(z*(4*u + z*exp(2*u*z) - exp(u*z))/2) + 36*exp(z*(z*exp(u*z) - 1)*exp(u*z)/2))*exp((2*exp(u*z) + 1)*exp(-u*z)/z + (z**3 + 3*z**2 + 10)/(2*z)) - (17*z**5 + 17*z**4 - 6*z**3 + 6)*(-17*z**5*exp(5*u*z) + 17*z**2*exp(2*u*z) + 6*z*exp(u*z) + 6)*(289*z**12*exp(z*(12*u + z*exp(2*u*z) + 3*exp(u*z))) - 289*z**10*exp(z*(10*u + z*exp(2*u*z) + 3*exp(u*z))) + 289*z**8*exp(z*(8*u + z*exp(2*u*z) + 3*exp(u*z))) - 325*z**6*exp(z*(6*u + z*exp(2*u*z) + 3*exp(u*z))) + 36*z**4*exp(z*(4*u + z*exp(2*u*z) + 3*exp(u*z))) - 36*z**2*exp(z*(2*u + z*exp(2*u*z) + 3*exp(u*z))) + 36*exp(z*(z*exp(u*z) + 3)*exp(u*z)))*exp(u*z + (3*exp(u*z) + 2)*exp(-u*z)/z + (z**3 - z**2 + 6)/(2*z)))*exp(-z*(z*exp(u*z) - 1)*exp(u*z)/2 - z*(z*exp(u*z) + 3)*exp(u*z) - (5*exp(u*z) + 3)*exp(-u*z)/z)/(289*z**12*exp(12*u*z) - 289*z**10*exp(10*u*z) + 289*z**8*exp(8*u*z) - 325*z**6*exp(6*u*z) + 36*z**4*exp(4*u*z) - 36*z**2*exp(2*u*z) + 36)**2],\n",
       "[                                                                                                                         z*(-(-17*z**5 + 17*z**4 + 6*z**3 + 6)*(17*z**5*exp(5*u*z) + 17*z**2*exp(2*u*z) - 6*z*exp(u*z) + 6)*(289*z**12*exp(z*(24*u + z*exp(2*u*z) - exp(u*z))/2) - 289*z**10*exp(z*(20*u + z*exp(2*u*z) - exp(u*z))/2) + 289*z**8*exp(z*(16*u + z*exp(2*u*z) - exp(u*z))/2) - 325*z**6*exp(z*(12*u + z*exp(2*u*z) - exp(u*z))/2) + 36*z**4*exp(z*(8*u + z*exp(2*u*z) - exp(u*z))/2) - 36*z**2*exp(z*(4*u + z*exp(2*u*z) - exp(u*z))/2) + 36*exp(z*(z*exp(u*z) - 1)*exp(u*z)/2))*exp(u*z + (2*exp(u*z) + 1)*exp(-u*z)/z + (2*z**3 + 6*z**2 + 5)/z) + (17*z**5 + 17*z**2 - 6*z + 6)*(-17*z**5*exp(5*u*z) + 17*z**4*exp(4*u*z) + 6*z**3*exp(3*u*z) + 6)*(289*z**12*exp(z*(24*u + z*exp(2*u*z) + 3*exp(u*z))/2) - 289*z**10*exp(z*(20*u + z*exp(2*u*z) + 3*exp(u*z))/2) + 289*z**8*exp(z*(16*u + z*exp(2*u*z) + 3*exp(u*z))/2) - 325*z**6*exp(z*(12*u + z*exp(2*u*z) + 3*exp(u*z))/2) + 36*z**4*exp(z*(8*u + z*exp(2*u*z) + 3*exp(u*z))/2) - 36*z**2*exp(z*(4*u + z*exp(2*u*z) + 3*exp(u*z))/2) + 36*exp(z*(z*exp(u*z) + 3)*exp(u*z)/2))*exp((z**3 - z**2 + (3*z**3*exp(u*z) + 9*z**2*exp(u*z) + 6*exp(u*z) + 4)*exp(-u*z) + 6)/(2*z)))*exp(-z*(z*exp(u*z) - 1)*exp(u*z)/2 - z*(z*exp(u*z) + 3)*exp(u*z)/2 - (3*z**3*exp(u*z) + 9*z**2*exp(u*z) + 10*exp(u*z) + 6)*exp(-u*z)/(2*z))/(289*z**12*exp(12*u*z) - 289*z**10*exp(10*u*z) + 289*z**8*exp(8*u*z) - 325*z**6*exp(6*u*z) + 36*z**4*exp(4*u*z) - 36*z**2*exp(2*u*z) + 36)**2,                                                                                                               (-z**2*(-17*z**5 + 17*z**2 + 6*z + 6)*(17*z**5*exp(5*u*z) + 17*z**2*exp(2*u*z) - 6*z*exp(u*z) + 6)*(289*z**12*exp(z*(24*u + z*exp(2*u*z) - exp(u*z))/2) - 289*z**10*exp(z*(20*u + z*exp(2*u*z) - exp(u*z))/2) + 289*z**8*exp(z*(16*u + z*exp(2*u*z) - exp(u*z))/2) - 325*z**6*exp(z*(12*u + z*exp(2*u*z) - exp(u*z))/2) + 36*z**4*exp(z*(8*u + z*exp(2*u*z) - exp(u*z))/2) - 36*z**2*exp(z*(4*u + z*exp(2*u*z) - exp(u*z))/2) + 36*exp(z*(z*exp(u*z) - 1)*exp(u*z)/2))*exp(u*z + (2*exp(u*z) + 1)*exp(-u*z)/z + (z**3 + 3*z**2 + 10)/(2*z)) + (17*z**5 + 17*z**4 - 6*z**3 + 6)*(-17*z**5*exp(5*u*z) + 17*z**4*exp(4*u*z) + 6*z**3*exp(3*u*z) + 6)*(289*z**12*exp(z*(24*u + z*exp(2*u*z) + 3*exp(u*z))/2) - 289*z**10*exp(z*(20*u + z*exp(2*u*z) + 3*exp(u*z))/2) + 289*z**8*exp(z*(16*u + z*exp(2*u*z) + 3*exp(u*z))/2) - 325*z**6*exp(z*(12*u + z*exp(2*u*z) + 3*exp(u*z))/2) + 36*z**4*exp(z*(8*u + z*exp(2*u*z) + 3*exp(u*z))/2) - 36*z**2*exp(z*(4*u + z*exp(2*u*z) + 3*exp(u*z))/2) + 36*exp(z*(z*exp(u*z) + 3)*exp(u*z)/2))*exp((3*exp(u*z) + 2)*exp(-u*z)/z + (z**3 - z**2 + 6)/(2*z)))*exp(-z*(z*exp(u*z) - 1)*exp(u*z)/2 - z*(z*exp(u*z) + 3)*exp(u*z)/2 - (5*exp(u*z) + 3)*exp(-u*z)/z)/(289*z**12*exp(12*u*z) - 289*z**10*exp(10*u*z) + 289*z**8*exp(8*u*z) - 325*z**6*exp(6*u*z) + 36*z**4*exp(4*u*z) - 36*z**2*exp(2*u*z) + 36)**2]])"
      ]
     },
     "execution_count": 39,
     "metadata": {},
     "output_type": "execute_result"
    }
   ],
   "source": [
    "Psi\n",
    "Phi"
   ]
  },
  {
   "cell_type": "markdown",
   "id": "4afe24c4",
   "metadata": {},
   "source": []
  },
  {
   "cell_type": "code",
   "execution_count": null,
   "id": "d93d59f2",
   "metadata": {},
   "outputs": [],
   "source": []
  },
  {
   "cell_type": "code",
   "execution_count": null,
   "id": "ebfaf14c-2b74-4410-abf8-a8e1b8f34bd7",
   "metadata": {},
   "outputs": [],
   "source": []
  },
  {
   "cell_type": "markdown",
   "id": "50d1a147-2f04-42e0-b910-82e51b930c9d",
   "metadata": {},
   "source": [
    "Example4: \n",
    "\n",
    "$z^2 \\psi' = \\begin{pmatrix} z^4+3z^3+1 & z \\\\ z^2 & z^3+5z^2+7 \\end{pmatrix} \\psi$ \n",
    "\n",
    "We are working on Sto_2\n",
    "\n",
    "We trancate the Gauge Transform series up to some given order "
   ]
  },
  {
   "cell_type": "code",
   "execution_count": 40,
   "id": "f41231d6-60b5-4d18-87b8-c20f25a5de2a",
   "metadata": {},
   "outputs": [],
   "source": [
    "A = Matrix([[z**4+3*z**3+1, z], [z**2, z**3+5*z**2+7]])\n",
    "n = 2\n",
    "k = 2\n",
    "order = 3"
   ]
  },
  {
   "cell_type": "code",
   "execution_count": 41,
   "id": "88ea6cf1-d4dc-4ab1-822f-9c0541ecc518",
   "metadata": {},
   "outputs": [],
   "source": [
    "K_trunc, F_trunc, Total = get_Gauge_up_to_order(A, k, order)"
   ]
  },
  {
   "cell_type": "code",
   "execution_count": 43,
   "id": "9ec6f01c-2786-4836-b2f4-93b91008ee16",
   "metadata": {},
   "outputs": [
    {
     "data": {
      "text/latex": [
       "$\\displaystyle \\left[\\begin{matrix}\\frac{7 z^{5}}{324} + 1 & z^{3} \\left(\\frac{7}{54} - \\frac{7 z^{3}}{1944}\\right) + \\frac{z^{2}}{36} - \\frac{z}{6}\\\\\\frac{z^{3}}{18} + \\frac{z^{2}}{6} & z^{3} \\left(\\frac{z^{2}}{648} - \\frac{z}{108}\\right) - \\frac{z^{3}}{36} + 1\\end{matrix}\\right]$"
      ],
      "text/plain": [
       "Matrix([\n",
       "[  7*z**5/324 + 1, z**3*(7/54 - 7*z**3/1944) + z**2/36 - z/6],\n",
       "[z**3/18 + z**2/6,     z**3*(z**2/648 - z/108) - z**3/36 + 1]])"
      ]
     },
     "execution_count": 43,
     "metadata": {},
     "output_type": "execute_result"
    },
    {
     "data": {
      "text/latex": [
       "$\\displaystyle \\left[\\begin{matrix}e^{- \\frac{17 z^{2}}{12}} & 0\\\\0 & e^{- \\frac{z \\left(7 z + 60\\right)}{12}}\\end{matrix}\\right]$"
      ],
      "text/plain": [
       "Matrix([\n",
       "[exp(-17*z**2/12),                     0],\n",
       "[               0, exp(-z*(7*z + 60)/12)]])"
      ]
     },
     "execution_count": 43,
     "metadata": {},
     "output_type": "execute_result"
    },
    {
     "data": {
      "text/latex": [
       "$\\displaystyle \\left[\\begin{matrix}\\frac{\\left(7 z^{5} + 324\\right) e^{- \\frac{17 z^{2}}{12}}}{324} & \\frac{z \\left(7 z^{2} \\left(36 - z^{3}\\right) + 54 z - 324\\right) e^{- \\frac{17 z^{2}}{12}}}{1944}\\\\\\frac{z^{2} \\left(z + 3\\right) e^{- \\frac{z \\left(7 z + 60\\right)}{12}}}{18} & \\frac{\\left(z^{4} \\left(z - 6\\right) - 18 z^{3} + 648\\right) e^{- \\frac{z \\left(7 z + 60\\right)}{12}}}{648}\\end{matrix}\\right]$"
      ],
      "text/plain": [
       "Matrix([\n",
       "[  (7*z**5 + 324)*exp(-17*z**2/12)/324, z*(7*z**2*(36 - z**3) + 54*z - 324)*exp(-17*z**2/12)/1944],\n",
       "[z**2*(z + 3)*exp(-z*(7*z + 60)/12)/18,  (z**4*(z - 6) - 18*z**3 + 648)*exp(-z*(7*z + 60)/12)/648]])"
      ]
     },
     "execution_count": 43,
     "metadata": {},
     "output_type": "execute_result"
    }
   ],
   "source": [
    "F_trunc\n",
    "K_trunc\n",
    "Total"
   ]
  },
  {
   "cell_type": "code",
   "execution_count": 44,
   "id": "5597b523",
   "metadata": {},
   "outputs": [],
   "source": [
    "transformed_A = Gauge(k, Total, A)"
   ]
  },
  {
   "cell_type": "code",
   "execution_count": 45,
   "id": "11daabc4",
   "metadata": {},
   "outputs": [
    {
     "data": {
      "text/latex": [
       "$\\displaystyle \\left[\\begin{matrix}1 & 0\\\\0 & 7\\end{matrix}\\right]$"
      ],
      "text/plain": [
       "Matrix([\n",
       "[1, 0],\n",
       "[0, 7]])"
      ]
     },
     "execution_count": 45,
     "metadata": {},
     "output_type": "execute_result"
    },
    {
     "data": {
      "text/latex": [
       "$\\displaystyle \\left[\\begin{matrix}0 & 0\\\\0 & 0\\end{matrix}\\right]$"
      ],
      "text/plain": [
       "Matrix([\n",
       "[0, 0],\n",
       "[0, 0]])"
      ]
     },
     "execution_count": 45,
     "metadata": {},
     "output_type": "execute_result"
    },
    {
     "data": {
      "text/latex": [
       "$\\displaystyle \\left[\\begin{matrix}0 & 0\\\\0 & 0\\end{matrix}\\right]$"
      ],
      "text/plain": [
       "Matrix([\n",
       "[0, 0],\n",
       "[0, 0]])"
      ]
     },
     "execution_count": 45,
     "metadata": {},
     "output_type": "execute_result"
    },
    {
     "data": {
      "text/latex": [
       "$\\displaystyle \\left[\\begin{matrix}0 & 0\\\\0 & 0\\end{matrix}\\right]$"
      ],
      "text/plain": [
       "Matrix([\n",
       "[0, 0],\n",
       "[0, 0]])"
      ]
     },
     "execution_count": 45,
     "metadata": {},
     "output_type": "execute_result"
    },
    {
     "data": {
      "text/latex": [
       "$\\displaystyle \\left[\\begin{matrix}\\frac{74}{3} & 20\\\\-16 & - \\frac{2}{3}\\end{matrix}\\right]$"
      ],
      "text/plain": [
       "Matrix([\n",
       "[74/3,   20],\n",
       "[ -16, -2/3]])"
      ]
     },
     "execution_count": 45,
     "metadata": {},
     "output_type": "execute_result"
    }
   ],
   "source": [
    "# These are its first 4 coefficients (z**0 to z**4) in its Taylor expansion.\n",
    "transformed_A.subs(z, 0)\n",
    "transformed_A.diff(z).subs(z, 0)\n",
    "transformed_A.diff(z,z).subs(z, 0)\n",
    "transformed_A.diff(z,z,z).subs(z, 0)\n",
    "transformed_A.diff(z,z,z,z).subs(z, 0)\n",
    "# Indeed, we can see that it is indeed diagonal up to order z**3, where 3 is the order we set.\n",
    "# Furthermore, due to the functionality of K, the terms after k until order are all zero\n",
    "# Hence, as order goes to infinite, the transformed ode is just a polynomial of order k-1. "
   ]
  },
  {
   "cell_type": "code",
   "execution_count": 46,
   "id": "a2324c3e-dcdc-41bd-89c1-1873862d7e8a",
   "metadata": {},
   "outputs": [],
   "source": [
    "Total_inverse = Total.inverse()"
   ]
  },
  {
   "cell_type": "code",
   "execution_count": 47,
   "id": "c280d8ad-dfa5-4992-8862-ac6f2a44ebc7",
   "metadata": {},
   "outputs": [
    {
     "data": {
      "text/latex": [
       "$\\displaystyle \\left[\\begin{matrix}\\frac{324 z^{5} - 1944 z^{4} - 5832 z^{3} + 209952}{7 z^{10} e^{- \\frac{17 z^{2}}{12}} - 1512 z^{6} e^{- \\frac{17 z^{2}}{12}} - 972 z^{4} e^{- \\frac{17 z^{2}}{12}} + 209952 e^{- \\frac{17 z^{2}}{12}}} & \\frac{756 z^{6} - 27216 z^{3} - 5832 z^{2} + 34992 z}{7 z^{10} e^{- \\frac{7 z^{2}}{12} - 5 z} - 1512 z^{6} e^{- \\frac{7 z^{2}}{12} - 5 z} - 972 z^{4} e^{- \\frac{7 z^{2}}{12} - 5 z} + 209952 e^{- \\frac{7 z^{2}}{12} - 5 z}}\\\\\\frac{- 11664 z^{3} - 34992 z^{2}}{7 z^{10} e^{- \\frac{17 z^{2}}{12}} - 1512 z^{6} e^{- \\frac{17 z^{2}}{12}} - 972 z^{4} e^{- \\frac{17 z^{2}}{12}} + 209952 e^{- \\frac{17 z^{2}}{12}}} & \\frac{4536 z^{5} + 209952}{7 z^{10} e^{- \\frac{7 z^{2}}{12} - 5 z} - 1512 z^{6} e^{- \\frac{7 z^{2}}{12} - 5 z} - 972 z^{4} e^{- \\frac{7 z^{2}}{12} - 5 z} + 209952 e^{- \\frac{7 z^{2}}{12} - 5 z}}\\end{matrix}\\right]$"
      ],
      "text/plain": [
       "Matrix([\n",
       "[(324*z**5 - 1944*z**4 - 5832*z**3 + 209952)/(7*z**10*exp(-17*z**2/12) - 1512*z**6*exp(-17*z**2/12) - 972*z**4*exp(-17*z**2/12) + 209952*exp(-17*z**2/12)), (756*z**6 - 27216*z**3 - 5832*z**2 + 34992*z)/(7*z**10*exp(-7*z**2/12 - 5*z) - 1512*z**6*exp(-7*z**2/12 - 5*z) - 972*z**4*exp(-7*z**2/12 - 5*z) + 209952*exp(-7*z**2/12 - 5*z))],\n",
       "[                 (-11664*z**3 - 34992*z**2)/(7*z**10*exp(-17*z**2/12) - 1512*z**6*exp(-17*z**2/12) - 972*z**4*exp(-17*z**2/12) + 209952*exp(-17*z**2/12)),                          (4536*z**5 + 209952)/(7*z**10*exp(-7*z**2/12 - 5*z) - 1512*z**6*exp(-7*z**2/12 - 5*z) - 972*z**4*exp(-7*z**2/12 - 5*z) + 209952*exp(-7*z**2/12 - 5*z))]])"
      ]
     },
     "execution_count": 47,
     "metadata": {},
     "output_type": "execute_result"
    }
   ],
   "source": [
    "Total_inverse"
   ]
  },
  {
   "cell_type": "markdown",
   "id": "a4eaa4ae-e45c-42ab-97ba-89f6876e2caa",
   "metadata": {},
   "source": [
    "Note that Gauge Transform is a group action, meaning that $F_1[F_2[A]] = (F_1F_2)[A]$ so the inverse Gauge Transform is the Gauge Transform of the inverse Matrix, and composed Gauge Transform is the transform of the product Matrix."
   ]
  },
  {
   "cell_type": "markdown",
   "id": "2ab94876-eafd-4dc7-9422-97e018d5b272",
   "metadata": {},
   "source": [
    "Finally, the equation is $z^k \\psi' = D_0 + D_1 z + ... + D_{k-1} z^{k-1}$"
   ]
  },
  {
   "cell_type": "code",
   "execution_count": 48,
   "id": "668e627a-a907-46f2-a5c1-7b4718c37f4c",
   "metadata": {},
   "outputs": [],
   "source": [
    "Psi_prime, Phi_prime = solve_phi(k, transformed_A)"
   ]
  },
  {
   "cell_type": "code",
   "execution_count": 49,
   "id": "4095d309-97b0-4181-aa83-e56283781d50",
   "metadata": {},
   "outputs": [
    {
     "data": {
      "text/latex": [
       "$\\displaystyle \\left[\\begin{matrix}e^{- \\frac{1}{z}} & 0\\\\0 & e^{- \\frac{7}{z}}\\end{matrix}\\right]$"
      ],
      "text/plain": [
       "Matrix([\n",
       "[exp(-1/z),         0],\n",
       "[        0, exp(-7/z)]])"
      ]
     },
     "execution_count": 49,
     "metadata": {},
     "output_type": "execute_result"
    }
   ],
   "source": [
    "Psi_prime"
   ]
  },
  {
   "cell_type": "code",
   "execution_count": 50,
   "id": "11f70b8c-aeb0-45f9-bee4-3aaa8817e236",
   "metadata": {},
   "outputs": [
    {
     "data": {
      "text/latex": [
       "$\\displaystyle \\left[\\begin{matrix}e^{\\frac{1 - e^{- u z}}{z}} & 0\\\\0 & e^{\\frac{7 \\left(1 - e^{- u z}\\right)}{z}}\\end{matrix}\\right]$"
      ],
      "text/plain": [
       "Matrix([\n",
       "[exp((1 - exp(-u*z))/z),                        0],\n",
       "[                     0, exp(7*(1 - exp(-u*z))/z)]])"
      ]
     },
     "execution_count": 50,
     "metadata": {},
     "output_type": "execute_result"
    }
   ],
   "source": [
    "Phi_prime"
   ]
  },
  {
   "cell_type": "markdown",
   "id": "b1e7ac6c-7ca3-4c7a-91dc-5d76c113a9b4",
   "metadata": {},
   "source": [
    "The final solution is $T^{-1}\\Psi$ (we use $T$ to denote the change of coordinate that we applied to simplify the system)\n",
    "\n",
    "$T^{-1}$ is the Total_inverse that we just found above."
   ]
  },
  {
   "cell_type": "code",
   "execution_count": 52,
   "id": "ce8cccfe-e080-4cce-afd7-8bdb169ad536",
   "metadata": {},
   "outputs": [
    {
     "data": {
      "text/latex": [
       "$\\displaystyle \\left[\\begin{matrix}\\frac{\\left(324 z^{5} - 1944 z^{4} - 5832 z^{3} + 209952\\right) e^{- \\frac{1}{z}}}{7 z^{10} e^{- \\frac{17 z^{2}}{12}} - 1512 z^{6} e^{- \\frac{17 z^{2}}{12}} - 972 z^{4} e^{- \\frac{17 z^{2}}{12}} + 209952 e^{- \\frac{17 z^{2}}{12}}} & \\frac{\\left(756 z^{6} - 27216 z^{3} - 5832 z^{2} + 34992 z\\right) e^{- \\frac{7}{z}}}{7 z^{10} e^{- \\frac{7 z^{2}}{12} - 5 z} - 1512 z^{6} e^{- \\frac{7 z^{2}}{12} - 5 z} - 972 z^{4} e^{- \\frac{7 z^{2}}{12} - 5 z} + 209952 e^{- \\frac{7 z^{2}}{12} - 5 z}}\\\\\\frac{\\left(- 11664 z^{3} - 34992 z^{2}\\right) e^{- \\frac{1}{z}}}{7 z^{10} e^{- \\frac{17 z^{2}}{12}} - 1512 z^{6} e^{- \\frac{17 z^{2}}{12}} - 972 z^{4} e^{- \\frac{17 z^{2}}{12}} + 209952 e^{- \\frac{17 z^{2}}{12}}} & \\frac{\\left(4536 z^{5} + 209952\\right) e^{- \\frac{7}{z}}}{7 z^{10} e^{- \\frac{7 z^{2}}{12} - 5 z} - 1512 z^{6} e^{- \\frac{7 z^{2}}{12} - 5 z} - 972 z^{4} e^{- \\frac{7 z^{2}}{12} - 5 z} + 209952 e^{- \\frac{7 z^{2}}{12} - 5 z}}\\end{matrix}\\right]$"
      ],
      "text/plain": [
       "Matrix([\n",
       "[(324*z**5 - 1944*z**4 - 5832*z**3 + 209952)*exp(-1/z)/(7*z**10*exp(-17*z**2/12) - 1512*z**6*exp(-17*z**2/12) - 972*z**4*exp(-17*z**2/12) + 209952*exp(-17*z**2/12)), (756*z**6 - 27216*z**3 - 5832*z**2 + 34992*z)*exp(-7/z)/(7*z**10*exp(-7*z**2/12 - 5*z) - 1512*z**6*exp(-7*z**2/12 - 5*z) - 972*z**4*exp(-7*z**2/12 - 5*z) + 209952*exp(-7*z**2/12 - 5*z))],\n",
       "[                 (-11664*z**3 - 34992*z**2)*exp(-1/z)/(7*z**10*exp(-17*z**2/12) - 1512*z**6*exp(-17*z**2/12) - 972*z**4*exp(-17*z**2/12) + 209952*exp(-17*z**2/12)),                          (4536*z**5 + 209952)*exp(-7/z)/(7*z**10*exp(-7*z**2/12 - 5*z) - 1512*z**6*exp(-7*z**2/12 - 5*z) - 972*z**4*exp(-7*z**2/12 - 5*z) + 209952*exp(-7*z**2/12 - 5*z))]])"
      ]
     },
     "execution_count": 52,
     "metadata": {},
     "output_type": "execute_result"
    }
   ],
   "source": [
    "T_inverse_Psi = Total_inverse * Psi_prime\n",
    "T_inverse_Psi"
   ]
  },
  {
   "cell_type": "code",
   "execution_count": 53,
   "id": "25691522-5090-4844-9b43-356c7af0f1d0",
   "metadata": {},
   "outputs": [
    {
     "data": {
      "text/latex": [
       "$\\displaystyle \\left[\\begin{matrix}\\frac{\\left(6 z^{3} \\left(z + 3\\right) \\left(7 z^{5} e^{5 u z} - 252 z^{2} e^{2 u z} - 54 z e^{u z} + 324\\right) e^{u z + \\frac{\\left(7 z^{3} e^{3 u z} + 17 z^{3} e^{u z} + 60 z^{2} e^{2 u z} + 96 e^{u z} + 12\\right) e^{- u z}}{12 z}} + \\left(7 z^{5} + 324\\right) \\left(z^{5} e^{5 u z} - 6 z^{4} e^{4 u z} - 18 z^{3} e^{3 u z} + 648\\right) e^{\\frac{\\frac{\\left(17 z^{3} e^{3 u z} + 7 z^{3} e^{u z} + 60 z^{2} e^{u z} + 12 e^{u z} + 84\\right) e^{- u z}}{12} + 1}{z}}\\right) e^{\\frac{- \\left(2 z^{3} e^{u z} + 5 z^{2} e^{u z} + 9 e^{u z} + 8\\right) e^{- u z} + 8}{z}}}{7 z^{10} e^{10 u z} - 1512 z^{6} e^{6 u z} - 972 z^{4} e^{4 u z} + 209952} & \\frac{z \\left(\\left(z^{5} - 6 z^{4} - 18 z^{3} + 648\\right) \\left(7 z^{5} e^{5 u z} - 252 z^{2} e^{2 u z} - 54 z e^{u z} + 324\\right) e^{u z + \\frac{\\left(7 z^{3} e^{3 u z} + 17 z^{3} e^{u z} + 60 z^{2} e^{2 u z} + 96 e^{u z} + 12\\right) e^{- u z}}{12 z}} - \\left(7 z^{5} - 252 z^{2} - 54 z + 324\\right) \\left(z^{5} e^{5 u z} - 6 z^{4} e^{4 u z} - 18 z^{3} e^{3 u z} + 648\\right) e^{\\frac{\\frac{\\left(17 z^{3} e^{3 u z} + 7 z^{3} e^{u z} + 60 z^{2} e^{u z} + 12 e^{u z} + 84\\right) e^{- u z}}{12} + 1}{z}}\\right) e^{\\frac{- \\left(2 z^{3} e^{u z} + 5 z^{2} e^{u z} + 9 e^{u z} + 8\\right) e^{- u z} + 8}{z}}}{6 \\left(7 z^{10} e^{10 u z} - 1512 z^{6} e^{6 u z} - 972 z^{4} e^{4 u z} + 209952\\right)}\\\\\\frac{36 z^{2} \\left(\\left(z + 3\\right) \\left(7 z^{5} e^{5 u z} + 324\\right) e^{\\frac{\\left(7 z^{3} e^{3 u z} + 17 z^{3} e^{u z} + 60 z^{2} e^{2 u z} + 96 e^{u z} + 12\\right) e^{- u z}}{12 z}} - \\left(7 z^{5} + 324\\right) \\left(z e^{u z} + 3\\right) e^{2 u z + \\frac{\\left(17 z^{3} e^{3 u z} + 7 z^{3} e^{u z} + 60 z^{2} e^{u z} + 12 e^{u z} + 84\\right) e^{- u z}}{12 z} + \\frac{1}{z}}\\right) e^{\\frac{- \\left(2 z^{3} e^{u z} + 5 z^{2} e^{u z} + 9 e^{u z} + 8\\right) e^{- u z} + 8}{z}}}{7 z^{10} e^{10 u z} - 1512 z^{6} e^{6 u z} - 972 z^{4} e^{4 u z} + 209952} & \\frac{\\left(6 z^{3} \\left(z e^{u z} + 3\\right) \\left(7 z^{5} - 252 z^{2} - 54 z + 324\\right) e^{2 u z + \\frac{\\left(17 z^{3} e^{3 u z} + 7 z^{3} e^{u z} + 60 z^{2} e^{u z} + 12 e^{u z} + 84\\right) e^{- u z}}{12 z} + \\frac{1}{z}} + \\left(7 z^{5} e^{5 u z} + 324\\right) \\left(z^{5} - 6 z^{4} - 18 z^{3} + 648\\right) e^{\\frac{\\left(7 z^{3} e^{3 u z} + 17 z^{3} e^{u z} + 60 z^{2} e^{2 u z} + 96 e^{u z} + 12\\right) e^{- u z}}{12 z}}\\right) e^{\\frac{- \\left(2 z^{3} e^{u z} + 5 z^{2} e^{u z} + 9 e^{u z} + 8\\right) e^{- u z} + 8}{z}}}{7 z^{10} e^{10 u z} - 1512 z^{6} e^{6 u z} - 972 z^{4} e^{4 u z} + 209952}\\end{matrix}\\right]$"
      ],
      "text/plain": [
       "Matrix([\n",
       "[(6*z**3*(z + 3)*(7*z**5*exp(5*u*z) - 252*z**2*exp(2*u*z) - 54*z*exp(u*z) + 324)*exp(u*z + (7*z**3*exp(3*u*z) + 17*z**3*exp(u*z) + 60*z**2*exp(2*u*z) + 96*exp(u*z) + 12)*exp(-u*z)/(12*z)) + (7*z**5 + 324)*(z**5*exp(5*u*z) - 6*z**4*exp(4*u*z) - 18*z**3*exp(3*u*z) + 648)*exp(((17*z**3*exp(3*u*z) + 7*z**3*exp(u*z) + 60*z**2*exp(u*z) + 12*exp(u*z) + 84)*exp(-u*z)/12 + 1)/z))*exp((-(2*z**3*exp(u*z) + 5*z**2*exp(u*z) + 9*exp(u*z) + 8)*exp(-u*z) + 8)/z)/(7*z**10*exp(10*u*z) - 1512*z**6*exp(6*u*z) - 972*z**4*exp(4*u*z) + 209952), z*((z**5 - 6*z**4 - 18*z**3 + 648)*(7*z**5*exp(5*u*z) - 252*z**2*exp(2*u*z) - 54*z*exp(u*z) + 324)*exp(u*z + (7*z**3*exp(3*u*z) + 17*z**3*exp(u*z) + 60*z**2*exp(2*u*z) + 96*exp(u*z) + 12)*exp(-u*z)/(12*z)) - (7*z**5 - 252*z**2 - 54*z + 324)*(z**5*exp(5*u*z) - 6*z**4*exp(4*u*z) - 18*z**3*exp(3*u*z) + 648)*exp(((17*z**3*exp(3*u*z) + 7*z**3*exp(u*z) + 60*z**2*exp(u*z) + 12*exp(u*z) + 84)*exp(-u*z)/12 + 1)/z))*exp((-(2*z**3*exp(u*z) + 5*z**2*exp(u*z) + 9*exp(u*z) + 8)*exp(-u*z) + 8)/z)/(6*(7*z**10*exp(10*u*z) - 1512*z**6*exp(6*u*z) - 972*z**4*exp(4*u*z) + 209952))],\n",
       "[                                                                                 36*z**2*((z + 3)*(7*z**5*exp(5*u*z) + 324)*exp((7*z**3*exp(3*u*z) + 17*z**3*exp(u*z) + 60*z**2*exp(2*u*z) + 96*exp(u*z) + 12)*exp(-u*z)/(12*z)) - (7*z**5 + 324)*(z*exp(u*z) + 3)*exp(2*u*z + (17*z**3*exp(3*u*z) + 7*z**3*exp(u*z) + 60*z**2*exp(u*z) + 12*exp(u*z) + 84)*exp(-u*z)/(12*z) + 1/z))*exp((-(2*z**3*exp(u*z) + 5*z**2*exp(u*z) + 9*exp(u*z) + 8)*exp(-u*z) + 8)/z)/(7*z**10*exp(10*u*z) - 1512*z**6*exp(6*u*z) - 972*z**4*exp(4*u*z) + 209952),                                                                                  (6*z**3*(z*exp(u*z) + 3)*(7*z**5 - 252*z**2 - 54*z + 324)*exp(2*u*z + (17*z**3*exp(3*u*z) + 7*z**3*exp(u*z) + 60*z**2*exp(u*z) + 12*exp(u*z) + 84)*exp(-u*z)/(12*z) + 1/z) + (7*z**5*exp(5*u*z) + 324)*(z**5 - 6*z**4 - 18*z**3 + 648)*exp((7*z**3*exp(3*u*z) + 17*z**3*exp(u*z) + 60*z**2*exp(2*u*z) + 96*exp(u*z) + 12)*exp(-u*z)/(12*z)))*exp((-(2*z**3*exp(u*z) + 5*z**2*exp(u*z) + 9*exp(u*z) + 8)*exp(-u*z) + 8)/z)/(7*z**10*exp(10*u*z) - 1512*z**6*exp(6*u*z) - 972*z**4*exp(4*u*z) + 209952)]])"
      ]
     },
     "execution_count": 53,
     "metadata": {},
     "output_type": "execute_result"
    }
   ],
   "source": [
    "Final_Phi = get_phi_from_psi(T_inverse_Psi, k)\n",
    "Final_Phi\n",
    "## This will take much long time to run."
   ]
  },
  {
   "cell_type": "markdown",
   "id": "62374c09-feec-4c84-915f-801de09e886c",
   "metadata": {},
   "source": [
    "Even though we could Finally get $\\Phi$ of the original system, which is clearly smooth, a limitation that we could optimize is its running time, yet nevertheless the computational ability has already surpassed human being."
   ]
  },
  {
   "cell_type": "code",
   "execution_count": null,
   "id": "bf18546c-2020-4688-bf19-9308fa7f7524",
   "metadata": {},
   "outputs": [],
   "source": []
  }
 ],
 "metadata": {
  "kernelspec": {
   "display_name": "base",
   "language": "python",
   "name": "python3"
  },
  "language_info": {
   "codemirror_mode": {
    "name": "ipython",
    "version": 3
   },
   "file_extension": ".py",
   "mimetype": "text/x-python",
   "name": "python",
   "nbconvert_exporter": "python",
   "pygments_lexer": "ipython3",
   "version": "3.11.7"
  }
 },
 "nbformat": 4,
 "nbformat_minor": 5
}
