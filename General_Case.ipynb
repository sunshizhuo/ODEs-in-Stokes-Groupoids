{
 "cells": [
  {
   "cell_type": "code",
   "execution_count": 6,
   "id": "bb585824-6a68-48a5-b3f0-59b1c751998c",
   "metadata": {},
   "outputs": [],
   "source": [
    "import sympy\n",
    "from sympy import Derivative, Function, Symbol, symbols, Eq, pi, cos, sin, exp, log, oo\n",
    "from sympy import Function, dsolve, Derivative, checkodesol\n",
    "from sympy import fps, Rational\n",
    "from sympy import pprint, Matrix, eye, zeros\n",
    "from sympy import Inverse\n",
    "from utils import *\n",
    "z = Symbol('z')"
   ]
  },
  {
   "cell_type": "markdown",
   "id": "32928672-8252-4cdc-8d10-4245fd374239",
   "metadata": {},
   "source": [
    "Restate the problem that we want to solve: \n",
    "\n",
    "$$z^k \\frac{d\\psi}{dz} = A(z)\\psi$$, where $\\psi$ is a vector-valued function and $A(z)$ as a given matrix-valued function is holomorphic.\n",
    "\n",
    "In the general case where we can't find it directly, we use Formal Gauge transform to simplify the system, and solve it in diagonal version. Then, $\\hat{\\Phi}(u, z) = \\hat{\\Psi}(t(u, z)) \\hat{\\Psi}^{-1}(s(u,z))$ is the formal universal solution on Sto_k, while since $\\Phi$ is unique, then this means that $\\hat{\\Phi}$ is the power series of $\\Phi$, so it must be convergent since $\\Phi$ is entire.\n",
    "\n",
    "To do the Gauge transformation, the core idea is to transfer it to the case where $z^k \\frac{d\\phi}{dz} = (D_0+zD_1+...z^{k-1}D_{k-1})\\phi$, where $D_i$ are diagonal, which can be easily solve by entries on both sides.\n",
    "\n",
    "In order to solve this problem, we first need to make a change of variables $\\psi' = F \\psi$, whereas $F = 1+zF_1 + z^2F_2 + ...$\r"
   ]
  },
  {
   "cell_type": "markdown",
   "id": "1420a2d3-90b8-4bce-a8d5-f9bd22988dd4",
   "metadata": {},
   "source": [
    "\r\n",
    "In this step, we let $F = (I+zH_1)(I+z^2H_2)...$"
   ]
  },
  {
   "cell_type": "markdown",
   "id": "8d17a385-1afe-4a63-b36a-e104b9e42c2f",
   "metadata": {},
   "source": [
    "where $H_p = \\begin{cases} {ad}^{-1}_{A_0}(A_p^{OD}) \\text{   if   } k > 1 \\\\ ({ad}_{A_0} - p)^{-1}(A_p^{OD}) \\text{    if   } k = 1  \\end{cases}$\r\n",
    "\r\n",
    "After this transform, the ODE becomes $z^k \\frac{d\\psi'}{dz} = (diagonal(A_0) + diagonal(A_1)z + ...) \\psi'$\r\n",
    "\r\n",
    "After doing this, we make the second Gauge Transform to transform it to the finite case, \r\n",
    "\r\n",
    "which is the transform $K = \\exp(-\\int{D_k+D_{k+1}z+...})$\r\n",
    "\r\n",
    "Finally, the simplified system is $z^k \\frac{d\\psi''}{dz} = (diagonal(A_0) + diagonal(A_1)z + ...+ diagonal(A_{k-1})z^{k-1}) \\psi''$\r\n",
    "\r\n",
    "and the overall Gauge transform is $(KF)$[...], and the inverse is $(KF)^{-1}$[...], so $\\psi = (KF)^{-1}[\\psi'']$\r\n",
    "\r\n",
    "After we get the fundamental solution $\\Psi$, we can construct $\\Phi$ on the Sto_k in a similar way."
   ]
  },
  {
   "cell_type": "code",
   "execution_count": null,
   "id": "40c0f077-c3b9-41cb-b4ac-c3439bca0798",
   "metadata": {},
   "outputs": [],
   "source": []
  },
  {
   "cell_type": "markdown",
   "id": "337173b1-8fa4-4309-a153-c8c511de68cc",
   "metadata": {},
   "source": [
    "Example1: \n",
    "\n",
    "$z^2 \\psi' = \\begin{pmatrix} \\cos(z)+1 & \\sin(z) \\\\ -\\sin(z) & \\cos(z) \\end{pmatrix} \\psi$ \n",
    "\n",
    "We are working on Sto_2\n",
    "\n",
    "We trancate the Gauge Transform series up to some given order "
   ]
  },
  {
   "cell_type": "code",
   "execution_count": 17,
   "id": "758d4f66-67e5-4aba-a2c5-a04875557057",
   "metadata": {},
   "outputs": [],
   "source": [
    "A = Matrix([[cos(z)+1, sin(z)], [-sin(z), cos(z)]])\n",
    "n = 2\n",
    "k = 2\n",
    "order = 5"
   ]
  },
  {
   "cell_type": "code",
   "execution_count": 19,
   "id": "f45cb6ab-5117-4265-87df-6748ae27d37c",
   "metadata": {},
   "outputs": [],
   "source": [
    "K_trunc, F_trunc, Total = get_Gauge_up_to_order(A, k, order)"
   ]
  },
  {
   "cell_type": "code",
   "execution_count": 20,
   "id": "c67c62c1-4dce-406d-8e37-cdc07910e8fb",
   "metadata": {},
   "outputs": [
    {
     "data": {
      "text/latex": [
       "$\\displaystyle \\left[\\begin{matrix}\\frac{e^{\\frac{z^{2} \\left(- 3 z^{2} + 80 z + 120\\right)}{1440}}}{2} + \\frac{e^{\\frac{z^{2} \\left(3 z^{2} + 80 z - 120\\right)}{1440}}}{2} & \\frac{e^{\\frac{z^{2} \\left(- 3 z^{2} + 80 z + 120\\right)}{1440}}}{2} - \\frac{e^{\\frac{z^{2} \\left(3 z^{2} + 80 z - 120\\right)}{1440}}}{2}\\\\\\frac{e^{\\frac{z^{2} \\left(- 3 z^{2} + 80 z + 120\\right)}{1440}}}{2} - \\frac{e^{\\frac{z^{2} \\left(3 z^{2} + 80 z - 120\\right)}{1440}}}{2} & \\frac{e^{\\frac{z^{2} \\left(- 3 z^{2} + 80 z + 120\\right)}{1440}}}{2} + \\frac{e^{\\frac{z^{2} \\left(3 z^{2} + 80 z - 120\\right)}{1440}}}{2}\\end{matrix}\\right]$"
      ],
      "text/plain": [
       "Matrix([\n",
       "[exp(z**2*(-3*z**2 + 80*z + 120)/1440)/2 + exp(z**2*(3*z**2 + 80*z - 120)/1440)/2, exp(z**2*(-3*z**2 + 80*z + 120)/1440)/2 - exp(z**2*(3*z**2 + 80*z - 120)/1440)/2],\n",
       "[exp(z**2*(-3*z**2 + 80*z + 120)/1440)/2 - exp(z**2*(3*z**2 + 80*z - 120)/1440)/2, exp(z**2*(-3*z**2 + 80*z + 120)/1440)/2 + exp(z**2*(3*z**2 + 80*z - 120)/1440)/2]])"
      ]
     },
     "execution_count": 20,
     "metadata": {},
     "output_type": "execute_result"
    }
   ],
   "source": [
    "K_trunc"
   ]
  },
  {
   "cell_type": "code",
   "execution_count": 21,
   "id": "fd517bad-da9e-4530-a675-a0d643aa056f",
   "metadata": {},
   "outputs": [
    {
     "data": {
      "text/latex": [
       "$\\displaystyle \\left[\\begin{matrix}1 - \\frac{z^{4}}{6} & - \\frac{z^{3}}{6} + z\\\\- \\frac{z^{3}}{6} + z & 1 - \\frac{z^{4}}{6}\\end{matrix}\\right]$"
      ],
      "text/plain": [
       "Matrix([\n",
       "[ 1 - z**4/6, -z**3/6 + z],\n",
       "[-z**3/6 + z,  1 - z**4/6]])"
      ]
     },
     "execution_count": 21,
     "metadata": {},
     "output_type": "execute_result"
    }
   ],
   "source": [
    "F_trunc"
   ]
  },
  {
   "cell_type": "code",
   "execution_count": 22,
   "id": "7176baa6-9c2e-4856-8d9f-0b9ca878c472",
   "metadata": {},
   "outputs": [
    {
     "data": {
      "text/latex": [
       "$\\displaystyle \\left[\\begin{matrix}- \\frac{z \\left(z^{2} - 6\\right) \\left(e^{\\frac{z^{2} \\left(- 3 z^{2} + 80 z + 120\\right)}{1440}} - e^{\\frac{z^{2} \\left(3 z^{2} + 80 z - 120\\right)}{1440}}\\right)}{12} - \\frac{\\left(z^{4} - 6\\right) \\left(e^{\\frac{z^{2} \\left(- 3 z^{2} + 80 z + 120\\right)}{1440}} + e^{\\frac{z^{2} \\left(3 z^{2} + 80 z - 120\\right)}{1440}}\\right)}{12} & - \\frac{z \\left(z^{2} - 6\\right) \\left(e^{\\frac{z^{2} \\left(- 3 z^{2} + 80 z + 120\\right)}{1440}} + e^{\\frac{z^{2} \\left(3 z^{2} + 80 z - 120\\right)}{1440}}\\right)}{12} - \\frac{\\left(z^{4} - 6\\right) \\left(e^{\\frac{z^{2} \\left(- 3 z^{2} + 80 z + 120\\right)}{1440}} - e^{\\frac{z^{2} \\left(3 z^{2} + 80 z - 120\\right)}{1440}}\\right)}{12}\\\\- \\frac{z \\left(z^{2} - 6\\right) \\left(e^{\\frac{z^{2} \\left(- 3 z^{2} + 80 z + 120\\right)}{1440}} + e^{\\frac{z^{2} \\left(3 z^{2} + 80 z - 120\\right)}{1440}}\\right)}{12} - \\frac{\\left(z^{4} - 6\\right) \\left(e^{\\frac{z^{2} \\left(- 3 z^{2} + 80 z + 120\\right)}{1440}} - e^{\\frac{z^{2} \\left(3 z^{2} + 80 z - 120\\right)}{1440}}\\right)}{12} & - \\frac{z \\left(z^{2} - 6\\right) \\left(e^{\\frac{z^{2} \\left(- 3 z^{2} + 80 z + 120\\right)}{1440}} - e^{\\frac{z^{2} \\left(3 z^{2} + 80 z - 120\\right)}{1440}}\\right)}{12} - \\frac{\\left(z^{4} - 6\\right) \\left(e^{\\frac{z^{2} \\left(- 3 z^{2} + 80 z + 120\\right)}{1440}} + e^{\\frac{z^{2} \\left(3 z^{2} + 80 z - 120\\right)}{1440}}\\right)}{12}\\end{matrix}\\right]$"
      ],
      "text/plain": [
       "Matrix([\n",
       "[-z*(z**2 - 6)*(exp(z**2*(-3*z**2 + 80*z + 120)/1440) - exp(z**2*(3*z**2 + 80*z - 120)/1440))/12 - (z**4 - 6)*(exp(z**2*(-3*z**2 + 80*z + 120)/1440) + exp(z**2*(3*z**2 + 80*z - 120)/1440))/12, -z*(z**2 - 6)*(exp(z**2*(-3*z**2 + 80*z + 120)/1440) + exp(z**2*(3*z**2 + 80*z - 120)/1440))/12 - (z**4 - 6)*(exp(z**2*(-3*z**2 + 80*z + 120)/1440) - exp(z**2*(3*z**2 + 80*z - 120)/1440))/12],\n",
       "[-z*(z**2 - 6)*(exp(z**2*(-3*z**2 + 80*z + 120)/1440) + exp(z**2*(3*z**2 + 80*z - 120)/1440))/12 - (z**4 - 6)*(exp(z**2*(-3*z**2 + 80*z + 120)/1440) - exp(z**2*(3*z**2 + 80*z - 120)/1440))/12, -z*(z**2 - 6)*(exp(z**2*(-3*z**2 + 80*z + 120)/1440) - exp(z**2*(3*z**2 + 80*z - 120)/1440))/12 - (z**4 - 6)*(exp(z**2*(-3*z**2 + 80*z + 120)/1440) + exp(z**2*(3*z**2 + 80*z - 120)/1440))/12]])"
      ]
     },
     "execution_count": 22,
     "metadata": {},
     "output_type": "execute_result"
    }
   ],
   "source": [
    "Total"
   ]
  },
  {
   "cell_type": "code",
   "execution_count": 23,
   "id": "d99fcaea-c4e3-402d-9781-003bf6dd6871",
   "metadata": {},
   "outputs": [],
   "source": [
    "Total_inverse = Total.inverse()"
   ]
  },
  {
   "cell_type": "code",
   "execution_count": 24,
   "id": "a83ed0fb-28f0-4917-8a9d-bedbe6e72729",
   "metadata": {
    "scrolled": true
   },
   "outputs": [
    {
     "data": {
      "text/latex": [
       "$\\displaystyle \\left[\\begin{matrix}\\frac{- 3 z^{8} e^{- \\frac{z^{4}}{240} + \\frac{z^{3}}{9} + \\frac{z^{2}}{6}} - 6 z^{8} e^{- \\frac{z^{4}}{480} + \\frac{z^{3}}{18} + \\frac{z^{2}}{12}} e^{\\frac{z^{4}}{480} + \\frac{z^{3}}{18} - \\frac{z^{2}}{12}} - 3 z^{8} e^{\\frac{z^{4}}{240} + \\frac{z^{3}}{9} - \\frac{z^{2}}{6}} - 6 z^{7} e^{- \\frac{z^{4}}{240} + \\frac{z^{3}}{9} + \\frac{z^{2}}{6}} + 6 z^{7} e^{\\frac{z^{4}}{240} + \\frac{z^{3}}{9} - \\frac{z^{2}}{6}} - 3 z^{6} e^{- \\frac{z^{4}}{240} + \\frac{z^{3}}{9} + \\frac{z^{2}}{6}} + 6 z^{6} e^{- \\frac{z^{4}}{480} + \\frac{z^{3}}{18} + \\frac{z^{2}}{12}} e^{\\frac{z^{4}}{480} + \\frac{z^{3}}{18} - \\frac{z^{2}}{12}} - 3 z^{6} e^{\\frac{z^{4}}{240} + \\frac{z^{3}}{9} - \\frac{z^{2}}{6}} + 36 z^{5} e^{- \\frac{z^{4}}{240} + \\frac{z^{3}}{9} + \\frac{z^{2}}{6}} - 36 z^{5} e^{\\frac{z^{4}}{240} + \\frac{z^{3}}{9} - \\frac{z^{2}}{6}} + 72 z^{4} e^{- \\frac{z^{4}}{240} + \\frac{z^{3}}{9} + \\frac{z^{2}}{6}} + 72 z^{4} e^{\\frac{z^{4}}{240} + \\frac{z^{3}}{9} - \\frac{z^{2}}{6}} + 36 z^{3} e^{- \\frac{z^{4}}{240} + \\frac{z^{3}}{9} + \\frac{z^{2}}{6}} - 36 z^{3} e^{\\frac{z^{4}}{240} + \\frac{z^{3}}{9} - \\frac{z^{2}}{6}} - 108 z^{2} e^{- \\frac{z^{4}}{240} + \\frac{z^{3}}{9} + \\frac{z^{2}}{6}} + 216 z^{2} e^{- \\frac{z^{4}}{480} + \\frac{z^{3}}{18} + \\frac{z^{2}}{12}} e^{\\frac{z^{4}}{480} + \\frac{z^{3}}{18} - \\frac{z^{2}}{12}} - 108 z^{2} e^{\\frac{z^{4}}{240} + \\frac{z^{3}}{9} - \\frac{z^{2}}{6}} - 216 z e^{- \\frac{z^{4}}{240} + \\frac{z^{3}}{9} + \\frac{z^{2}}{6}} + 216 z e^{\\frac{z^{4}}{240} + \\frac{z^{3}}{9} - \\frac{z^{2}}{6}} - 108 e^{- \\frac{z^{4}}{240} + \\frac{z^{3}}{9} + \\frac{z^{2}}{6}} - 216 e^{- \\frac{z^{4}}{480} + \\frac{z^{3}}{18} + \\frac{z^{2}}{12}} e^{\\frac{z^{4}}{480} + \\frac{z^{3}}{18} - \\frac{z^{2}}{12}} - 108 e^{\\frac{z^{4}}{240} + \\frac{z^{3}}{9} - \\frac{z^{2}}{6}}}{z^{12} e^{- \\frac{z^{4}}{240} + \\frac{z^{3}}{9} + \\frac{z^{2}}{6}} e^{\\frac{z^{4}}{480} + \\frac{z^{3}}{18} - \\frac{z^{2}}{12}} + z^{12} e^{- \\frac{z^{4}}{480} + \\frac{z^{3}}{18} + \\frac{z^{2}}{12}} e^{\\frac{z^{4}}{240} + \\frac{z^{3}}{9} - \\frac{z^{2}}{6}} + z^{11} e^{- \\frac{z^{4}}{240} + \\frac{z^{3}}{9} + \\frac{z^{2}}{6}} e^{\\frac{z^{4}}{480} + \\frac{z^{3}}{18} - \\frac{z^{2}}{12}} - z^{11} e^{- \\frac{z^{4}}{480} + \\frac{z^{3}}{18} + \\frac{z^{2}}{12}} e^{\\frac{z^{4}}{240} + \\frac{z^{3}}{9} - \\frac{z^{2}}{6}} - z^{10} e^{- \\frac{z^{4}}{240} + \\frac{z^{3}}{9} + \\frac{z^{2}}{6}} e^{\\frac{z^{4}}{480} + \\frac{z^{3}}{18} - \\frac{z^{2}}{12}} - z^{10} e^{- \\frac{z^{4}}{480} + \\frac{z^{3}}{18} + \\frac{z^{2}}{12}} e^{\\frac{z^{4}}{240} + \\frac{z^{3}}{9} - \\frac{z^{2}}{6}} - 7 z^{9} e^{- \\frac{z^{4}}{240} + \\frac{z^{3}}{9} + \\frac{z^{2}}{6}} e^{\\frac{z^{4}}{480} + \\frac{z^{3}}{18} - \\frac{z^{2}}{12}} + 7 z^{9} e^{- \\frac{z^{4}}{480} + \\frac{z^{3}}{18} + \\frac{z^{2}}{12}} e^{\\frac{z^{4}}{240} + \\frac{z^{3}}{9} - \\frac{z^{2}}{6}} - 6 z^{8} e^{- \\frac{z^{4}}{240} + \\frac{z^{3}}{9} + \\frac{z^{2}}{6}} e^{\\frac{z^{4}}{480} + \\frac{z^{3}}{18} - \\frac{z^{2}}{12}} - 6 z^{8} e^{- \\frac{z^{4}}{480} + \\frac{z^{3}}{18} + \\frac{z^{2}}{12}} e^{\\frac{z^{4}}{240} + \\frac{z^{3}}{9} - \\frac{z^{2}}{6}} + 6 z^{7} e^{- \\frac{z^{4}}{240} + \\frac{z^{3}}{9} + \\frac{z^{2}}{6}} e^{\\frac{z^{4}}{480} + \\frac{z^{3}}{18} - \\frac{z^{2}}{12}} - 6 z^{7} e^{- \\frac{z^{4}}{480} + \\frac{z^{3}}{18} + \\frac{z^{2}}{12}} e^{\\frac{z^{4}}{240} + \\frac{z^{3}}{9} - \\frac{z^{2}}{6}} - 30 z^{6} e^{- \\frac{z^{4}}{240} + \\frac{z^{3}}{9} + \\frac{z^{2}}{6}} e^{\\frac{z^{4}}{480} + \\frac{z^{3}}{18} - \\frac{z^{2}}{12}} - 30 z^{6} e^{- \\frac{z^{4}}{480} + \\frac{z^{3}}{18} + \\frac{z^{2}}{12}} e^{\\frac{z^{4}}{240} + \\frac{z^{3}}{9} - \\frac{z^{2}}{6}} - 36 z^{5} e^{- \\frac{z^{4}}{240} + \\frac{z^{3}}{9} + \\frac{z^{2}}{6}} e^{\\frac{z^{4}}{480} + \\frac{z^{3}}{18} - \\frac{z^{2}}{12}} + 36 z^{5} e^{- \\frac{z^{4}}{480} + \\frac{z^{3}}{18} + \\frac{z^{2}}{12}} e^{\\frac{z^{4}}{240} + \\frac{z^{3}}{9} - \\frac{z^{2}}{6}} + 36 z^{4} e^{- \\frac{z^{4}}{240} + \\frac{z^{3}}{9} + \\frac{z^{2}}{6}} e^{\\frac{z^{4}}{480} + \\frac{z^{3}}{18} - \\frac{z^{2}}{12}} + 36 z^{4} e^{- \\frac{z^{4}}{480} + \\frac{z^{3}}{18} + \\frac{z^{2}}{12}} e^{\\frac{z^{4}}{240} + \\frac{z^{3}}{9} - \\frac{z^{2}}{6}} + 252 z^{3} e^{- \\frac{z^{4}}{240} + \\frac{z^{3}}{9} + \\frac{z^{2}}{6}} e^{\\frac{z^{4}}{480} + \\frac{z^{3}}{18} - \\frac{z^{2}}{12}} - 252 z^{3} e^{- \\frac{z^{4}}{480} + \\frac{z^{3}}{18} + \\frac{z^{2}}{12}} e^{\\frac{z^{4}}{240} + \\frac{z^{3}}{9} - \\frac{z^{2}}{6}} + 216 z^{2} e^{- \\frac{z^{4}}{240} + \\frac{z^{3}}{9} + \\frac{z^{2}}{6}} e^{\\frac{z^{4}}{480} + \\frac{z^{3}}{18} - \\frac{z^{2}}{12}} + 216 z^{2} e^{- \\frac{z^{4}}{480} + \\frac{z^{3}}{18} + \\frac{z^{2}}{12}} e^{\\frac{z^{4}}{240} + \\frac{z^{3}}{9} - \\frac{z^{2}}{6}} - 216 z e^{- \\frac{z^{4}}{240} + \\frac{z^{3}}{9} + \\frac{z^{2}}{6}} e^{\\frac{z^{4}}{480} + \\frac{z^{3}}{18} - \\frac{z^{2}}{12}} + 216 z e^{- \\frac{z^{4}}{480} + \\frac{z^{3}}{18} + \\frac{z^{2}}{12}} e^{\\frac{z^{4}}{240} + \\frac{z^{3}}{9} - \\frac{z^{2}}{6}} - 216 e^{- \\frac{z^{4}}{240} + \\frac{z^{3}}{9} + \\frac{z^{2}}{6}} e^{\\frac{z^{4}}{480} + \\frac{z^{3}}{18} - \\frac{z^{2}}{12}} - 216 e^{- \\frac{z^{4}}{480} + \\frac{z^{3}}{18} + \\frac{z^{2}}{12}} e^{\\frac{z^{4}}{240} + \\frac{z^{3}}{9} - \\frac{z^{2}}{6}}} & \\frac{3 z^{8} e^{- \\frac{z^{4}}{240} + \\frac{z^{3}}{9} + \\frac{z^{2}}{6}} - 3 z^{8} e^{\\frac{z^{4}}{240} + \\frac{z^{3}}{9} - \\frac{z^{2}}{6}} + 6 z^{7} e^{- \\frac{z^{4}}{240} + \\frac{z^{3}}{9} + \\frac{z^{2}}{6}} + 6 z^{7} e^{\\frac{z^{4}}{240} + \\frac{z^{3}}{9} - \\frac{z^{2}}{6}} + 3 z^{6} e^{- \\frac{z^{4}}{240} + \\frac{z^{3}}{9} + \\frac{z^{2}}{6}} - 3 z^{6} e^{\\frac{z^{4}}{240} + \\frac{z^{3}}{9} - \\frac{z^{2}}{6}} - 36 z^{5} e^{- \\frac{z^{4}}{240} + \\frac{z^{3}}{9} + \\frac{z^{2}}{6}} - 36 z^{5} e^{\\frac{z^{4}}{240} + \\frac{z^{3}}{9} - \\frac{z^{2}}{6}} - 72 z^{4} e^{- \\frac{z^{4}}{240} + \\frac{z^{3}}{9} + \\frac{z^{2}}{6}} + 72 z^{4} e^{\\frac{z^{4}}{240} + \\frac{z^{3}}{9} - \\frac{z^{2}}{6}} - 36 z^{3} e^{- \\frac{z^{4}}{240} + \\frac{z^{3}}{9} + \\frac{z^{2}}{6}} - 36 z^{3} e^{\\frac{z^{4}}{240} + \\frac{z^{3}}{9} - \\frac{z^{2}}{6}} + 108 z^{2} e^{- \\frac{z^{4}}{240} + \\frac{z^{3}}{9} + \\frac{z^{2}}{6}} - 108 z^{2} e^{\\frac{z^{4}}{240} + \\frac{z^{3}}{9} - \\frac{z^{2}}{6}} + 216 z e^{- \\frac{z^{4}}{240} + \\frac{z^{3}}{9} + \\frac{z^{2}}{6}} + 216 z e^{\\frac{z^{4}}{240} + \\frac{z^{3}}{9} - \\frac{z^{2}}{6}} + 108 e^{- \\frac{z^{4}}{240} + \\frac{z^{3}}{9} + \\frac{z^{2}}{6}} - 108 e^{\\frac{z^{4}}{240} + \\frac{z^{3}}{9} - \\frac{z^{2}}{6}}}{z^{12} e^{- \\frac{z^{4}}{240} + \\frac{z^{3}}{9} + \\frac{z^{2}}{6}} e^{\\frac{z^{4}}{480} + \\frac{z^{3}}{18} - \\frac{z^{2}}{12}} + z^{12} e^{- \\frac{z^{4}}{480} + \\frac{z^{3}}{18} + \\frac{z^{2}}{12}} e^{\\frac{z^{4}}{240} + \\frac{z^{3}}{9} - \\frac{z^{2}}{6}} + z^{11} e^{- \\frac{z^{4}}{240} + \\frac{z^{3}}{9} + \\frac{z^{2}}{6}} e^{\\frac{z^{4}}{480} + \\frac{z^{3}}{18} - \\frac{z^{2}}{12}} - z^{11} e^{- \\frac{z^{4}}{480} + \\frac{z^{3}}{18} + \\frac{z^{2}}{12}} e^{\\frac{z^{4}}{240} + \\frac{z^{3}}{9} - \\frac{z^{2}}{6}} - z^{10} e^{- \\frac{z^{4}}{240} + \\frac{z^{3}}{9} + \\frac{z^{2}}{6}} e^{\\frac{z^{4}}{480} + \\frac{z^{3}}{18} - \\frac{z^{2}}{12}} - z^{10} e^{- \\frac{z^{4}}{480} + \\frac{z^{3}}{18} + \\frac{z^{2}}{12}} e^{\\frac{z^{4}}{240} + \\frac{z^{3}}{9} - \\frac{z^{2}}{6}} - 7 z^{9} e^{- \\frac{z^{4}}{240} + \\frac{z^{3}}{9} + \\frac{z^{2}}{6}} e^{\\frac{z^{4}}{480} + \\frac{z^{3}}{18} - \\frac{z^{2}}{12}} + 7 z^{9} e^{- \\frac{z^{4}}{480} + \\frac{z^{3}}{18} + \\frac{z^{2}}{12}} e^{\\frac{z^{4}}{240} + \\frac{z^{3}}{9} - \\frac{z^{2}}{6}} - 6 z^{8} e^{- \\frac{z^{4}}{240} + \\frac{z^{3}}{9} + \\frac{z^{2}}{6}} e^{\\frac{z^{4}}{480} + \\frac{z^{3}}{18} - \\frac{z^{2}}{12}} - 6 z^{8} e^{- \\frac{z^{4}}{480} + \\frac{z^{3}}{18} + \\frac{z^{2}}{12}} e^{\\frac{z^{4}}{240} + \\frac{z^{3}}{9} - \\frac{z^{2}}{6}} + 6 z^{7} e^{- \\frac{z^{4}}{240} + \\frac{z^{3}}{9} + \\frac{z^{2}}{6}} e^{\\frac{z^{4}}{480} + \\frac{z^{3}}{18} - \\frac{z^{2}}{12}} - 6 z^{7} e^{- \\frac{z^{4}}{480} + \\frac{z^{3}}{18} + \\frac{z^{2}}{12}} e^{\\frac{z^{4}}{240} + \\frac{z^{3}}{9} - \\frac{z^{2}}{6}} - 30 z^{6} e^{- \\frac{z^{4}}{240} + \\frac{z^{3}}{9} + \\frac{z^{2}}{6}} e^{\\frac{z^{4}}{480} + \\frac{z^{3}}{18} - \\frac{z^{2}}{12}} - 30 z^{6} e^{- \\frac{z^{4}}{480} + \\frac{z^{3}}{18} + \\frac{z^{2}}{12}} e^{\\frac{z^{4}}{240} + \\frac{z^{3}}{9} - \\frac{z^{2}}{6}} - 36 z^{5} e^{- \\frac{z^{4}}{240} + \\frac{z^{3}}{9} + \\frac{z^{2}}{6}} e^{\\frac{z^{4}}{480} + \\frac{z^{3}}{18} - \\frac{z^{2}}{12}} + 36 z^{5} e^{- \\frac{z^{4}}{480} + \\frac{z^{3}}{18} + \\frac{z^{2}}{12}} e^{\\frac{z^{4}}{240} + \\frac{z^{3}}{9} - \\frac{z^{2}}{6}} + 36 z^{4} e^{- \\frac{z^{4}}{240} + \\frac{z^{3}}{9} + \\frac{z^{2}}{6}} e^{\\frac{z^{4}}{480} + \\frac{z^{3}}{18} - \\frac{z^{2}}{12}} + 36 z^{4} e^{- \\frac{z^{4}}{480} + \\frac{z^{3}}{18} + \\frac{z^{2}}{12}} e^{\\frac{z^{4}}{240} + \\frac{z^{3}}{9} - \\frac{z^{2}}{6}} + 252 z^{3} e^{- \\frac{z^{4}}{240} + \\frac{z^{3}}{9} + \\frac{z^{2}}{6}} e^{\\frac{z^{4}}{480} + \\frac{z^{3}}{18} - \\frac{z^{2}}{12}} - 252 z^{3} e^{- \\frac{z^{4}}{480} + \\frac{z^{3}}{18} + \\frac{z^{2}}{12}} e^{\\frac{z^{4}}{240} + \\frac{z^{3}}{9} - \\frac{z^{2}}{6}} + 216 z^{2} e^{- \\frac{z^{4}}{240} + \\frac{z^{3}}{9} + \\frac{z^{2}}{6}} e^{\\frac{z^{4}}{480} + \\frac{z^{3}}{18} - \\frac{z^{2}}{12}} + 216 z^{2} e^{- \\frac{z^{4}}{480} + \\frac{z^{3}}{18} + \\frac{z^{2}}{12}} e^{\\frac{z^{4}}{240} + \\frac{z^{3}}{9} - \\frac{z^{2}}{6}} - 216 z e^{- \\frac{z^{4}}{240} + \\frac{z^{3}}{9} + \\frac{z^{2}}{6}} e^{\\frac{z^{4}}{480} + \\frac{z^{3}}{18} - \\frac{z^{2}}{12}} + 216 z e^{- \\frac{z^{4}}{480} + \\frac{z^{3}}{18} + \\frac{z^{2}}{12}} e^{\\frac{z^{4}}{240} + \\frac{z^{3}}{9} - \\frac{z^{2}}{6}} - 216 e^{- \\frac{z^{4}}{240} + \\frac{z^{3}}{9} + \\frac{z^{2}}{6}} e^{\\frac{z^{4}}{480} + \\frac{z^{3}}{18} - \\frac{z^{2}}{12}} - 216 e^{- \\frac{z^{4}}{480} + \\frac{z^{3}}{18} + \\frac{z^{2}}{12}} e^{\\frac{z^{4}}{240} + \\frac{z^{3}}{9} - \\frac{z^{2}}{6}}}\\\\\\frac{3 z^{4} e^{- \\frac{z^{4}}{480} + \\frac{z^{3}}{18} + \\frac{z^{2}}{12}} - 3 z^{4} e^{\\frac{z^{4}}{480} + \\frac{z^{3}}{18} - \\frac{z^{2}}{12}} + 3 z^{3} e^{- \\frac{z^{4}}{480} + \\frac{z^{3}}{18} + \\frac{z^{2}}{12}} + 3 z^{3} e^{\\frac{z^{4}}{480} + \\frac{z^{3}}{18} - \\frac{z^{2}}{12}} - 18 z e^{- \\frac{z^{4}}{480} + \\frac{z^{3}}{18} + \\frac{z^{2}}{12}} - 18 z e^{\\frac{z^{4}}{480} + \\frac{z^{3}}{18} - \\frac{z^{2}}{12}} - 18 e^{- \\frac{z^{4}}{480} + \\frac{z^{3}}{18} + \\frac{z^{2}}{12}} + 18 e^{\\frac{z^{4}}{480} + \\frac{z^{3}}{18} - \\frac{z^{2}}{12}}}{z^{8} e^{- \\frac{z^{4}}{480} + \\frac{z^{3}}{18} + \\frac{z^{2}}{12}} e^{\\frac{z^{4}}{480} + \\frac{z^{3}}{18} - \\frac{z^{2}}{12}} - z^{6} e^{- \\frac{z^{4}}{480} + \\frac{z^{3}}{18} + \\frac{z^{2}}{12}} e^{\\frac{z^{4}}{480} + \\frac{z^{3}}{18} - \\frac{z^{2}}{12}} - 36 z^{2} e^{- \\frac{z^{4}}{480} + \\frac{z^{3}}{18} + \\frac{z^{2}}{12}} e^{\\frac{z^{4}}{480} + \\frac{z^{3}}{18} - \\frac{z^{2}}{12}} + 36 e^{- \\frac{z^{4}}{480} + \\frac{z^{3}}{18} + \\frac{z^{2}}{12}} e^{\\frac{z^{4}}{480} + \\frac{z^{3}}{18} - \\frac{z^{2}}{12}}} & \\frac{- 3 z^{4} e^{- \\frac{z^{4}}{480} + \\frac{z^{3}}{18} + \\frac{z^{2}}{12}} - 3 z^{4} e^{\\frac{z^{4}}{480} + \\frac{z^{3}}{18} - \\frac{z^{2}}{12}} - 3 z^{3} e^{- \\frac{z^{4}}{480} + \\frac{z^{3}}{18} + \\frac{z^{2}}{12}} + 3 z^{3} e^{\\frac{z^{4}}{480} + \\frac{z^{3}}{18} - \\frac{z^{2}}{12}} + 18 z e^{- \\frac{z^{4}}{480} + \\frac{z^{3}}{18} + \\frac{z^{2}}{12}} - 18 z e^{\\frac{z^{4}}{480} + \\frac{z^{3}}{18} - \\frac{z^{2}}{12}} + 18 e^{- \\frac{z^{4}}{480} + \\frac{z^{3}}{18} + \\frac{z^{2}}{12}} + 18 e^{\\frac{z^{4}}{480} + \\frac{z^{3}}{18} - \\frac{z^{2}}{12}}}{z^{8} e^{- \\frac{z^{4}}{480} + \\frac{z^{3}}{18} + \\frac{z^{2}}{12}} e^{\\frac{z^{4}}{480} + \\frac{z^{3}}{18} - \\frac{z^{2}}{12}} - z^{6} e^{- \\frac{z^{4}}{480} + \\frac{z^{3}}{18} + \\frac{z^{2}}{12}} e^{\\frac{z^{4}}{480} + \\frac{z^{3}}{18} - \\frac{z^{2}}{12}} - 36 z^{2} e^{- \\frac{z^{4}}{480} + \\frac{z^{3}}{18} + \\frac{z^{2}}{12}} e^{\\frac{z^{4}}{480} + \\frac{z^{3}}{18} - \\frac{z^{2}}{12}} + 36 e^{- \\frac{z^{4}}{480} + \\frac{z^{3}}{18} + \\frac{z^{2}}{12}} e^{\\frac{z^{4}}{480} + \\frac{z^{3}}{18} - \\frac{z^{2}}{12}}}\\end{matrix}\\right]$"
      ],
      "text/plain": [
       "Matrix([\n",
       "[(-3*z**8*exp(-z**4/240 + z**3/9 + z**2/6) - 6*z**8*exp(-z**4/480 + z**3/18 + z**2/12)*exp(z**4/480 + z**3/18 - z**2/12) - 3*z**8*exp(z**4/240 + z**3/9 - z**2/6) - 6*z**7*exp(-z**4/240 + z**3/9 + z**2/6) + 6*z**7*exp(z**4/240 + z**3/9 - z**2/6) - 3*z**6*exp(-z**4/240 + z**3/9 + z**2/6) + 6*z**6*exp(-z**4/480 + z**3/18 + z**2/12)*exp(z**4/480 + z**3/18 - z**2/12) - 3*z**6*exp(z**4/240 + z**3/9 - z**2/6) + 36*z**5*exp(-z**4/240 + z**3/9 + z**2/6) - 36*z**5*exp(z**4/240 + z**3/9 - z**2/6) + 72*z**4*exp(-z**4/240 + z**3/9 + z**2/6) + 72*z**4*exp(z**4/240 + z**3/9 - z**2/6) + 36*z**3*exp(-z**4/240 + z**3/9 + z**2/6) - 36*z**3*exp(z**4/240 + z**3/9 - z**2/6) - 108*z**2*exp(-z**4/240 + z**3/9 + z**2/6) + 216*z**2*exp(-z**4/480 + z**3/18 + z**2/12)*exp(z**4/480 + z**3/18 - z**2/12) - 108*z**2*exp(z**4/240 + z**3/9 - z**2/6) - 216*z*exp(-z**4/240 + z**3/9 + z**2/6) + 216*z*exp(z**4/240 + z**3/9 - z**2/6) - 108*exp(-z**4/240 + z**3/9 + z**2/6) - 216*exp(-z**4/480 + z**3/18 + z**2/12)*exp(z**4/480 + z**3/18 - z**2/12) - 108*exp(z**4/240 + z**3/9 - z**2/6))/(z**12*exp(-z**4/240 + z**3/9 + z**2/6)*exp(z**4/480 + z**3/18 - z**2/12) + z**12*exp(-z**4/480 + z**3/18 + z**2/12)*exp(z**4/240 + z**3/9 - z**2/6) + z**11*exp(-z**4/240 + z**3/9 + z**2/6)*exp(z**4/480 + z**3/18 - z**2/12) - z**11*exp(-z**4/480 + z**3/18 + z**2/12)*exp(z**4/240 + z**3/9 - z**2/6) - z**10*exp(-z**4/240 + z**3/9 + z**2/6)*exp(z**4/480 + z**3/18 - z**2/12) - z**10*exp(-z**4/480 + z**3/18 + z**2/12)*exp(z**4/240 + z**3/9 - z**2/6) - 7*z**9*exp(-z**4/240 + z**3/9 + z**2/6)*exp(z**4/480 + z**3/18 - z**2/12) + 7*z**9*exp(-z**4/480 + z**3/18 + z**2/12)*exp(z**4/240 + z**3/9 - z**2/6) - 6*z**8*exp(-z**4/240 + z**3/9 + z**2/6)*exp(z**4/480 + z**3/18 - z**2/12) - 6*z**8*exp(-z**4/480 + z**3/18 + z**2/12)*exp(z**4/240 + z**3/9 - z**2/6) + 6*z**7*exp(-z**4/240 + z**3/9 + z**2/6)*exp(z**4/480 + z**3/18 - z**2/12) - 6*z**7*exp(-z**4/480 + z**3/18 + z**2/12)*exp(z**4/240 + z**3/9 - z**2/6) - 30*z**6*exp(-z**4/240 + z**3/9 + z**2/6)*exp(z**4/480 + z**3/18 - z**2/12) - 30*z**6*exp(-z**4/480 + z**3/18 + z**2/12)*exp(z**4/240 + z**3/9 - z**2/6) - 36*z**5*exp(-z**4/240 + z**3/9 + z**2/6)*exp(z**4/480 + z**3/18 - z**2/12) + 36*z**5*exp(-z**4/480 + z**3/18 + z**2/12)*exp(z**4/240 + z**3/9 - z**2/6) + 36*z**4*exp(-z**4/240 + z**3/9 + z**2/6)*exp(z**4/480 + z**3/18 - z**2/12) + 36*z**4*exp(-z**4/480 + z**3/18 + z**2/12)*exp(z**4/240 + z**3/9 - z**2/6) + 252*z**3*exp(-z**4/240 + z**3/9 + z**2/6)*exp(z**4/480 + z**3/18 - z**2/12) - 252*z**3*exp(-z**4/480 + z**3/18 + z**2/12)*exp(z**4/240 + z**3/9 - z**2/6) + 216*z**2*exp(-z**4/240 + z**3/9 + z**2/6)*exp(z**4/480 + z**3/18 - z**2/12) + 216*z**2*exp(-z**4/480 + z**3/18 + z**2/12)*exp(z**4/240 + z**3/9 - z**2/6) - 216*z*exp(-z**4/240 + z**3/9 + z**2/6)*exp(z**4/480 + z**3/18 - z**2/12) + 216*z*exp(-z**4/480 + z**3/18 + z**2/12)*exp(z**4/240 + z**3/9 - z**2/6) - 216*exp(-z**4/240 + z**3/9 + z**2/6)*exp(z**4/480 + z**3/18 - z**2/12) - 216*exp(-z**4/480 + z**3/18 + z**2/12)*exp(z**4/240 + z**3/9 - z**2/6)), (3*z**8*exp(-z**4/240 + z**3/9 + z**2/6) - 3*z**8*exp(z**4/240 + z**3/9 - z**2/6) + 6*z**7*exp(-z**4/240 + z**3/9 + z**2/6) + 6*z**7*exp(z**4/240 + z**3/9 - z**2/6) + 3*z**6*exp(-z**4/240 + z**3/9 + z**2/6) - 3*z**6*exp(z**4/240 + z**3/9 - z**2/6) - 36*z**5*exp(-z**4/240 + z**3/9 + z**2/6) - 36*z**5*exp(z**4/240 + z**3/9 - z**2/6) - 72*z**4*exp(-z**4/240 + z**3/9 + z**2/6) + 72*z**4*exp(z**4/240 + z**3/9 - z**2/6) - 36*z**3*exp(-z**4/240 + z**3/9 + z**2/6) - 36*z**3*exp(z**4/240 + z**3/9 - z**2/6) + 108*z**2*exp(-z**4/240 + z**3/9 + z**2/6) - 108*z**2*exp(z**4/240 + z**3/9 - z**2/6) + 216*z*exp(-z**4/240 + z**3/9 + z**2/6) + 216*z*exp(z**4/240 + z**3/9 - z**2/6) + 108*exp(-z**4/240 + z**3/9 + z**2/6) - 108*exp(z**4/240 + z**3/9 - z**2/6))/(z**12*exp(-z**4/240 + z**3/9 + z**2/6)*exp(z**4/480 + z**3/18 - z**2/12) + z**12*exp(-z**4/480 + z**3/18 + z**2/12)*exp(z**4/240 + z**3/9 - z**2/6) + z**11*exp(-z**4/240 + z**3/9 + z**2/6)*exp(z**4/480 + z**3/18 - z**2/12) - z**11*exp(-z**4/480 + z**3/18 + z**2/12)*exp(z**4/240 + z**3/9 - z**2/6) - z**10*exp(-z**4/240 + z**3/9 + z**2/6)*exp(z**4/480 + z**3/18 - z**2/12) - z**10*exp(-z**4/480 + z**3/18 + z**2/12)*exp(z**4/240 + z**3/9 - z**2/6) - 7*z**9*exp(-z**4/240 + z**3/9 + z**2/6)*exp(z**4/480 + z**3/18 - z**2/12) + 7*z**9*exp(-z**4/480 + z**3/18 + z**2/12)*exp(z**4/240 + z**3/9 - z**2/6) - 6*z**8*exp(-z**4/240 + z**3/9 + z**2/6)*exp(z**4/480 + z**3/18 - z**2/12) - 6*z**8*exp(-z**4/480 + z**3/18 + z**2/12)*exp(z**4/240 + z**3/9 - z**2/6) + 6*z**7*exp(-z**4/240 + z**3/9 + z**2/6)*exp(z**4/480 + z**3/18 - z**2/12) - 6*z**7*exp(-z**4/480 + z**3/18 + z**2/12)*exp(z**4/240 + z**3/9 - z**2/6) - 30*z**6*exp(-z**4/240 + z**3/9 + z**2/6)*exp(z**4/480 + z**3/18 - z**2/12) - 30*z**6*exp(-z**4/480 + z**3/18 + z**2/12)*exp(z**4/240 + z**3/9 - z**2/6) - 36*z**5*exp(-z**4/240 + z**3/9 + z**2/6)*exp(z**4/480 + z**3/18 - z**2/12) + 36*z**5*exp(-z**4/480 + z**3/18 + z**2/12)*exp(z**4/240 + z**3/9 - z**2/6) + 36*z**4*exp(-z**4/240 + z**3/9 + z**2/6)*exp(z**4/480 + z**3/18 - z**2/12) + 36*z**4*exp(-z**4/480 + z**3/18 + z**2/12)*exp(z**4/240 + z**3/9 - z**2/6) + 252*z**3*exp(-z**4/240 + z**3/9 + z**2/6)*exp(z**4/480 + z**3/18 - z**2/12) - 252*z**3*exp(-z**4/480 + z**3/18 + z**2/12)*exp(z**4/240 + z**3/9 - z**2/6) + 216*z**2*exp(-z**4/240 + z**3/9 + z**2/6)*exp(z**4/480 + z**3/18 - z**2/12) + 216*z**2*exp(-z**4/480 + z**3/18 + z**2/12)*exp(z**4/240 + z**3/9 - z**2/6) - 216*z*exp(-z**4/240 + z**3/9 + z**2/6)*exp(z**4/480 + z**3/18 - z**2/12) + 216*z*exp(-z**4/480 + z**3/18 + z**2/12)*exp(z**4/240 + z**3/9 - z**2/6) - 216*exp(-z**4/240 + z**3/9 + z**2/6)*exp(z**4/480 + z**3/18 - z**2/12) - 216*exp(-z**4/480 + z**3/18 + z**2/12)*exp(z**4/240 + z**3/9 - z**2/6))],\n",
       "[                                                                                                                                                                                                                                                                                                                                                                                                                                                                                                                                                                                                                                                                                                                                                                                                                                                                                                                                                                                                                                                                                                                                                                                                                                                                                                                                                                                                                                                                                                                                                                                                                                                                                                                                                                                                                                                                                                                                                                                                                                                                                                                                                                                                                                                                                                                                                                                                                                                                                            (3*z**4*exp(-z**4/480 + z**3/18 + z**2/12) - 3*z**4*exp(z**4/480 + z**3/18 - z**2/12) + 3*z**3*exp(-z**4/480 + z**3/18 + z**2/12) + 3*z**3*exp(z**4/480 + z**3/18 - z**2/12) - 18*z*exp(-z**4/480 + z**3/18 + z**2/12) - 18*z*exp(z**4/480 + z**3/18 - z**2/12) - 18*exp(-z**4/480 + z**3/18 + z**2/12) + 18*exp(z**4/480 + z**3/18 - z**2/12))/(z**8*exp(-z**4/480 + z**3/18 + z**2/12)*exp(z**4/480 + z**3/18 - z**2/12) - z**6*exp(-z**4/480 + z**3/18 + z**2/12)*exp(z**4/480 + z**3/18 - z**2/12) - 36*z**2*exp(-z**4/480 + z**3/18 + z**2/12)*exp(z**4/480 + z**3/18 - z**2/12) + 36*exp(-z**4/480 + z**3/18 + z**2/12)*exp(z**4/480 + z**3/18 - z**2/12)),                                                                                                                                                                                                                                                                                                                                                                                                                                                                                                                                                                                                                                                                                                                                                                                                                                                                                                                                                                                                                                                                                                                                                                                                                                                                                                                                                                                                                                                                                                                                                                                                                                                                                                                                                                                                                                                                                                                                                                                                                                                                                                                                                                    (-3*z**4*exp(-z**4/480 + z**3/18 + z**2/12) - 3*z**4*exp(z**4/480 + z**3/18 - z**2/12) - 3*z**3*exp(-z**4/480 + z**3/18 + z**2/12) + 3*z**3*exp(z**4/480 + z**3/18 - z**2/12) + 18*z*exp(-z**4/480 + z**3/18 + z**2/12) - 18*z*exp(z**4/480 + z**3/18 - z**2/12) + 18*exp(-z**4/480 + z**3/18 + z**2/12) + 18*exp(z**4/480 + z**3/18 - z**2/12))/(z**8*exp(-z**4/480 + z**3/18 + z**2/12)*exp(z**4/480 + z**3/18 - z**2/12) - z**6*exp(-z**4/480 + z**3/18 + z**2/12)*exp(z**4/480 + z**3/18 - z**2/12) - 36*z**2*exp(-z**4/480 + z**3/18 + z**2/12)*exp(z**4/480 + z**3/18 - z**2/12) + 36*exp(-z**4/480 + z**3/18 + z**2/12)*exp(z**4/480 + z**3/18 - z**2/12))]])"
      ]
     },
     "execution_count": 24,
     "metadata": {},
     "output_type": "execute_result"
    }
   ],
   "source": [
    "Total_inverse"
   ]
  },
  {
   "cell_type": "markdown",
   "id": "c903c448-0e11-4798-bf2c-2ab58dda9b9d",
   "metadata": {},
   "source": [
    "Note that Gauge Transform is a group action, meaning that $F_1[F_2[A]] = (F_1F_2)[A]$ so the inverse Gauge Transform is the Gauge Transform of the inverse Matrix, and composed Gauge Transform is the transform of the product Matrix."
   ]
  },
  {
   "cell_type": "markdown",
   "id": "a8a0a7d8-9ef7-4aed-b929-61d27694a4a2",
   "metadata": {},
   "source": [
    "Finally, the equation is $z^k \\psi' = diag(A_0) + diag(A_1)z + ... + diag(A_{k-1})z^{k-1}$"
   ]
  },
  {
   "cell_type": "code",
   "execution_count": 37,
   "id": "65c2241f-577a-492b-95d3-9f121c7df82d",
   "metadata": {},
   "outputs": [],
   "source": [
    "Psi, Phi = solve_phi(k, A)"
   ]
  },
  {
   "cell_type": "code",
   "execution_count": 38,
   "id": "b2a71d80-f214-4e8d-9ce3-05216404a141",
   "metadata": {},
   "outputs": [
    {
     "data": {
      "text/latex": [
       "$\\displaystyle \\left[\\begin{matrix}e^{- \\frac{2}{z}} & 0\\\\0 & e^{- \\frac{1}{z}}\\end{matrix}\\right]$"
      ],
      "text/plain": [
       "Matrix([\n",
       "[exp(-2/z),         0],\n",
       "[        0, exp(-1/z)]])"
      ]
     },
     "execution_count": 38,
     "metadata": {},
     "output_type": "execute_result"
    }
   ],
   "source": [
    "Psi"
   ]
  },
  {
   "cell_type": "code",
   "execution_count": 39,
   "id": "5f18b2d9-14b8-4e91-bc5f-f64aefc726d1",
   "metadata": {},
   "outputs": [
    {
     "data": {
      "text/latex": [
       "$\\displaystyle \\left[\\begin{matrix}e^{\\frac{2 \\left(1 - e^{- u z}\\right)}{z}} & 0\\\\0 & e^{\\frac{1 - e^{- u z}}{z}}\\end{matrix}\\right]$"
      ],
      "text/plain": [
       "Matrix([\n",
       "[exp(2*(1 - exp(-u*z))/z),                      0],\n",
       "[                       0, exp((1 - exp(-u*z))/z)]])"
      ]
     },
     "execution_count": 39,
     "metadata": {},
     "output_type": "execute_result"
    }
   ],
   "source": [
    "Phi"
   ]
  },
  {
   "cell_type": "markdown",
   "id": "86c61fd3-fc32-432f-9679-495cbc41e3d9",
   "metadata": {},
   "source": [
    "The final solution is $T^{-1}[\\Psi]$ (we use $T$ to denote the total Gauge Transform that we applied to simplify the system)\n",
    "\n",
    "$T^{-1}$ is the Total_inverse that we just found above."
   ]
  },
  {
   "cell_type": "code",
   "execution_count": null,
   "id": "3deced74-ab3d-45a9-bacd-112acff9357a",
   "metadata": {},
   "outputs": [],
   "source": []
  },
  {
   "cell_type": "code",
   "execution_count": null,
   "id": "ebfaf14c-2b74-4410-abf8-a8e1b8f34bd7",
   "metadata": {},
   "outputs": [],
   "source": []
  },
  {
   "cell_type": "markdown",
   "id": "50d1a147-2f04-42e0-b910-82e51b930c9d",
   "metadata": {},
   "source": [
    "Example2: \n",
    "\n",
    "$z^2 \\psi' = \\begin{pmatrix} z^4+3z^3+1 & z \\\\ z^2 & z^3+5z^2+7 \\end{pmatrix} \\psi$ \n",
    "\n",
    "We are working on Sto_2\n",
    "\n",
    "We trancate the Gauge Transform series up to some given order "
   ]
  },
  {
   "cell_type": "code",
   "execution_count": 43,
   "id": "f41231d6-60b5-4d18-87b8-c20f25a5de2a",
   "metadata": {},
   "outputs": [],
   "source": [
    "A = Matrix([[z**4+3*z**3+1, z], [z**2, z**3+5*z**2+7]])\n",
    "n = 2\n",
    "k = 2\n",
    "order = 10"
   ]
  },
  {
   "cell_type": "code",
   "execution_count": 45,
   "id": "88ea6cf1-d4dc-4ab1-822f-9c0541ecc518",
   "metadata": {},
   "outputs": [],
   "source": [
    "K_trunc, F_trunc, Total = get_Gauge_up_to_order(A, k, order)"
   ]
  },
  {
   "cell_type": "code",
   "execution_count": 46,
   "id": "9ec6f01c-2786-4836-b2f4-93b91008ee16",
   "metadata": {},
   "outputs": [
    {
     "data": {
      "text/latex": [
       "$\\displaystyle \\left[\\begin{matrix}\\frac{\\left(36 - z^{3}\\right) e^{\\frac{z^{2}}{72}}}{36} & - \\frac{z e^{\\frac{z^{2}}{72}}}{6}\\\\\\frac{z^{3} - 2 \\left(1 - e^{\\frac{z^{2}}{72}}\\right) \\left(z^{3} - 36\\right)}{6 z} & 2 e^{\\frac{z^{2}}{72}} - 1\\end{matrix}\\right]$"
      ],
      "text/plain": [
       "Matrix([\n",
       "[                    (36 - z**3)*exp(z**2/72)/36,  -z*exp(z**2/72)/6],\n",
       "[(z**3 - 2*(1 - exp(z**2/72))*(z**3 - 36))/(6*z), 2*exp(z**2/72) - 1]])"
      ]
     },
     "execution_count": 46,
     "metadata": {},
     "output_type": "execute_result"
    }
   ],
   "source": [
    "Total"
   ]
  },
  {
   "cell_type": "code",
   "execution_count": 47,
   "id": "a2324c3e-dcdc-41bd-89c1-1873862d7e8a",
   "metadata": {},
   "outputs": [],
   "source": [
    "Total_inverse = Total.inverse()"
   ]
  },
  {
   "cell_type": "code",
   "execution_count": 48,
   "id": "c280d8ad-dfa5-4992-8862-ac6f2a44ebc7",
   "metadata": {},
   "outputs": [
    {
     "data": {
      "text/latex": [
       "$\\displaystyle \\left[\\begin{matrix}\\left(- e^{\\frac{z^{2}}{72}} + 2 e^{\\frac{z^{2}}{36}}\\right) e^{- \\frac{z^{2}}{36}} & \\frac{z}{6}\\\\\\frac{- 2 z^{3} + z^{3} e^{- \\frac{z^{2}}{72}} + 72 - 72 e^{- \\frac{z^{2}}{72}}}{6 z} & 1 - \\frac{z^{3}}{36}\\end{matrix}\\right]$"
      ],
      "text/plain": [
       "Matrix([\n",
       "[              (-exp(z**2/72) + 2*exp(z**2/36))*exp(-z**2/36),         z/6],\n",
       "[(-2*z**3 + z**3*exp(-z**2/72) + 72 - 72*exp(-z**2/72))/(6*z), 1 - z**3/36]])"
      ]
     },
     "execution_count": 48,
     "metadata": {},
     "output_type": "execute_result"
    }
   ],
   "source": [
    "Total_inverse"
   ]
  },
  {
   "cell_type": "markdown",
   "id": "a4eaa4ae-e45c-42ab-97ba-89f6876e2caa",
   "metadata": {},
   "source": [
    "Note that Gauge Transform is a group action, meaning that $F_1[F_2[A]] = (F_1F_2)[A]$ so the inverse Gauge Transform is the Gauge Transform of the inverse Matrix, and composed Gauge Transform is the transform of the product Matrix."
   ]
  },
  {
   "cell_type": "markdown",
   "id": "2ab94876-eafd-4dc7-9422-97e018d5b272",
   "metadata": {},
   "source": [
    "Finally, the equation is $z^k \\psi' = diag(A_0) + diag(A_1)z + ... + diag(A_{k-1})z^{k-1}$"
   ]
  },
  {
   "cell_type": "code",
   "execution_count": 53,
   "id": "668e627a-a907-46f2-a5c1-7b4718c37f4c",
   "metadata": {},
   "outputs": [],
   "source": [
    "Psi, Phi = solve_phi(k, A)"
   ]
  },
  {
   "cell_type": "code",
   "execution_count": 54,
   "id": "4095d309-97b0-4181-aa83-e56283781d50",
   "metadata": {},
   "outputs": [
    {
     "data": {
      "text/latex": [
       "$\\displaystyle \\left[\\begin{matrix}e^{- \\frac{1}{z}} & 0\\\\0 & e^{- \\frac{7}{z}}\\end{matrix}\\right]$"
      ],
      "text/plain": [
       "Matrix([\n",
       "[exp(-1/z),         0],\n",
       "[        0, exp(-7/z)]])"
      ]
     },
     "execution_count": 54,
     "metadata": {},
     "output_type": "execute_result"
    }
   ],
   "source": [
    "Psi"
   ]
  },
  {
   "cell_type": "code",
   "execution_count": 55,
   "id": "11f70b8c-aeb0-45f9-bee4-3aaa8817e236",
   "metadata": {},
   "outputs": [
    {
     "data": {
      "text/latex": [
       "$\\displaystyle \\left[\\begin{matrix}e^{\\frac{1 - e^{- u z}}{z}} & 0\\\\0 & e^{\\frac{7 \\left(1 - e^{- u z}\\right)}{z}}\\end{matrix}\\right]$"
      ],
      "text/plain": [
       "Matrix([\n",
       "[exp((1 - exp(-u*z))/z),                        0],\n",
       "[                     0, exp(7*(1 - exp(-u*z))/z)]])"
      ]
     },
     "execution_count": 55,
     "metadata": {},
     "output_type": "execute_result"
    }
   ],
   "source": [
    "Phi"
   ]
  },
  {
   "cell_type": "markdown",
   "id": "b1e7ac6c-7ca3-4c7a-91dc-5d76c113a9b4",
   "metadata": {},
   "source": [
    "The final solution is $T^{-1}[\\Psi]$ (we use $T$ to denote the total Gauge Transform that we applied to simplify the system)\n",
    "\n",
    "$T^{-1}$ is the Total_inverse that we just found above."
   ]
  },
  {
   "cell_type": "code",
   "execution_count": 59,
   "id": "7bd3eb51-c5b2-413c-abcf-56903e5f9e0a",
   "metadata": {},
   "outputs": [],
   "source": [
    "T_inverse_Psi = (Total * Psi + Derivative(Total, z).simplify() * z**k) * Total_inverse \n",
    "T_inverse_Psi = T_inverse_Psi.simplify()"
   ]
  },
  {
   "cell_type": "code",
   "execution_count": 60,
   "id": "ce8cccfe-e080-4cce-afd7-8bdb169ad536",
   "metadata": {},
   "outputs": [
    {
     "data": {
      "text/latex": [
       "$\\displaystyle \\left[\\begin{matrix}\\frac{\\left(\\left(z \\left(z^{2} + 36\\right) e^{\\frac{7}{z}} + 36\\right) \\left(- z^{3} + 2 \\left(z^{3} - 36\\right) e^{\\frac{z^{2}}{72}} + 72\\right) e^{\\frac{z^{3} + 36}{36 z}} + \\left(e^{\\frac{z^{2}}{72}} - 2 e^{\\frac{z^{2}}{36}}\\right) \\left(z^{3} \\left(z^{3} + 108 z - 36\\right) e^{\\frac{1}{z}} + 36 z^{3} - 1296\\right) e^{\\frac{z^{3} + 504}{72 z}}\\right) e^{\\frac{z^{2}}{72} - \\frac{z^{3} + 192}{24 z}}}{1296} & \\frac{z \\left(- 2 z^{4} e^{\\frac{7}{z}} - z^{3} e^{\\frac{6}{z}} + z^{3} - 36 z e^{\\frac{7}{z}} + 36 e^{\\frac{6}{z}} - 36\\right) e^{\\frac{z^{2}}{72} - \\frac{7}{z}}}{216}\\\\- \\frac{\\left(\\left(e^{\\frac{z^{2}}{72}} - 2 e^{\\frac{z^{2}}{36}}\\right) \\left(18 z^{3} - z \\left(18 z^{3} - z^{2} \\left(108 z \\left(e^{\\frac{z^{2}}{72}} - 1\\right) + 54 z + \\left(z^{3} - 36\\right) e^{\\frac{z^{2}}{72}}\\right) + 36 \\left(z^{3} - 36\\right) \\left(e^{\\frac{z^{2}}{72}} - 1\\right)\\right) e^{\\frac{1}{z}} + 36 \\left(z^{3} - 36\\right) \\left(e^{\\frac{z^{2}}{72}} - 1\\right)\\right) e^{\\frac{z^{3} + 504}{72 z}} + \\left(- z^{3} + 2 \\left(z^{3} - 36\\right) e^{\\frac{z^{2}}{72}} + 72\\right) \\left(z^{3} e^{\\frac{z^{3} + 504}{72 z}} + 36 e^{\\frac{z^{2}}{72}} - 18\\right) e^{\\frac{z^{3} + 36}{36 z}}\\right) e^{- \\frac{z^{3} + 192}{24 z}}}{108 z} & \\frac{\\left(- \\left(z^{3} - 36\\right) \\left(z^{3} e^{\\frac{z^{3} + 504}{72 z}} + 36 e^{\\frac{z^{2}}{72}} - 18\\right) + \\left(18 z^{3} + z \\left(- 18 z^{3} + z^{2} \\left(- 108 z \\left(1 - e^{\\frac{z^{2}}{72}}\\right) + 54 z + \\left(z^{3} - 36\\right) e^{\\frac{z^{2}}{72}}\\right) + 36 \\left(1 - e^{\\frac{z^{2}}{72}}\\right) \\left(z^{3} - 36\\right)\\right) e^{\\frac{1}{z}} - 36 \\left(1 - e^{\\frac{z^{2}}{72}}\\right) \\left(z^{3} - 36\\right)\\right) e^{\\frac{6}{z}}\\right) e^{- \\frac{7}{z}}}{648}\\end{matrix}\\right]$"
      ],
      "text/plain": [
       "Matrix([\n",
       "[                                                                                                                                            ((z*(z**2 + 36)*exp(7/z) + 36)*(-z**3 + 2*(z**3 - 36)*exp(z**2/72) + 72)*exp((z**3 + 36)/(36*z)) + (exp(z**2/72) - 2*exp(z**2/36))*(z**3*(z**3 + 108*z - 36)*exp(1/z) + 36*z**3 - 1296)*exp((z**3 + 504)/(72*z)))*exp(z**2/72 - (z**3 + 192)/(24*z))/1296,                                                                                                                                                                         z*(-2*z**4*exp(7/z) - z**3*exp(6/z) + z**3 - 36*z*exp(7/z) + 36*exp(6/z) - 36)*exp(z**2/72 - 7/z)/216],\n",
       "[-((exp(z**2/72) - 2*exp(z**2/36))*(18*z**3 - z*(18*z**3 - z**2*(108*z*(exp(z**2/72) - 1) + 54*z + (z**3 - 36)*exp(z**2/72)) + 36*(z**3 - 36)*(exp(z**2/72) - 1))*exp(1/z) + 36*(z**3 - 36)*(exp(z**2/72) - 1))*exp((z**3 + 504)/(72*z)) + (-z**3 + 2*(z**3 - 36)*exp(z**2/72) + 72)*(z**3*exp((z**3 + 504)/(72*z)) + 36*exp(z**2/72) - 18)*exp((z**3 + 36)/(36*z)))*exp(-(z**3 + 192)/(24*z))/(108*z), (-(z**3 - 36)*(z**3*exp((z**3 + 504)/(72*z)) + 36*exp(z**2/72) - 18) + (18*z**3 + z*(-18*z**3 + z**2*(-108*z*(1 - exp(z**2/72)) + 54*z + (z**3 - 36)*exp(z**2/72)) + 36*(1 - exp(z**2/72))*(z**3 - 36))*exp(1/z) - 36*(1 - exp(z**2/72))*(z**3 - 36))*exp(6/z))*exp(-7/z)/648]])"
      ]
     },
     "execution_count": 60,
     "metadata": {},
     "output_type": "execute_result"
    }
   ],
   "source": [
    "T_inverse_Psi"
   ]
  },
  {
   "cell_type": "code",
   "execution_count": null,
   "id": "25691522-5090-4844-9b43-356c7af0f1d0",
   "metadata": {},
   "outputs": [],
   "source": [
    "Final_Phi = get_phi_from_psi(T_inverse_Psi, k)\n",
    "## This will take much long time to run."
   ]
  },
  {
   "cell_type": "code",
   "execution_count": null,
   "id": "6a052a7f-3514-460e-b125-71f105ec9e31",
   "metadata": {},
   "outputs": [],
   "source": [
    "Final_Phi"
   ]
  },
  {
   "cell_type": "markdown",
   "id": "62374c09-feec-4c84-915f-801de09e886c",
   "metadata": {},
   "source": [
    "Even though we could Finally get $\\Phi$ of the original system, the last step will taks too much time to compute, which is a limitation that we could optimize, yet nevertheless the computational ability has already surpassed human being."
   ]
  },
  {
   "cell_type": "code",
   "execution_count": null,
   "id": "bf18546c-2020-4688-bf19-9308fa7f7524",
   "metadata": {},
   "outputs": [],
   "source": []
  },
  {
   "cell_type": "code",
   "execution_count": null,
   "id": "2e4d0585-760d-45db-9457-049eb12554d7",
   "metadata": {},
   "outputs": [],
   "source": []
  },
  {
   "cell_type": "code",
   "execution_count": null,
   "id": "3024375d-5a67-4e9a-b500-f68f56074cba",
   "metadata": {},
   "outputs": [],
   "source": []
  },
  {
   "cell_type": "code",
   "execution_count": null,
   "id": "04df8fda-0933-40f0-acab-e829671d95ce",
   "metadata": {},
   "outputs": [],
   "source": []
  },
  {
   "cell_type": "code",
   "execution_count": null,
   "id": "ddd75553-6988-4b67-b3ad-c1f532af5229",
   "metadata": {},
   "outputs": [],
   "source": []
  },
  {
   "cell_type": "code",
   "execution_count": null,
   "id": "1571ea2a-93f6-4894-92e3-9a1f8793a353",
   "metadata": {},
   "outputs": [],
   "source": []
  },
  {
   "cell_type": "code",
   "execution_count": null,
   "id": "524c4a4d-8c18-485d-96ee-68eefe60384e",
   "metadata": {},
   "outputs": [],
   "source": []
  }
 ],
 "metadata": {
  "kernelspec": {
   "display_name": "Python 3 (ipykernel)",
   "language": "python",
   "name": "python3"
  },
  "language_info": {
   "codemirror_mode": {
    "name": "ipython",
    "version": 3
   },
   "file_extension": ".py",
   "mimetype": "text/x-python",
   "name": "python",
   "nbconvert_exporter": "python",
   "pygments_lexer": "ipython3",
   "version": "3.11.7"
  }
 },
 "nbformat": 4,
 "nbformat_minor": 5
}
