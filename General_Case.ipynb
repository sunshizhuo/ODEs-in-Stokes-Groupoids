{
 "cells": [
  {
   "cell_type": "code",
   "execution_count": 1,
   "id": "c5d9e460",
   "metadata": {},
   "outputs": [],
   "source": [
    "import sympy\n",
    "from sympy import Derivative, Function, Symbol, symbols, Eq, pi, cos, sin, exp, log, oo\n",
    "from sympy import Function, dsolve, Derivative, checkodesol\n",
    "from sympy import fps, Rational\n",
    "from sympy import pprint, Matrix, eye, zeros\n",
    "from sympy import Inverse\n",
    "from utils import *\n",
    "z = Symbol('z')"
   ]
  },
  {
   "cell_type": "code",
   "execution_count": null,
   "id": "841c4869",
   "metadata": {},
   "outputs": [],
   "source": []
  },
  {
   "cell_type": "code",
   "execution_count": null,
   "id": "c51444d8",
   "metadata": {},
   "outputs": [],
   "source": []
  },
  {
   "cell_type": "code",
   "execution_count": null,
   "id": "ee9de049",
   "metadata": {},
   "outputs": [],
   "source": []
  }
 ],
 "metadata": {
  "kernelspec": {
   "display_name": "base",
   "language": "python",
   "name": "python3"
  },
  "language_info": {
   "codemirror_mode": {
    "name": "ipython",
    "version": 3
   },
   "file_extension": ".py",
   "mimetype": "text/x-python",
   "name": "python",
   "nbconvert_exporter": "python",
   "pygments_lexer": "ipython3",
   "version": "3.11.7"
  }
 },
 "nbformat": 4,
 "nbformat_minor": 5
}
